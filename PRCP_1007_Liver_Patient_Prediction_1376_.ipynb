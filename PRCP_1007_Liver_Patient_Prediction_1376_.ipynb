{
  "nbformat": 4,
  "nbformat_minor": 0,
  "metadata": {
    "colab": {
      "provenance": []
    },
    "kernelspec": {
      "name": "python3",
      "display_name": "Python 3"
    },
    "language_info": {
      "name": "python"
    }
  },
  "cells": [
    {
      "cell_type": "markdown",
      "source": [
        "\n",
        "\n",
        "## Project Title :- Liver Patient Prediction"
      ],
      "metadata": {
        "id": "gAORsLSWAK7p"
      }
    },
    {
      "cell_type": "markdown",
      "source": [
        "## Team id :- PTID-CDS-SEP-22-1376"
      ],
      "metadata": {
        "id": "tbQZjL26AraV"
      }
    },
    {
      "cell_type": "markdown",
      "source": [
        "# Contents\n",
        "1.   Introduction\n",
        "2.   Problem Statement\n",
        "3.   Background of the Project\n",
        "4.   Problem Statement\n",
        "5.   Importing Libraries\n",
        "6.   Loading the Data\n",
        "7.   Domain Analysis\n",
        "8.   Basic Checks\n",
        "9.   Exploratory Data Analysis\n",
        "     - Univariate Analysis\n",
        "     - Bivariate Analysis\n",
        "     - Multivariate Analysis\n",
        "10.   Data Preprocessing\n",
        "     - Handling Duplicates\n",
        "     - Handling Missing Values\n",
        "     - Handling Outliers\n",
        "     - Spliting The data into X and Y\n",
        "     - Balancing Data\n",
        "     - Encoding Categorical Variables using One Hot Encoding\n",
        "     - Feature Scaling\n",
        "11.   Model Selection\n",
        "     - Importing Models\n",
        "     - Training models with the Data and\n",
        "       Selecting the best model with the help of CV Score\n",
        "12.  Logistic Regression \n",
        "  `  \n",
        "  - Model Training    \n",
        "  - Model Evaluation \n",
        "  - Hypertuning the Model\n",
        "  - Evaluation of the Hypertuned Model\n",
        "13. SVC \n",
        "  `  \n",
        "  - Model Training    \n",
        "  - Model Evaluation \n",
        "  - Hypertuning the Model\n",
        "  - Evaluation of the Hypertuned Model\n",
        "14. Random Forest Classifier\n",
        "  `  \n",
        "  - Model Training    \n",
        "  - Model Evaluation \n",
        "  - Hypertuning the Model\n",
        "  - Evaluation of the Hypertuned Model\n",
        "15.  Conclusion\n",
        "\n",
        "\n",
        "\n"
      ],
      "metadata": {
        "id": "f2l0_Cw5AyLP"
      }
    },
    {
      "cell_type": "markdown",
      "source": [
        "#1. Introduction\n",
        "\n",
        "Patients with Liver disease have been continuously increasing because of excessive consumption of alcohol, inhale of harmful gases, intake of contaminated food, pickles and drugs. This dataset was used to evaluate prediction algorithms in an effort to reduce burden on doctors."
      ],
      "metadata": {
        "id": "aC9h9OYt5cIc"
      }
    },
    {
      "cell_type": "markdown",
      "source": [
        "# 2. Problem Statement\n",
        "\n",
        "Task 1:-Prepare a complete data analysis report on the given data.\n",
        "\n",
        "Task 2:-Create a predictive model with implementation of  different classifiers on liver patient diseases dataset to predict liver diseases.\n",
        "\n",
        "\n",
        "\n"
      ],
      "metadata": {
        "id": "gINt3P0U5l6K"
      }
    },
    {
      "cell_type": "markdown",
      "source": [
        "#3. Background of the Project\n",
        "\n",
        "This data set contains 416 liver patient records and 167 non liver patient records collected from India. The \"Target\" column is a class label used to divide groups into liver patients (liver disease) or not (no disease). This data set contains 441 male patient records and 142 female patient records.\n"
      ],
      "metadata": {
        "id": "opFDxH2Hkvie"
      }
    },
    {
      "cell_type": "markdown",
      "source": [
        "#4. Problem Statement"
      ],
      "metadata": {
        "id": "UQjaVDnVlbzD"
      }
    },
    {
      "cell_type": "markdown",
      "source": [
        "By using these patient records to determine which patients have liver disease and which ones do not."
      ],
      "metadata": {
        "id": "Qs4Fnm7olicG"
      }
    },
    {
      "cell_type": "markdown",
      "source": [
        "#5. Importing Libraries"
      ],
      "metadata": {
        "id": "pQff2EodlnyC"
      }
    },
    {
      "cell_type": "code",
      "execution_count": null,
      "metadata": {
        "id": "djSqOu8Sbqg5"
      },
      "outputs": [],
      "source": [
        "import pandas as pd\n",
        "import numpy as np \n",
        "import matplotlib.pyplot as plt\n",
        "import seaborn as sns\n",
        "%matplotlib inline"
      ]
    },
    {
      "cell_type": "markdown",
      "source": [
        "#6 Loading the Data"
      ],
      "metadata": {
        "id": "maoXXp0FlvOt"
      }
    },
    {
      "cell_type": "code",
      "source": [
        "df = pd.read_excel(\"/content/drive/MyDrive/Colab Notebooks/Liver Patient Prediction/ILPD.xlsx.xlsx\")"
      ],
      "metadata": {
        "id": "SwKDTjQJc2Eq"
      },
      "execution_count": null,
      "outputs": []
    },
    {
      "cell_type": "code",
      "source": [
        "df"
      ],
      "metadata": {
        "colab": {
          "base_uri": "https://localhost:8080/",
          "height": 485
        },
        "id": "eCoMKJtNdTYq",
        "outputId": "cd232858-0aec-4a0e-8f43-5fc848fab397"
      },
      "execution_count": null,
      "outputs": [
        {
          "output_type": "execute_result",
          "data": {
            "text/plain": [
              "      Age Gender   Total Bilirubin  Direct Bilirubin\\n  \\\n",
              "0    65.0  Female              0.7                 0.1   \n",
              "1    62.0    Male             10.9                 5.5   \n",
              "2    62.0    Male              7.3                 4.1   \n",
              "3    58.0    Male              1.0                 0.4   \n",
              "4    72.0    Male              3.9                 2.0   \n",
              "..    ...     ...              ...                 ...   \n",
              "578  60.0    Male              0.5                 0.1   \n",
              "579  40.0    Male              0.6                 0.1   \n",
              "580  52.0    Male              0.8                 0.2   \n",
              "581  31.0    Male              1.3                 0.5   \n",
              "582  38.0    Male              1.0                 0.3   \n",
              "\n",
              "     Alkaline Phosphotase\\n  Alamine Aminotransferase\\n  \\\n",
              "0                     187.0                        16.0   \n",
              "1                     699.0                        64.0   \n",
              "2                     490.0                        60.0   \n",
              "3                     182.0                        14.0   \n",
              "4                     195.0                        27.0   \n",
              "..                      ...                         ...   \n",
              "578                   500.0                        20.0   \n",
              "579                    98.0                        35.0   \n",
              "580                   245.0                        48.0   \n",
              "581                   184.0                        29.0   \n",
              "582                   216.0                        21.0   \n",
              "\n",
              "     Aspartate Aminotransferase  Total Protiens\\n  Albumin  \\\n",
              "0                          18.0               6.8      3.3   \n",
              "1                         100.0               7.5      3.2   \n",
              "2                          68.0               7.0      3.3   \n",
              "3                          20.0               6.8      3.4   \n",
              "4                          59.0               7.3      2.4   \n",
              "..                          ...               ...      ...   \n",
              "578                        34.0               5.9      1.6   \n",
              "579                        31.0               6.0      3.2   \n",
              "580                        49.0               6.4      3.2   \n",
              "581                        32.0               6.8      3.4   \n",
              "582                        24.0               7.3      4.4   \n",
              "\n",
              "     Albumin and Globulin Ratio\\n  Target  \n",
              "0                            0.90     1.0  \n",
              "1                            0.74     1.0  \n",
              "2                            0.89     1.0  \n",
              "3                            1.00     1.0  \n",
              "4                            0.40     1.0  \n",
              "..                            ...     ...  \n",
              "578                          0.37     2.0  \n",
              "579                          1.10     1.0  \n",
              "580                          1.00     1.0  \n",
              "581                          1.00     1.0  \n",
              "582                          1.50     2.0  \n",
              "\n",
              "[583 rows x 11 columns]"
            ],
            "text/html": [
              "\n",
              "  <div id=\"df-252677bf-304c-4180-ae6b-705e4e860d4a\">\n",
              "    <div class=\"colab-df-container\">\n",
              "      <div>\n",
              "<style scoped>\n",
              "    .dataframe tbody tr th:only-of-type {\n",
              "        vertical-align: middle;\n",
              "    }\n",
              "\n",
              "    .dataframe tbody tr th {\n",
              "        vertical-align: top;\n",
              "    }\n",
              "\n",
              "    .dataframe thead th {\n",
              "        text-align: right;\n",
              "    }\n",
              "</style>\n",
              "<table border=\"1\" class=\"dataframe\">\n",
              "  <thead>\n",
              "    <tr style=\"text-align: right;\">\n",
              "      <th></th>\n",
              "      <th>Age</th>\n",
              "      <th>Gender</th>\n",
              "      <th>Total Bilirubin</th>\n",
              "      <th>Direct Bilirubin\\n</th>\n",
              "      <th>Alkaline Phosphotase\\n</th>\n",
              "      <th>Alamine Aminotransferase\\n</th>\n",
              "      <th>Aspartate Aminotransferase</th>\n",
              "      <th>Total Protiens\\n</th>\n",
              "      <th>Albumin</th>\n",
              "      <th>Albumin and Globulin Ratio\\n</th>\n",
              "      <th>Target</th>\n",
              "    </tr>\n",
              "  </thead>\n",
              "  <tbody>\n",
              "    <tr>\n",
              "      <th>0</th>\n",
              "      <td>65.0</td>\n",
              "      <td>Female</td>\n",
              "      <td>0.7</td>\n",
              "      <td>0.1</td>\n",
              "      <td>187.0</td>\n",
              "      <td>16.0</td>\n",
              "      <td>18.0</td>\n",
              "      <td>6.8</td>\n",
              "      <td>3.3</td>\n",
              "      <td>0.90</td>\n",
              "      <td>1.0</td>\n",
              "    </tr>\n",
              "    <tr>\n",
              "      <th>1</th>\n",
              "      <td>62.0</td>\n",
              "      <td>Male</td>\n",
              "      <td>10.9</td>\n",
              "      <td>5.5</td>\n",
              "      <td>699.0</td>\n",
              "      <td>64.0</td>\n",
              "      <td>100.0</td>\n",
              "      <td>7.5</td>\n",
              "      <td>3.2</td>\n",
              "      <td>0.74</td>\n",
              "      <td>1.0</td>\n",
              "    </tr>\n",
              "    <tr>\n",
              "      <th>2</th>\n",
              "      <td>62.0</td>\n",
              "      <td>Male</td>\n",
              "      <td>7.3</td>\n",
              "      <td>4.1</td>\n",
              "      <td>490.0</td>\n",
              "      <td>60.0</td>\n",
              "      <td>68.0</td>\n",
              "      <td>7.0</td>\n",
              "      <td>3.3</td>\n",
              "      <td>0.89</td>\n",
              "      <td>1.0</td>\n",
              "    </tr>\n",
              "    <tr>\n",
              "      <th>3</th>\n",
              "      <td>58.0</td>\n",
              "      <td>Male</td>\n",
              "      <td>1.0</td>\n",
              "      <td>0.4</td>\n",
              "      <td>182.0</td>\n",
              "      <td>14.0</td>\n",
              "      <td>20.0</td>\n",
              "      <td>6.8</td>\n",
              "      <td>3.4</td>\n",
              "      <td>1.00</td>\n",
              "      <td>1.0</td>\n",
              "    </tr>\n",
              "    <tr>\n",
              "      <th>4</th>\n",
              "      <td>72.0</td>\n",
              "      <td>Male</td>\n",
              "      <td>3.9</td>\n",
              "      <td>2.0</td>\n",
              "      <td>195.0</td>\n",
              "      <td>27.0</td>\n",
              "      <td>59.0</td>\n",
              "      <td>7.3</td>\n",
              "      <td>2.4</td>\n",
              "      <td>0.40</td>\n",
              "      <td>1.0</td>\n",
              "    </tr>\n",
              "    <tr>\n",
              "      <th>...</th>\n",
              "      <td>...</td>\n",
              "      <td>...</td>\n",
              "      <td>...</td>\n",
              "      <td>...</td>\n",
              "      <td>...</td>\n",
              "      <td>...</td>\n",
              "      <td>...</td>\n",
              "      <td>...</td>\n",
              "      <td>...</td>\n",
              "      <td>...</td>\n",
              "      <td>...</td>\n",
              "    </tr>\n",
              "    <tr>\n",
              "      <th>578</th>\n",
              "      <td>60.0</td>\n",
              "      <td>Male</td>\n",
              "      <td>0.5</td>\n",
              "      <td>0.1</td>\n",
              "      <td>500.0</td>\n",
              "      <td>20.0</td>\n",
              "      <td>34.0</td>\n",
              "      <td>5.9</td>\n",
              "      <td>1.6</td>\n",
              "      <td>0.37</td>\n",
              "      <td>2.0</td>\n",
              "    </tr>\n",
              "    <tr>\n",
              "      <th>579</th>\n",
              "      <td>40.0</td>\n",
              "      <td>Male</td>\n",
              "      <td>0.6</td>\n",
              "      <td>0.1</td>\n",
              "      <td>98.0</td>\n",
              "      <td>35.0</td>\n",
              "      <td>31.0</td>\n",
              "      <td>6.0</td>\n",
              "      <td>3.2</td>\n",
              "      <td>1.10</td>\n",
              "      <td>1.0</td>\n",
              "    </tr>\n",
              "    <tr>\n",
              "      <th>580</th>\n",
              "      <td>52.0</td>\n",
              "      <td>Male</td>\n",
              "      <td>0.8</td>\n",
              "      <td>0.2</td>\n",
              "      <td>245.0</td>\n",
              "      <td>48.0</td>\n",
              "      <td>49.0</td>\n",
              "      <td>6.4</td>\n",
              "      <td>3.2</td>\n",
              "      <td>1.00</td>\n",
              "      <td>1.0</td>\n",
              "    </tr>\n",
              "    <tr>\n",
              "      <th>581</th>\n",
              "      <td>31.0</td>\n",
              "      <td>Male</td>\n",
              "      <td>1.3</td>\n",
              "      <td>0.5</td>\n",
              "      <td>184.0</td>\n",
              "      <td>29.0</td>\n",
              "      <td>32.0</td>\n",
              "      <td>6.8</td>\n",
              "      <td>3.4</td>\n",
              "      <td>1.00</td>\n",
              "      <td>1.0</td>\n",
              "    </tr>\n",
              "    <tr>\n",
              "      <th>582</th>\n",
              "      <td>38.0</td>\n",
              "      <td>Male</td>\n",
              "      <td>1.0</td>\n",
              "      <td>0.3</td>\n",
              "      <td>216.0</td>\n",
              "      <td>21.0</td>\n",
              "      <td>24.0</td>\n",
              "      <td>7.3</td>\n",
              "      <td>4.4</td>\n",
              "      <td>1.50</td>\n",
              "      <td>2.0</td>\n",
              "    </tr>\n",
              "  </tbody>\n",
              "</table>\n",
              "<p>583 rows × 11 columns</p>\n",
              "</div>\n",
              "      <button class=\"colab-df-convert\" onclick=\"convertToInteractive('df-252677bf-304c-4180-ae6b-705e4e860d4a')\"\n",
              "              title=\"Convert this dataframe to an interactive table.\"\n",
              "              style=\"display:none;\">\n",
              "        \n",
              "  <svg xmlns=\"http://www.w3.org/2000/svg\" height=\"24px\"viewBox=\"0 0 24 24\"\n",
              "       width=\"24px\">\n",
              "    <path d=\"M0 0h24v24H0V0z\" fill=\"none\"/>\n",
              "    <path d=\"M18.56 5.44l.94 2.06.94-2.06 2.06-.94-2.06-.94-.94-2.06-.94 2.06-2.06.94zm-11 1L8.5 8.5l.94-2.06 2.06-.94-2.06-.94L8.5 2.5l-.94 2.06-2.06.94zm10 10l.94 2.06.94-2.06 2.06-.94-2.06-.94-.94-2.06-.94 2.06-2.06.94z\"/><path d=\"M17.41 7.96l-1.37-1.37c-.4-.4-.92-.59-1.43-.59-.52 0-1.04.2-1.43.59L10.3 9.45l-7.72 7.72c-.78.78-.78 2.05 0 2.83L4 21.41c.39.39.9.59 1.41.59.51 0 1.02-.2 1.41-.59l7.78-7.78 2.81-2.81c.8-.78.8-2.07 0-2.86zM5.41 20L4 18.59l7.72-7.72 1.47 1.35L5.41 20z\"/>\n",
              "  </svg>\n",
              "      </button>\n",
              "      \n",
              "  <style>\n",
              "    .colab-df-container {\n",
              "      display:flex;\n",
              "      flex-wrap:wrap;\n",
              "      gap: 12px;\n",
              "    }\n",
              "\n",
              "    .colab-df-convert {\n",
              "      background-color: #E8F0FE;\n",
              "      border: none;\n",
              "      border-radius: 50%;\n",
              "      cursor: pointer;\n",
              "      display: none;\n",
              "      fill: #1967D2;\n",
              "      height: 32px;\n",
              "      padding: 0 0 0 0;\n",
              "      width: 32px;\n",
              "    }\n",
              "\n",
              "    .colab-df-convert:hover {\n",
              "      background-color: #E2EBFA;\n",
              "      box-shadow: 0px 1px 2px rgba(60, 64, 67, 0.3), 0px 1px 3px 1px rgba(60, 64, 67, 0.15);\n",
              "      fill: #174EA6;\n",
              "    }\n",
              "\n",
              "    [theme=dark] .colab-df-convert {\n",
              "      background-color: #3B4455;\n",
              "      fill: #D2E3FC;\n",
              "    }\n",
              "\n",
              "    [theme=dark] .colab-df-convert:hover {\n",
              "      background-color: #434B5C;\n",
              "      box-shadow: 0px 1px 3px 1px rgba(0, 0, 0, 0.15);\n",
              "      filter: drop-shadow(0px 1px 2px rgba(0, 0, 0, 0.3));\n",
              "      fill: #FFFFFF;\n",
              "    }\n",
              "  </style>\n",
              "\n",
              "      <script>\n",
              "        const buttonEl =\n",
              "          document.querySelector('#df-252677bf-304c-4180-ae6b-705e4e860d4a button.colab-df-convert');\n",
              "        buttonEl.style.display =\n",
              "          google.colab.kernel.accessAllowed ? 'block' : 'none';\n",
              "\n",
              "        async function convertToInteractive(key) {\n",
              "          const element = document.querySelector('#df-252677bf-304c-4180-ae6b-705e4e860d4a');\n",
              "          const dataTable =\n",
              "            await google.colab.kernel.invokeFunction('convertToInteractive',\n",
              "                                                     [key], {});\n",
              "          if (!dataTable) return;\n",
              "\n",
              "          const docLinkHtml = 'Like what you see? Visit the ' +\n",
              "            '<a target=\"_blank\" href=https://colab.research.google.com/notebooks/data_table.ipynb>data table notebook</a>'\n",
              "            + ' to learn more about interactive tables.';\n",
              "          element.innerHTML = '';\n",
              "          dataTable['output_type'] = 'display_data';\n",
              "          await google.colab.output.renderOutput(dataTable, element);\n",
              "          const docLink = document.createElement('div');\n",
              "          docLink.innerHTML = docLinkHtml;\n",
              "          element.appendChild(docLink);\n",
              "        }\n",
              "      </script>\n",
              "    </div>\n",
              "  </div>\n",
              "  "
            ]
          },
          "metadata": {},
          "execution_count": 192
        }
      ]
    },
    {
      "cell_type": "markdown",
      "source": [
        "#7. Domain Analysis "
      ],
      "metadata": {
        "id": "-EHzcrFfl9A7"
      }
    },
    {
      "cell_type": "markdown",
      "source": [
        " - Age of the patient :- Gives Information About the age of the Patient.\n",
        "\n",
        " - Gender of the patient :- Gives Information About the Gender of the patient.\n",
        " - Total Bilirubin :- Bilirubin is an orange-yellow pigment that occurs normally when part of your red blood cells break down. A bilirubin test measures the amount of bilirubin in your blood. It’s used to help find the cause of health conditions like jaundice, anemia, and liver disease.\n",
        "\n",
        " - Direct Bilirubin\n",
        ":- Bilirubin attached by the liver to glucuronic acid, a glucose-derived acid, is called direct or conjugated, bilirubin. Bilirubin not attached to glucuronic acid is called indirect\n",
        "\n",
        "    - in an adult, normal values of direct bilirubin are from 0–0.4 milligrams per deciliter (mg/dL). Normal values of total bilirubin are from 0.3–1.0 mg/dL.\n",
        "\n",
        " - Alkaline Phosphotase\n",
        " :- Alkaline phosphatase (ALP) is an enzyme in a person’s blood that helps break down proteins. Using an ALP test, it is possible to measure how much of this enzyme is circulating in a person’s blood.\n",
        "\n",
        "    - Normal range of ALP is 44 to 147 international units per liter (IU/L)\n",
        "\n",
        "    - Higher-than-normal levels of ALP in your blood may indicate a health concern with your liver or gallbladder. This could include a blockage in your bile ducts, gallstones, cirrhosis, liver cancer, and some forms of hepatitis.\n",
        "\n",
        "    - Having lower-than-normal ALP levels in your blood can indicateTrusted Source a protein deficiency or Wilson’s disease. It may also signal malnutrition, which could be caused by celiac disease or an insufficient amount of certain vitamins and minerals.\n",
        "\n",
        " - Alanine Aminotransferase\n",
        ":- Alanine aminotransferase (ALT) is an enzyme found primarily in the liver and kidney. Liver damage generally causes an increase in ALT levels. The ALT test can evaluate the levels of ALT in your bloodstream\n",
        "\n",
        "  the normal value for ALT in blood for people without risk factors for liver disease ranges from 29 to 33 international units per liter (IU/L) for males and 19 to 25 IU/L for females\n",
        "\n",
        " - Aspartate Aminotransferase\n",
        ":- Aspartate aminotransferase (AST) is an enzyme that’s present in various tissues of your body. An enzyme is a protein that helps trigger chemical reactions that your body needs to function.\n",
        "\n",
        "   - for a newborn\tHealthy range is 47–150 U/L and Atypical range is\t<47 or >150 U/L\n",
        "\n",
        "   - fro children Healthy Range is\t9–80 U/L and \tAtypical Range is <9 or >80 U/L\n",
        "\n",
        "  - for adult men\tHealthy Range is 14–20 U/L and Atypical range is <14 or >20 U/L\n",
        "\n",
        "   - for adult women\tHealthy Range is 10–36 U/L and Atypical range is\t<9 or >36 U/L\n",
        "\n",
        " - Total Proteins\n",
        ":- Albumin and globulin are two types of protein in your body. The total protein test measures the total amount of albumin and globulin in your body.\n",
        "\n",
        " - Albumin :- Albumin is a protein made by your liver. Albumin enters your bloodstream and helps keep fluid from leaking out of your blood vessels into other tissues\n",
        " - Albumin and Globulin Ratio:- \n",
        "“Dataset” field is used to split the data into two sets (patient with liver disease, or no disease)."
      ],
      "metadata": {
        "id": "ChV788g3hmts"
      }
    },
    {
      "cell_type": "markdown",
      "source": [
        "#8 Basic checks "
      ],
      "metadata": {
        "id": "sZOhNRsUZva3"
      }
    },
    {
      "cell_type": "markdown",
      "source": [
        "1.How Big is the data?"
      ],
      "metadata": {
        "id": "3sTzexvxZ0uX"
      }
    },
    {
      "cell_type": "code",
      "source": [
        "df.shape"
      ],
      "metadata": {
        "id": "ioRkm1jcdV7-",
        "colab": {
          "base_uri": "https://localhost:8080/"
        },
        "outputId": "ae88277e-f7ae-4bb6-edac-f9123607d52a"
      },
      "execution_count": null,
      "outputs": [
        {
          "output_type": "execute_result",
          "data": {
            "text/plain": [
              "(583, 11)"
            ]
          },
          "metadata": {},
          "execution_count": 193
        }
      ]
    },
    {
      "cell_type": "markdown",
      "source": [
        "The data has 583 rows and 11 columns"
      ],
      "metadata": {
        "id": "lJtnCBvIaYeW"
      }
    },
    {
      "cell_type": "markdown",
      "source": [
        "2. How does the data looks like?"
      ],
      "metadata": {
        "id": "9KmSX6mHaOp-"
      }
    },
    {
      "cell_type": "code",
      "source": [
        "df.sample(5)"
      ],
      "metadata": {
        "colab": {
          "base_uri": "https://localhost:8080/",
          "height": 268
        },
        "id": "vcLDn3o_aNRS",
        "outputId": "4e8e29d6-317f-4955-8950-ebccf2045056"
      },
      "execution_count": null,
      "outputs": [
        {
          "output_type": "execute_result",
          "data": {
            "text/plain": [
              "      Age Gender   Total Bilirubin  Direct Bilirubin\\n  \\\n",
              "259  42.0    Male             30.5                14.2   \n",
              "429  73.0    Male              1.9                 0.7   \n",
              "317  35.0    Male              0.7                 0.2   \n",
              "379  72.0    Male              0.7                 0.2   \n",
              "537  10.0  Female              0.8                 0.1   \n",
              "\n",
              "     Alkaline Phosphotase\\n  Alamine Aminotransferase\\n  \\\n",
              "259                   285.0                        65.0   \n",
              "429                  1750.0                       102.0   \n",
              "317                   198.0                        42.0   \n",
              "379                   185.0                        16.0   \n",
              "537                   395.0                        25.0   \n",
              "\n",
              "     Aspartate Aminotransferase  Total Protiens\\n  Albumin  \\\n",
              "259                       130.0               5.2      2.1   \n",
              "429                       141.0               5.5      2.0   \n",
              "317                        30.0               6.8      3.4   \n",
              "379                        22.0               7.3      3.7   \n",
              "537                        75.0               7.6      3.6   \n",
              "\n",
              "     Albumin and Globulin Ratio\\n  Target  \n",
              "259                           0.6     1.0  \n",
              "429                           0.5     1.0  \n",
              "317                           1.0     1.0  \n",
              "379                           1.0     2.0  \n",
              "537                           0.9     1.0  "
            ],
            "text/html": [
              "\n",
              "  <div id=\"df-473e5877-9ac5-4dc4-9e2f-ea84e7ad1f03\">\n",
              "    <div class=\"colab-df-container\">\n",
              "      <div>\n",
              "<style scoped>\n",
              "    .dataframe tbody tr th:only-of-type {\n",
              "        vertical-align: middle;\n",
              "    }\n",
              "\n",
              "    .dataframe tbody tr th {\n",
              "        vertical-align: top;\n",
              "    }\n",
              "\n",
              "    .dataframe thead th {\n",
              "        text-align: right;\n",
              "    }\n",
              "</style>\n",
              "<table border=\"1\" class=\"dataframe\">\n",
              "  <thead>\n",
              "    <tr style=\"text-align: right;\">\n",
              "      <th></th>\n",
              "      <th>Age</th>\n",
              "      <th>Gender</th>\n",
              "      <th>Total Bilirubin</th>\n",
              "      <th>Direct Bilirubin\\n</th>\n",
              "      <th>Alkaline Phosphotase\\n</th>\n",
              "      <th>Alamine Aminotransferase\\n</th>\n",
              "      <th>Aspartate Aminotransferase</th>\n",
              "      <th>Total Protiens\\n</th>\n",
              "      <th>Albumin</th>\n",
              "      <th>Albumin and Globulin Ratio\\n</th>\n",
              "      <th>Target</th>\n",
              "    </tr>\n",
              "  </thead>\n",
              "  <tbody>\n",
              "    <tr>\n",
              "      <th>259</th>\n",
              "      <td>42.0</td>\n",
              "      <td>Male</td>\n",
              "      <td>30.5</td>\n",
              "      <td>14.2</td>\n",
              "      <td>285.0</td>\n",
              "      <td>65.0</td>\n",
              "      <td>130.0</td>\n",
              "      <td>5.2</td>\n",
              "      <td>2.1</td>\n",
              "      <td>0.6</td>\n",
              "      <td>1.0</td>\n",
              "    </tr>\n",
              "    <tr>\n",
              "      <th>429</th>\n",
              "      <td>73.0</td>\n",
              "      <td>Male</td>\n",
              "      <td>1.9</td>\n",
              "      <td>0.7</td>\n",
              "      <td>1750.0</td>\n",
              "      <td>102.0</td>\n",
              "      <td>141.0</td>\n",
              "      <td>5.5</td>\n",
              "      <td>2.0</td>\n",
              "      <td>0.5</td>\n",
              "      <td>1.0</td>\n",
              "    </tr>\n",
              "    <tr>\n",
              "      <th>317</th>\n",
              "      <td>35.0</td>\n",
              "      <td>Male</td>\n",
              "      <td>0.7</td>\n",
              "      <td>0.2</td>\n",
              "      <td>198.0</td>\n",
              "      <td>42.0</td>\n",
              "      <td>30.0</td>\n",
              "      <td>6.8</td>\n",
              "      <td>3.4</td>\n",
              "      <td>1.0</td>\n",
              "      <td>1.0</td>\n",
              "    </tr>\n",
              "    <tr>\n",
              "      <th>379</th>\n",
              "      <td>72.0</td>\n",
              "      <td>Male</td>\n",
              "      <td>0.7</td>\n",
              "      <td>0.2</td>\n",
              "      <td>185.0</td>\n",
              "      <td>16.0</td>\n",
              "      <td>22.0</td>\n",
              "      <td>7.3</td>\n",
              "      <td>3.7</td>\n",
              "      <td>1.0</td>\n",
              "      <td>2.0</td>\n",
              "    </tr>\n",
              "    <tr>\n",
              "      <th>537</th>\n",
              "      <td>10.0</td>\n",
              "      <td>Female</td>\n",
              "      <td>0.8</td>\n",
              "      <td>0.1</td>\n",
              "      <td>395.0</td>\n",
              "      <td>25.0</td>\n",
              "      <td>75.0</td>\n",
              "      <td>7.6</td>\n",
              "      <td>3.6</td>\n",
              "      <td>0.9</td>\n",
              "      <td>1.0</td>\n",
              "    </tr>\n",
              "  </tbody>\n",
              "</table>\n",
              "</div>\n",
              "      <button class=\"colab-df-convert\" onclick=\"convertToInteractive('df-473e5877-9ac5-4dc4-9e2f-ea84e7ad1f03')\"\n",
              "              title=\"Convert this dataframe to an interactive table.\"\n",
              "              style=\"display:none;\">\n",
              "        \n",
              "  <svg xmlns=\"http://www.w3.org/2000/svg\" height=\"24px\"viewBox=\"0 0 24 24\"\n",
              "       width=\"24px\">\n",
              "    <path d=\"M0 0h24v24H0V0z\" fill=\"none\"/>\n",
              "    <path d=\"M18.56 5.44l.94 2.06.94-2.06 2.06-.94-2.06-.94-.94-2.06-.94 2.06-2.06.94zm-11 1L8.5 8.5l.94-2.06 2.06-.94-2.06-.94L8.5 2.5l-.94 2.06-2.06.94zm10 10l.94 2.06.94-2.06 2.06-.94-2.06-.94-.94-2.06-.94 2.06-2.06.94z\"/><path d=\"M17.41 7.96l-1.37-1.37c-.4-.4-.92-.59-1.43-.59-.52 0-1.04.2-1.43.59L10.3 9.45l-7.72 7.72c-.78.78-.78 2.05 0 2.83L4 21.41c.39.39.9.59 1.41.59.51 0 1.02-.2 1.41-.59l7.78-7.78 2.81-2.81c.8-.78.8-2.07 0-2.86zM5.41 20L4 18.59l7.72-7.72 1.47 1.35L5.41 20z\"/>\n",
              "  </svg>\n",
              "      </button>\n",
              "      \n",
              "  <style>\n",
              "    .colab-df-container {\n",
              "      display:flex;\n",
              "      flex-wrap:wrap;\n",
              "      gap: 12px;\n",
              "    }\n",
              "\n",
              "    .colab-df-convert {\n",
              "      background-color: #E8F0FE;\n",
              "      border: none;\n",
              "      border-radius: 50%;\n",
              "      cursor: pointer;\n",
              "      display: none;\n",
              "      fill: #1967D2;\n",
              "      height: 32px;\n",
              "      padding: 0 0 0 0;\n",
              "      width: 32px;\n",
              "    }\n",
              "\n",
              "    .colab-df-convert:hover {\n",
              "      background-color: #E2EBFA;\n",
              "      box-shadow: 0px 1px 2px rgba(60, 64, 67, 0.3), 0px 1px 3px 1px rgba(60, 64, 67, 0.15);\n",
              "      fill: #174EA6;\n",
              "    }\n",
              "\n",
              "    [theme=dark] .colab-df-convert {\n",
              "      background-color: #3B4455;\n",
              "      fill: #D2E3FC;\n",
              "    }\n",
              "\n",
              "    [theme=dark] .colab-df-convert:hover {\n",
              "      background-color: #434B5C;\n",
              "      box-shadow: 0px 1px 3px 1px rgba(0, 0, 0, 0.15);\n",
              "      filter: drop-shadow(0px 1px 2px rgba(0, 0, 0, 0.3));\n",
              "      fill: #FFFFFF;\n",
              "    }\n",
              "  </style>\n",
              "\n",
              "      <script>\n",
              "        const buttonEl =\n",
              "          document.querySelector('#df-473e5877-9ac5-4dc4-9e2f-ea84e7ad1f03 button.colab-df-convert');\n",
              "        buttonEl.style.display =\n",
              "          google.colab.kernel.accessAllowed ? 'block' : 'none';\n",
              "\n",
              "        async function convertToInteractive(key) {\n",
              "          const element = document.querySelector('#df-473e5877-9ac5-4dc4-9e2f-ea84e7ad1f03');\n",
              "          const dataTable =\n",
              "            await google.colab.kernel.invokeFunction('convertToInteractive',\n",
              "                                                     [key], {});\n",
              "          if (!dataTable) return;\n",
              "\n",
              "          const docLinkHtml = 'Like what you see? Visit the ' +\n",
              "            '<a target=\"_blank\" href=https://colab.research.google.com/notebooks/data_table.ipynb>data table notebook</a>'\n",
              "            + ' to learn more about interactive tables.';\n",
              "          element.innerHTML = '';\n",
              "          dataTable['output_type'] = 'display_data';\n",
              "          await google.colab.output.renderOutput(dataTable, element);\n",
              "          const docLink = document.createElement('div');\n",
              "          docLink.innerHTML = docLinkHtml;\n",
              "          element.appendChild(docLink);\n",
              "        }\n",
              "      </script>\n",
              "    </div>\n",
              "  </div>\n",
              "  "
            ]
          },
          "metadata": {},
          "execution_count": 194
        }
      ]
    },
    {
      "cell_type": "markdown",
      "source": [
        "3. What are the data types of the columns?\n",
        "4. what is the number of non null rows?\n",
        "5. what is the total number of entries in our dataset?"
      ],
      "metadata": {
        "id": "2hpBaIDka7lr"
      }
    },
    {
      "cell_type": "code",
      "source": [
        "df.info()"
      ],
      "metadata": {
        "colab": {
          "base_uri": "https://localhost:8080/"
        },
        "id": "9SQZSMuLbc2b",
        "outputId": "186f5bf3-ce10-4c0d-b799-a7207cac0e32"
      },
      "execution_count": null,
      "outputs": [
        {
          "output_type": "stream",
          "name": "stdout",
          "text": [
            "<class 'pandas.core.frame.DataFrame'>\n",
            "RangeIndex: 583 entries, 0 to 582\n",
            "Data columns (total 11 columns):\n",
            " #   Column                       Non-Null Count  Dtype  \n",
            "---  ------                       --------------  -----  \n",
            " 0   Age                          583 non-null    float64\n",
            " 1   Gender                       583 non-null    object \n",
            " 2   Total Bilirubin              583 non-null    float64\n",
            " 3   Direct Bilirubin\n",
            "            583 non-null    float64\n",
            " 4   Alkaline Phosphotase\n",
            "        583 non-null    float64\n",
            " 5   Alamine Aminotransferase\n",
            "    583 non-null    float64\n",
            " 6   Aspartate Aminotransferase   583 non-null    float64\n",
            " 7   Total Protiens\n",
            "              583 non-null    float64\n",
            " 8   Albumin                      583 non-null    float64\n",
            " 9   Albumin and Globulin Ratio\n",
            "  579 non-null    float64\n",
            " 10  Target                       583 non-null    float64\n",
            "dtypes: float64(10), object(1)\n",
            "memory usage: 50.2+ KB\n"
          ]
        }
      ]
    },
    {
      "cell_type": "markdown",
      "source": [
        "6. Are there any missing values?"
      ],
      "metadata": {
        "id": "1PHOBBGybfC-"
      }
    },
    {
      "cell_type": "code",
      "source": [
        "df.isnull().sum()"
      ],
      "metadata": {
        "colab": {
          "base_uri": "https://localhost:8080/"
        },
        "id": "kv0FyOesb9Mu",
        "outputId": "669c3522-2b9e-45f2-e5c5-27593ca715dd"
      },
      "execution_count": null,
      "outputs": [
        {
          "output_type": "execute_result",
          "data": {
            "text/plain": [
              "Age                             0\n",
              "Gender                          0\n",
              "Total Bilirubin                 0\n",
              "Direct Bilirubin\\n              0\n",
              "Alkaline Phosphotase\\n          0\n",
              "Alamine Aminotransferase\\n      0\n",
              "Aspartate Aminotransferase      0\n",
              "Total Protiens\\n                0\n",
              "Albumin                         0\n",
              "Albumin and Globulin Ratio\\n    4\n",
              "Target                          0\n",
              "dtype: int64"
            ]
          },
          "metadata": {},
          "execution_count": 196
        }
      ]
    },
    {
      "cell_type": "markdown",
      "source": [
        "7. How does the data look Statistically?"
      ],
      "metadata": {
        "id": "m6rYKfZGcRR2"
      }
    },
    {
      "cell_type": "code",
      "source": [
        "df.describe()"
      ],
      "metadata": {
        "colab": {
          "base_uri": "https://localhost:8080/",
          "height": 379
        },
        "id": "oTcolxrjc9NV",
        "outputId": "a9e43a0d-310e-4176-ffef-39258b23f927"
      },
      "execution_count": null,
      "outputs": [
        {
          "output_type": "execute_result",
          "data": {
            "text/plain": [
              "              Age  Total Bilirubin  Direct Bilirubin\\n  \\\n",
              "count  583.000000       583.000000          583.000000   \n",
              "mean    44.746141         3.298799            1.486106   \n",
              "std     16.189833         6.209522            2.808498   \n",
              "min      4.000000         0.400000            0.100000   \n",
              "25%     33.000000         0.800000            0.200000   \n",
              "50%     45.000000         1.000000            0.300000   \n",
              "75%     58.000000         2.600000            1.300000   \n",
              "max     90.000000        75.000000           19.700000   \n",
              "\n",
              "       Alkaline Phosphotase\\n  Alamine Aminotransferase\\n  \\\n",
              "count              583.000000                  583.000000   \n",
              "mean               290.576329                   80.713551   \n",
              "std                242.937989                  182.620356   \n",
              "min                 63.000000                   10.000000   \n",
              "25%                175.500000                   23.000000   \n",
              "50%                208.000000                   35.000000   \n",
              "75%                298.000000                   60.500000   \n",
              "max               2110.000000                 2000.000000   \n",
              "\n",
              "       Aspartate Aminotransferase  Total Protiens\\n     Albumin  \\\n",
              "count                  583.000000        583.000000  583.000000   \n",
              "mean                   109.910806          6.483190    3.141852   \n",
              "std                    288.918529          1.085451    0.795519   \n",
              "min                     10.000000          2.700000    0.900000   \n",
              "25%                     25.000000          5.800000    2.600000   \n",
              "50%                     42.000000          6.600000    3.100000   \n",
              "75%                     87.000000          7.200000    3.800000   \n",
              "max                   4929.000000          9.600000    5.500000   \n",
              "\n",
              "       Albumin and Globulin Ratio\\n      Target  \n",
              "count                    579.000000  583.000000  \n",
              "mean                       0.947064    1.286449  \n",
              "std                        0.319592    0.452490  \n",
              "min                        0.300000    1.000000  \n",
              "25%                        0.700000    1.000000  \n",
              "50%                        0.930000    1.000000  \n",
              "75%                        1.100000    2.000000  \n",
              "max                        2.800000    2.000000  "
            ],
            "text/html": [
              "\n",
              "  <div id=\"df-39f4ad35-aa55-48cd-a353-271e89f86ac8\">\n",
              "    <div class=\"colab-df-container\">\n",
              "      <div>\n",
              "<style scoped>\n",
              "    .dataframe tbody tr th:only-of-type {\n",
              "        vertical-align: middle;\n",
              "    }\n",
              "\n",
              "    .dataframe tbody tr th {\n",
              "        vertical-align: top;\n",
              "    }\n",
              "\n",
              "    .dataframe thead th {\n",
              "        text-align: right;\n",
              "    }\n",
              "</style>\n",
              "<table border=\"1\" class=\"dataframe\">\n",
              "  <thead>\n",
              "    <tr style=\"text-align: right;\">\n",
              "      <th></th>\n",
              "      <th>Age</th>\n",
              "      <th>Total Bilirubin</th>\n",
              "      <th>Direct Bilirubin\\n</th>\n",
              "      <th>Alkaline Phosphotase\\n</th>\n",
              "      <th>Alamine Aminotransferase\\n</th>\n",
              "      <th>Aspartate Aminotransferase</th>\n",
              "      <th>Total Protiens\\n</th>\n",
              "      <th>Albumin</th>\n",
              "      <th>Albumin and Globulin Ratio\\n</th>\n",
              "      <th>Target</th>\n",
              "    </tr>\n",
              "  </thead>\n",
              "  <tbody>\n",
              "    <tr>\n",
              "      <th>count</th>\n",
              "      <td>583.000000</td>\n",
              "      <td>583.000000</td>\n",
              "      <td>583.000000</td>\n",
              "      <td>583.000000</td>\n",
              "      <td>583.000000</td>\n",
              "      <td>583.000000</td>\n",
              "      <td>583.000000</td>\n",
              "      <td>583.000000</td>\n",
              "      <td>579.000000</td>\n",
              "      <td>583.000000</td>\n",
              "    </tr>\n",
              "    <tr>\n",
              "      <th>mean</th>\n",
              "      <td>44.746141</td>\n",
              "      <td>3.298799</td>\n",
              "      <td>1.486106</td>\n",
              "      <td>290.576329</td>\n",
              "      <td>80.713551</td>\n",
              "      <td>109.910806</td>\n",
              "      <td>6.483190</td>\n",
              "      <td>3.141852</td>\n",
              "      <td>0.947064</td>\n",
              "      <td>1.286449</td>\n",
              "    </tr>\n",
              "    <tr>\n",
              "      <th>std</th>\n",
              "      <td>16.189833</td>\n",
              "      <td>6.209522</td>\n",
              "      <td>2.808498</td>\n",
              "      <td>242.937989</td>\n",
              "      <td>182.620356</td>\n",
              "      <td>288.918529</td>\n",
              "      <td>1.085451</td>\n",
              "      <td>0.795519</td>\n",
              "      <td>0.319592</td>\n",
              "      <td>0.452490</td>\n",
              "    </tr>\n",
              "    <tr>\n",
              "      <th>min</th>\n",
              "      <td>4.000000</td>\n",
              "      <td>0.400000</td>\n",
              "      <td>0.100000</td>\n",
              "      <td>63.000000</td>\n",
              "      <td>10.000000</td>\n",
              "      <td>10.000000</td>\n",
              "      <td>2.700000</td>\n",
              "      <td>0.900000</td>\n",
              "      <td>0.300000</td>\n",
              "      <td>1.000000</td>\n",
              "    </tr>\n",
              "    <tr>\n",
              "      <th>25%</th>\n",
              "      <td>33.000000</td>\n",
              "      <td>0.800000</td>\n",
              "      <td>0.200000</td>\n",
              "      <td>175.500000</td>\n",
              "      <td>23.000000</td>\n",
              "      <td>25.000000</td>\n",
              "      <td>5.800000</td>\n",
              "      <td>2.600000</td>\n",
              "      <td>0.700000</td>\n",
              "      <td>1.000000</td>\n",
              "    </tr>\n",
              "    <tr>\n",
              "      <th>50%</th>\n",
              "      <td>45.000000</td>\n",
              "      <td>1.000000</td>\n",
              "      <td>0.300000</td>\n",
              "      <td>208.000000</td>\n",
              "      <td>35.000000</td>\n",
              "      <td>42.000000</td>\n",
              "      <td>6.600000</td>\n",
              "      <td>3.100000</td>\n",
              "      <td>0.930000</td>\n",
              "      <td>1.000000</td>\n",
              "    </tr>\n",
              "    <tr>\n",
              "      <th>75%</th>\n",
              "      <td>58.000000</td>\n",
              "      <td>2.600000</td>\n",
              "      <td>1.300000</td>\n",
              "      <td>298.000000</td>\n",
              "      <td>60.500000</td>\n",
              "      <td>87.000000</td>\n",
              "      <td>7.200000</td>\n",
              "      <td>3.800000</td>\n",
              "      <td>1.100000</td>\n",
              "      <td>2.000000</td>\n",
              "    </tr>\n",
              "    <tr>\n",
              "      <th>max</th>\n",
              "      <td>90.000000</td>\n",
              "      <td>75.000000</td>\n",
              "      <td>19.700000</td>\n",
              "      <td>2110.000000</td>\n",
              "      <td>2000.000000</td>\n",
              "      <td>4929.000000</td>\n",
              "      <td>9.600000</td>\n",
              "      <td>5.500000</td>\n",
              "      <td>2.800000</td>\n",
              "      <td>2.000000</td>\n",
              "    </tr>\n",
              "  </tbody>\n",
              "</table>\n",
              "</div>\n",
              "      <button class=\"colab-df-convert\" onclick=\"convertToInteractive('df-39f4ad35-aa55-48cd-a353-271e89f86ac8')\"\n",
              "              title=\"Convert this dataframe to an interactive table.\"\n",
              "              style=\"display:none;\">\n",
              "        \n",
              "  <svg xmlns=\"http://www.w3.org/2000/svg\" height=\"24px\"viewBox=\"0 0 24 24\"\n",
              "       width=\"24px\">\n",
              "    <path d=\"M0 0h24v24H0V0z\" fill=\"none\"/>\n",
              "    <path d=\"M18.56 5.44l.94 2.06.94-2.06 2.06-.94-2.06-.94-.94-2.06-.94 2.06-2.06.94zm-11 1L8.5 8.5l.94-2.06 2.06-.94-2.06-.94L8.5 2.5l-.94 2.06-2.06.94zm10 10l.94 2.06.94-2.06 2.06-.94-2.06-.94-.94-2.06-.94 2.06-2.06.94z\"/><path d=\"M17.41 7.96l-1.37-1.37c-.4-.4-.92-.59-1.43-.59-.52 0-1.04.2-1.43.59L10.3 9.45l-7.72 7.72c-.78.78-.78 2.05 0 2.83L4 21.41c.39.39.9.59 1.41.59.51 0 1.02-.2 1.41-.59l7.78-7.78 2.81-2.81c.8-.78.8-2.07 0-2.86zM5.41 20L4 18.59l7.72-7.72 1.47 1.35L5.41 20z\"/>\n",
              "  </svg>\n",
              "      </button>\n",
              "      \n",
              "  <style>\n",
              "    .colab-df-container {\n",
              "      display:flex;\n",
              "      flex-wrap:wrap;\n",
              "      gap: 12px;\n",
              "    }\n",
              "\n",
              "    .colab-df-convert {\n",
              "      background-color: #E8F0FE;\n",
              "      border: none;\n",
              "      border-radius: 50%;\n",
              "      cursor: pointer;\n",
              "      display: none;\n",
              "      fill: #1967D2;\n",
              "      height: 32px;\n",
              "      padding: 0 0 0 0;\n",
              "      width: 32px;\n",
              "    }\n",
              "\n",
              "    .colab-df-convert:hover {\n",
              "      background-color: #E2EBFA;\n",
              "      box-shadow: 0px 1px 2px rgba(60, 64, 67, 0.3), 0px 1px 3px 1px rgba(60, 64, 67, 0.15);\n",
              "      fill: #174EA6;\n",
              "    }\n",
              "\n",
              "    [theme=dark] .colab-df-convert {\n",
              "      background-color: #3B4455;\n",
              "      fill: #D2E3FC;\n",
              "    }\n",
              "\n",
              "    [theme=dark] .colab-df-convert:hover {\n",
              "      background-color: #434B5C;\n",
              "      box-shadow: 0px 1px 3px 1px rgba(0, 0, 0, 0.15);\n",
              "      filter: drop-shadow(0px 1px 2px rgba(0, 0, 0, 0.3));\n",
              "      fill: #FFFFFF;\n",
              "    }\n",
              "  </style>\n",
              "\n",
              "      <script>\n",
              "        const buttonEl =\n",
              "          document.querySelector('#df-39f4ad35-aa55-48cd-a353-271e89f86ac8 button.colab-df-convert');\n",
              "        buttonEl.style.display =\n",
              "          google.colab.kernel.accessAllowed ? 'block' : 'none';\n",
              "\n",
              "        async function convertToInteractive(key) {\n",
              "          const element = document.querySelector('#df-39f4ad35-aa55-48cd-a353-271e89f86ac8');\n",
              "          const dataTable =\n",
              "            await google.colab.kernel.invokeFunction('convertToInteractive',\n",
              "                                                     [key], {});\n",
              "          if (!dataTable) return;\n",
              "\n",
              "          const docLinkHtml = 'Like what you see? Visit the ' +\n",
              "            '<a target=\"_blank\" href=https://colab.research.google.com/notebooks/data_table.ipynb>data table notebook</a>'\n",
              "            + ' to learn more about interactive tables.';\n",
              "          element.innerHTML = '';\n",
              "          dataTable['output_type'] = 'display_data';\n",
              "          await google.colab.output.renderOutput(dataTable, element);\n",
              "          const docLink = document.createElement('div');\n",
              "          docLink.innerHTML = docLinkHtml;\n",
              "          element.appendChild(docLink);\n",
              "        }\n",
              "      </script>\n",
              "    </div>\n",
              "  </div>\n",
              "  "
            ]
          },
          "metadata": {},
          "execution_count": 197
        }
      ]
    },
    {
      "cell_type": "markdown",
      "source": [
        "8. Are there any Duplicate Values?"
      ],
      "metadata": {
        "id": "Lvb2mKyxc_Gx"
      }
    },
    {
      "cell_type": "code",
      "source": [
        "df.duplicated().sum()"
      ],
      "metadata": {
        "colab": {
          "base_uri": "https://localhost:8080/"
        },
        "id": "Zb8gHvrsdQBh",
        "outputId": "06a4396e-a123-4d22-d7e6-87c0d0deb201"
      },
      "execution_count": null,
      "outputs": [
        {
          "output_type": "execute_result",
          "data": {
            "text/plain": [
              "13"
            ]
          },
          "metadata": {},
          "execution_count": 198
        }
      ]
    },
    {
      "cell_type": "markdown",
      "source": [
        "There are 13 duplicated values in our dataset"
      ],
      "metadata": {
        "id": "6XLbI6mcdU9Y"
      }
    },
    {
      "cell_type": "markdown",
      "source": [
        "9. How is the Correlation Between Columns?"
      ],
      "metadata": {
        "id": "7tGT-0GBeVmn"
      }
    },
    {
      "cell_type": "code",
      "source": [
        "df.corr()"
      ],
      "metadata": {
        "colab": {
          "base_uri": "https://localhost:8080/",
          "height": 511
        },
        "id": "IaV-9PO8ijmv",
        "outputId": "3157090b-e4d2-4aa2-e853-1e977c06f0c7"
      },
      "execution_count": null,
      "outputs": [
        {
          "output_type": "execute_result",
          "data": {
            "text/plain": [
              "                                   Age  Total Bilirubin  Direct Bilirubin\\n  \\\n",
              "Age                           1.000000         0.011763            0.007529   \n",
              "Total Bilirubin               0.011763         1.000000            0.874618   \n",
              "Direct Bilirubin\\n            0.007529         0.874618            1.000000   \n",
              "Alkaline Phosphotase\\n        0.080425         0.206669            0.234939   \n",
              "Alamine Aminotransferase\\n   -0.086883         0.214065            0.233894   \n",
              "Aspartate Aminotransferase   -0.019910         0.237831            0.257544   \n",
              "Total Protiens\\n             -0.187461        -0.008099           -0.000139   \n",
              "Albumin                      -0.265924        -0.222250           -0.228531   \n",
              "Albumin and Globulin Ratio\\n -0.216408        -0.206267           -0.200125   \n",
              "Target                       -0.137351        -0.220208           -0.246046   \n",
              "\n",
              "                              Alkaline Phosphotase\\n  \\\n",
              "Age                                         0.080425   \n",
              "Total Bilirubin                             0.206669   \n",
              "Direct Bilirubin\\n                          0.234939   \n",
              "Alkaline Phosphotase\\n                      1.000000   \n",
              "Alamine Aminotransferase\\n                  0.125680   \n",
              "Aspartate Aminotransferase                  0.167196   \n",
              "Total Protiens\\n                           -0.028514   \n",
              "Albumin                                    -0.165453   \n",
              "Albumin and Globulin Ratio\\n               -0.234166   \n",
              "Target                                     -0.184866   \n",
              "\n",
              "                              Alamine Aminotransferase\\n  \\\n",
              "Age                                            -0.086883   \n",
              "Total Bilirubin                                 0.214065   \n",
              "Direct Bilirubin\\n                              0.233894   \n",
              "Alkaline Phosphotase\\n                          0.125680   \n",
              "Alamine Aminotransferase\\n                      1.000000   \n",
              "Aspartate Aminotransferase                      0.791966   \n",
              "Total Protiens\\n                               -0.042518   \n",
              "Albumin                                        -0.029742   \n",
              "Albumin and Globulin Ratio\\n                   -0.002375   \n",
              "Target                                         -0.163416   \n",
              "\n",
              "                              Aspartate Aminotransferase  Total Protiens\\n  \\\n",
              "Age                                            -0.019910         -0.187461   \n",
              "Total Bilirubin                                 0.237831         -0.008099   \n",
              "Direct Bilirubin\\n                              0.257544         -0.000139   \n",
              "Alkaline Phosphotase\\n                          0.167196         -0.028514   \n",
              "Alamine Aminotransferase\\n                      0.791966         -0.042518   \n",
              "Aspartate Aminotransferase                      1.000000         -0.025645   \n",
              "Total Protiens\\n                               -0.025645          1.000000   \n",
              "Albumin                                        -0.085290          0.784053   \n",
              "Albumin and Globulin Ratio\\n                   -0.070040          0.234887   \n",
              "Target                                         -0.151934          0.035008   \n",
              "\n",
              "                               Albumin  Albumin and Globulin Ratio\\n    Target  \n",
              "Age                          -0.265924                     -0.216408 -0.137351  \n",
              "Total Bilirubin              -0.222250                     -0.206267 -0.220208  \n",
              "Direct Bilirubin\\n           -0.228531                     -0.200125 -0.246046  \n",
              "Alkaline Phosphotase\\n       -0.165453                     -0.234166 -0.184866  \n",
              "Alamine Aminotransferase\\n   -0.029742                     -0.002375 -0.163416  \n",
              "Aspartate Aminotransferase   -0.085290                     -0.070040 -0.151934  \n",
              "Total Protiens\\n              0.784053                      0.234887  0.035008  \n",
              "Albumin                       1.000000                      0.689632  0.161388  \n",
              "Albumin and Globulin Ratio\\n  0.689632                      1.000000  0.163131  \n",
              "Target                        0.161388                      0.163131  1.000000  "
            ],
            "text/html": [
              "\n",
              "  <div id=\"df-707ed769-3ec1-46eb-9861-29d6e9f450e1\">\n",
              "    <div class=\"colab-df-container\">\n",
              "      <div>\n",
              "<style scoped>\n",
              "    .dataframe tbody tr th:only-of-type {\n",
              "        vertical-align: middle;\n",
              "    }\n",
              "\n",
              "    .dataframe tbody tr th {\n",
              "        vertical-align: top;\n",
              "    }\n",
              "\n",
              "    .dataframe thead th {\n",
              "        text-align: right;\n",
              "    }\n",
              "</style>\n",
              "<table border=\"1\" class=\"dataframe\">\n",
              "  <thead>\n",
              "    <tr style=\"text-align: right;\">\n",
              "      <th></th>\n",
              "      <th>Age</th>\n",
              "      <th>Total Bilirubin</th>\n",
              "      <th>Direct Bilirubin\\n</th>\n",
              "      <th>Alkaline Phosphotase\\n</th>\n",
              "      <th>Alamine Aminotransferase\\n</th>\n",
              "      <th>Aspartate Aminotransferase</th>\n",
              "      <th>Total Protiens\\n</th>\n",
              "      <th>Albumin</th>\n",
              "      <th>Albumin and Globulin Ratio\\n</th>\n",
              "      <th>Target</th>\n",
              "    </tr>\n",
              "  </thead>\n",
              "  <tbody>\n",
              "    <tr>\n",
              "      <th>Age</th>\n",
              "      <td>1.000000</td>\n",
              "      <td>0.011763</td>\n",
              "      <td>0.007529</td>\n",
              "      <td>0.080425</td>\n",
              "      <td>-0.086883</td>\n",
              "      <td>-0.019910</td>\n",
              "      <td>-0.187461</td>\n",
              "      <td>-0.265924</td>\n",
              "      <td>-0.216408</td>\n",
              "      <td>-0.137351</td>\n",
              "    </tr>\n",
              "    <tr>\n",
              "      <th>Total Bilirubin</th>\n",
              "      <td>0.011763</td>\n",
              "      <td>1.000000</td>\n",
              "      <td>0.874618</td>\n",
              "      <td>0.206669</td>\n",
              "      <td>0.214065</td>\n",
              "      <td>0.237831</td>\n",
              "      <td>-0.008099</td>\n",
              "      <td>-0.222250</td>\n",
              "      <td>-0.206267</td>\n",
              "      <td>-0.220208</td>\n",
              "    </tr>\n",
              "    <tr>\n",
              "      <th>Direct Bilirubin\\n</th>\n",
              "      <td>0.007529</td>\n",
              "      <td>0.874618</td>\n",
              "      <td>1.000000</td>\n",
              "      <td>0.234939</td>\n",
              "      <td>0.233894</td>\n",
              "      <td>0.257544</td>\n",
              "      <td>-0.000139</td>\n",
              "      <td>-0.228531</td>\n",
              "      <td>-0.200125</td>\n",
              "      <td>-0.246046</td>\n",
              "    </tr>\n",
              "    <tr>\n",
              "      <th>Alkaline Phosphotase\\n</th>\n",
              "      <td>0.080425</td>\n",
              "      <td>0.206669</td>\n",
              "      <td>0.234939</td>\n",
              "      <td>1.000000</td>\n",
              "      <td>0.125680</td>\n",
              "      <td>0.167196</td>\n",
              "      <td>-0.028514</td>\n",
              "      <td>-0.165453</td>\n",
              "      <td>-0.234166</td>\n",
              "      <td>-0.184866</td>\n",
              "    </tr>\n",
              "    <tr>\n",
              "      <th>Alamine Aminotransferase\\n</th>\n",
              "      <td>-0.086883</td>\n",
              "      <td>0.214065</td>\n",
              "      <td>0.233894</td>\n",
              "      <td>0.125680</td>\n",
              "      <td>1.000000</td>\n",
              "      <td>0.791966</td>\n",
              "      <td>-0.042518</td>\n",
              "      <td>-0.029742</td>\n",
              "      <td>-0.002375</td>\n",
              "      <td>-0.163416</td>\n",
              "    </tr>\n",
              "    <tr>\n",
              "      <th>Aspartate Aminotransferase</th>\n",
              "      <td>-0.019910</td>\n",
              "      <td>0.237831</td>\n",
              "      <td>0.257544</td>\n",
              "      <td>0.167196</td>\n",
              "      <td>0.791966</td>\n",
              "      <td>1.000000</td>\n",
              "      <td>-0.025645</td>\n",
              "      <td>-0.085290</td>\n",
              "      <td>-0.070040</td>\n",
              "      <td>-0.151934</td>\n",
              "    </tr>\n",
              "    <tr>\n",
              "      <th>Total Protiens\\n</th>\n",
              "      <td>-0.187461</td>\n",
              "      <td>-0.008099</td>\n",
              "      <td>-0.000139</td>\n",
              "      <td>-0.028514</td>\n",
              "      <td>-0.042518</td>\n",
              "      <td>-0.025645</td>\n",
              "      <td>1.000000</td>\n",
              "      <td>0.784053</td>\n",
              "      <td>0.234887</td>\n",
              "      <td>0.035008</td>\n",
              "    </tr>\n",
              "    <tr>\n",
              "      <th>Albumin</th>\n",
              "      <td>-0.265924</td>\n",
              "      <td>-0.222250</td>\n",
              "      <td>-0.228531</td>\n",
              "      <td>-0.165453</td>\n",
              "      <td>-0.029742</td>\n",
              "      <td>-0.085290</td>\n",
              "      <td>0.784053</td>\n",
              "      <td>1.000000</td>\n",
              "      <td>0.689632</td>\n",
              "      <td>0.161388</td>\n",
              "    </tr>\n",
              "    <tr>\n",
              "      <th>Albumin and Globulin Ratio\\n</th>\n",
              "      <td>-0.216408</td>\n",
              "      <td>-0.206267</td>\n",
              "      <td>-0.200125</td>\n",
              "      <td>-0.234166</td>\n",
              "      <td>-0.002375</td>\n",
              "      <td>-0.070040</td>\n",
              "      <td>0.234887</td>\n",
              "      <td>0.689632</td>\n",
              "      <td>1.000000</td>\n",
              "      <td>0.163131</td>\n",
              "    </tr>\n",
              "    <tr>\n",
              "      <th>Target</th>\n",
              "      <td>-0.137351</td>\n",
              "      <td>-0.220208</td>\n",
              "      <td>-0.246046</td>\n",
              "      <td>-0.184866</td>\n",
              "      <td>-0.163416</td>\n",
              "      <td>-0.151934</td>\n",
              "      <td>0.035008</td>\n",
              "      <td>0.161388</td>\n",
              "      <td>0.163131</td>\n",
              "      <td>1.000000</td>\n",
              "    </tr>\n",
              "  </tbody>\n",
              "</table>\n",
              "</div>\n",
              "      <button class=\"colab-df-convert\" onclick=\"convertToInteractive('df-707ed769-3ec1-46eb-9861-29d6e9f450e1')\"\n",
              "              title=\"Convert this dataframe to an interactive table.\"\n",
              "              style=\"display:none;\">\n",
              "        \n",
              "  <svg xmlns=\"http://www.w3.org/2000/svg\" height=\"24px\"viewBox=\"0 0 24 24\"\n",
              "       width=\"24px\">\n",
              "    <path d=\"M0 0h24v24H0V0z\" fill=\"none\"/>\n",
              "    <path d=\"M18.56 5.44l.94 2.06.94-2.06 2.06-.94-2.06-.94-.94-2.06-.94 2.06-2.06.94zm-11 1L8.5 8.5l.94-2.06 2.06-.94-2.06-.94L8.5 2.5l-.94 2.06-2.06.94zm10 10l.94 2.06.94-2.06 2.06-.94-2.06-.94-.94-2.06-.94 2.06-2.06.94z\"/><path d=\"M17.41 7.96l-1.37-1.37c-.4-.4-.92-.59-1.43-.59-.52 0-1.04.2-1.43.59L10.3 9.45l-7.72 7.72c-.78.78-.78 2.05 0 2.83L4 21.41c.39.39.9.59 1.41.59.51 0 1.02-.2 1.41-.59l7.78-7.78 2.81-2.81c.8-.78.8-2.07 0-2.86zM5.41 20L4 18.59l7.72-7.72 1.47 1.35L5.41 20z\"/>\n",
              "  </svg>\n",
              "      </button>\n",
              "      \n",
              "  <style>\n",
              "    .colab-df-container {\n",
              "      display:flex;\n",
              "      flex-wrap:wrap;\n",
              "      gap: 12px;\n",
              "    }\n",
              "\n",
              "    .colab-df-convert {\n",
              "      background-color: #E8F0FE;\n",
              "      border: none;\n",
              "      border-radius: 50%;\n",
              "      cursor: pointer;\n",
              "      display: none;\n",
              "      fill: #1967D2;\n",
              "      height: 32px;\n",
              "      padding: 0 0 0 0;\n",
              "      width: 32px;\n",
              "    }\n",
              "\n",
              "    .colab-df-convert:hover {\n",
              "      background-color: #E2EBFA;\n",
              "      box-shadow: 0px 1px 2px rgba(60, 64, 67, 0.3), 0px 1px 3px 1px rgba(60, 64, 67, 0.15);\n",
              "      fill: #174EA6;\n",
              "    }\n",
              "\n",
              "    [theme=dark] .colab-df-convert {\n",
              "      background-color: #3B4455;\n",
              "      fill: #D2E3FC;\n",
              "    }\n",
              "\n",
              "    [theme=dark] .colab-df-convert:hover {\n",
              "      background-color: #434B5C;\n",
              "      box-shadow: 0px 1px 3px 1px rgba(0, 0, 0, 0.15);\n",
              "      filter: drop-shadow(0px 1px 2px rgba(0, 0, 0, 0.3));\n",
              "      fill: #FFFFFF;\n",
              "    }\n",
              "  </style>\n",
              "\n",
              "      <script>\n",
              "        const buttonEl =\n",
              "          document.querySelector('#df-707ed769-3ec1-46eb-9861-29d6e9f450e1 button.colab-df-convert');\n",
              "        buttonEl.style.display =\n",
              "          google.colab.kernel.accessAllowed ? 'block' : 'none';\n",
              "\n",
              "        async function convertToInteractive(key) {\n",
              "          const element = document.querySelector('#df-707ed769-3ec1-46eb-9861-29d6e9f450e1');\n",
              "          const dataTable =\n",
              "            await google.colab.kernel.invokeFunction('convertToInteractive',\n",
              "                                                     [key], {});\n",
              "          if (!dataTable) return;\n",
              "\n",
              "          const docLinkHtml = 'Like what you see? Visit the ' +\n",
              "            '<a target=\"_blank\" href=https://colab.research.google.com/notebooks/data_table.ipynb>data table notebook</a>'\n",
              "            + ' to learn more about interactive tables.';\n",
              "          element.innerHTML = '';\n",
              "          dataTable['output_type'] = 'display_data';\n",
              "          await google.colab.output.renderOutput(dataTable, element);\n",
              "          const docLink = document.createElement('div');\n",
              "          docLink.innerHTML = docLinkHtml;\n",
              "          element.appendChild(docLink);\n",
              "        }\n",
              "      </script>\n",
              "    </div>\n",
              "  </div>\n",
              "  "
            ]
          },
          "metadata": {},
          "execution_count": 199
        }
      ]
    },
    {
      "cell_type": "markdown",
      "source": [
        "#9 Exploratory Data Analysis"
      ],
      "metadata": {
        "id": "wLk3B3OHikpt"
      }
    },
    {
      "cell_type": "markdown",
      "source": [
        "## Univariate Analysis"
      ],
      "metadata": {
        "id": "vUxPA3VCtXfY"
      }
    },
    {
      "cell_type": "code",
      "source": [
        "sns.countplot(x='Target',data=df)"
      ],
      "metadata": {
        "colab": {
          "base_uri": "https://localhost:8080/",
          "height": 296
        },
        "id": "FzY8MjdBiu2L",
        "outputId": "6586d8f8-2823-467c-9498-aae0de1b59d9"
      },
      "execution_count": null,
      "outputs": [
        {
          "output_type": "execute_result",
          "data": {
            "text/plain": [
              "<matplotlib.axes._subplots.AxesSubplot at 0x7fd7ea8f7410>"
            ]
          },
          "metadata": {},
          "execution_count": 200
        },
        {
          "output_type": "display_data",
          "data": {
            "text/plain": [
              "<Figure size 432x288 with 1 Axes>"
            ],
            "image/png": "[encoded data removed]"
          },
          "metadata": {
            "needs_background": "light"
          }
        }
      ]
    },
    {
      "cell_type": "markdown",
      "source": [
        "Around 410 People in the Dataset Have lever Disease\n",
        "and Around 160 People in the Dataset dont have Lever Disease "
      ],
      "metadata": {
        "id": "wyejfQ5ekWTc"
      }
    },
    {
      "cell_type": "code",
      "source": [
        "df.columns"
      ],
      "metadata": {
        "colab": {
          "base_uri": "https://localhost:8080/"
        },
        "id": "uYKNYMg2l0ul",
        "outputId": "18b9797c-8a63-456c-fb6c-7d85b36f585a"
      },
      "execution_count": null,
      "outputs": [
        {
          "output_type": "execute_result",
          "data": {
            "text/plain": [
              "Index(['Age', 'Gender ', 'Total Bilirubin', 'Direct Bilirubin\\n',\n",
              "       'Alkaline Phosphotase\\n', 'Alamine Aminotransferase\\n',\n",
              "       'Aspartate Aminotransferase', 'Total Protiens\\n', 'Albumin',\n",
              "       'Albumin and Globulin Ratio\\n', 'Target'],\n",
              "      dtype='object')"
            ]
          },
          "metadata": {},
          "execution_count": 201
        }
      ]
    },
    {
      "cell_type": "code",
      "source": [
        "sns.histplot(x='Age',data=df,kde = True)"
      ],
      "metadata": {
        "colab": {
          "base_uri": "https://localhost:8080/",
          "height": 296
        },
        "id": "ZnJAOZWrl6dt",
        "outputId": "3d0c19d1-1c11-45b6-a5b1-7367d72587c6"
      },
      "execution_count": null,
      "outputs": [
        {
          "output_type": "execute_result",
          "data": {
            "text/plain": [
              "<matplotlib.axes._subplots.AxesSubplot at 0x7fd7ea8db6d0>"
            ]
          },
          "metadata": {},
          "execution_count": 202
        },
        {
          "output_type": "display_data",
          "data": {
            "text/plain": [
              "<Figure size 432x288 with 1 Axes>"
            ],
            "image/png": "[encoded data removed]"
          },
          "metadata": {
            "needs_background": "light"
          }
        }
      ]
    },
    {
      "cell_type": "code",
      "source": [
        "plt.figure(figsize=(20,15))\n",
        "plotnumber = 1\n",
        "\n",
        "for column in df.columns[2:-1]:\n",
        "  if plotnumber<=9:\n",
        "    ax = plt.subplot(3,3,plotnumber)\n",
        "    sns.histplot(x=column,data=df,kde=True,)\n",
        "    plt.xlabel(column,fontsize=20)\n",
        "\n",
        "  plotnumber+=1"
      ],
      "metadata": {
        "colab": {
          "base_uri": "https://localhost:8080/",
          "height": 908
        },
        "id": "I1leV_jVjnyA",
        "outputId": "08b453ec-bff2-4699-bc0d-e68737bf9ba9"
      },
      "execution_count": null,
      "outputs": [
        {
          "output_type": "display_data",
          "data": {
            "text/plain": [
              "<Figure size 1440x1080 with 8 Axes>"
            ],
            "image/png": "[encoded data removed]"
          },
          "metadata": {
            "needs_background": "light"
          }
        }
      ]
    },
    {
      "cell_type": "markdown",
      "source": [
        "The Data in Total Bilirubin, Direct Bilirubin, Alkaline Phospotase, Alanine Aminotransferase and Aspartate Aminotransferase is Positively skewed"
      ],
      "metadata": {
        "id": "1gDra4VWnYc2"
      }
    },
    {
      "cell_type": "markdown",
      "source": [
        "Checking Outliers with Boxplot"
      ],
      "metadata": {
        "id": "cBZI-fzatdiJ"
      }
    },
    {
      "cell_type": "code",
      "source": [
        "sns.boxplot(x='Age',data=df)"
      ],
      "metadata": {
        "colab": {
          "base_uri": "https://localhost:8080/",
          "height": 296
        },
        "id": "ZmqBU0vwtN65",
        "outputId": "c2b12cc9-a8da-4d43-e734-30ceceabafd5"
      },
      "execution_count": null,
      "outputs": [
        {
          "output_type": "execute_result",
          "data": {
            "text/plain": [
              "<matplotlib.axes._subplots.AxesSubplot at 0x7fd7ed9de150>"
            ]
          },
          "metadata": {},
          "execution_count": 204
        },
        {
          "output_type": "display_data",
          "data": {
            "text/plain": [
              "<Figure size 432x288 with 1 Axes>"
            ],
            "image/png": "[encoded data removed]"
          },
          "metadata": {
            "needs_background": "light"
          }
        }
      ]
    },
    {
      "cell_type": "code",
      "source": [
        "plt.figure(figsize=(25,20))\n",
        "plotnumber = 1\n",
        "\n",
        "for column in df.columns[2:-1]:\n",
        "\n",
        "  if plotnumber<=11:\n",
        "    ax = plt.subplot(4,3,plotnumber)\n",
        "    sns.boxplot(x=column,data=df)\n",
        "    plt.xlabel(column,fontsize=15)\n",
        "\n",
        "  plotnumber+=1"
      ],
      "metadata": {
        "colab": {
          "base_uri": "https://localhost:8080/",
          "height": 784
        },
        "id": "blZQ44--p3kC",
        "outputId": "a3fa93c2-59c2-40c1-fee7-6f6bc8ba66ad"
      },
      "execution_count": null,
      "outputs": [
        {
          "output_type": "display_data",
          "data": {
            "text/plain": [
              "<Figure size 1800x1440 with 8 Axes>"
            ],
            "image/png": "[encoded data removed]"
          },
          "metadata": {
            "needs_background": "light"
          }
        }
      ]
    },
    {
      "cell_type": "markdown",
      "source": [
        "## Bivariate Analysis"
      ],
      "metadata": {
        "id": "5XXVkGtNuD9q"
      }
    },
    {
      "cell_type": "code",
      "source": [
        "sns.catplot(x=\"Age\", y=\"Gender \", hue=\"Target\", data=df)"
      ],
      "metadata": {
        "colab": {
          "base_uri": "https://localhost:8080/",
          "height": 386
        },
        "id": "omZD9lbhnAJY",
        "outputId": "113cfbe9-767f-4551-882d-2d74d0e633c6"
      },
      "execution_count": null,
      "outputs": [
        {
          "output_type": "execute_result",
          "data": {
            "text/plain": [
              "<seaborn.axisgrid.FacetGrid at 0x7fd7eae2e310>"
            ]
          },
          "metadata": {},
          "execution_count": 206
        },
        {
          "output_type": "display_data",
          "data": {
            "text/plain": [
              "<Figure size 411.875x360 with 1 Axes>"
            ],
            "image/png": "[encoded data removed]"
          },
          "metadata": {
            "needs_background": "light"
          }
        }
      ]
    },
    {
      "cell_type": "markdown",
      "source": [
        "Males above age 35 are more prone to have lever disease as compared to females\n"
      ],
      "metadata": {
        "id": "DYmVwKcutegp"
      }
    },
    {
      "cell_type": "code",
      "source": [
        "sns.scatterplot(x='Total Bilirubin',y='Direct Bilirubin\\n', data=df)"
      ],
      "metadata": {
        "colab": {
          "base_uri": "https://localhost:8080/",
          "height": 296
        },
        "id": "2saXddx7ok4e",
        "outputId": "ef35a65e-3ede-4bfd-8007-642f17f3f0cc"
      },
      "execution_count": null,
      "outputs": [
        {
          "output_type": "execute_result",
          "data": {
            "text/plain": [
              "<matplotlib.axes._subplots.AxesSubplot at 0x7fd7ecb227d0>"
            ]
          },
          "metadata": {},
          "execution_count": 207
        },
        {
          "output_type": "display_data",
          "data": {
            "text/plain": [
              "<Figure size 432x288 with 1 Axes>"
            ],
            "image/png": "[encoded data removed]"
          },
          "metadata": {
            "needs_background": "light"
          }
        }
      ]
    },
    {
      "cell_type": "markdown",
      "source": [
        "Total Bilirubin and Direct Bilirubin are strongly correlated "
      ],
      "metadata": {
        "id": "rU7NqoUolcno"
      }
    },
    {
      "cell_type": "markdown",
      "source": [],
      "metadata": {
        "id": "zwfZMa3nxhfa"
      }
    },
    {
      "cell_type": "code",
      "source": [
        "sns.scatterplot(y='Alamine Aminotransferase\\n',x='Aspartate Aminotransferase', data=df)"
      ],
      "metadata": {
        "colab": {
          "base_uri": "https://localhost:8080/",
          "height": 296
        },
        "id": "PpPV7YYqqH9W",
        "outputId": "5adc5d09-b4cf-4c4a-cc4f-a23363597da0"
      },
      "execution_count": null,
      "outputs": [
        {
          "output_type": "execute_result",
          "data": {
            "text/plain": [
              "<matplotlib.axes._subplots.AxesSubplot at 0x7fd7ecbdb910>"
            ]
          },
          "metadata": {},
          "execution_count": 208
        },
        {
          "output_type": "display_data",
          "data": {
            "text/plain": [
              "<Figure size 432x288 with 1 Axes>"
            ],
            "image/png": "[encoded data removed]"
          },
          "metadata": {
            "needs_background": "light"
          }
        }
      ]
    },
    {
      "cell_type": "markdown",
      "source": [
        "Aspartate Aminotranferase and Alamine Aminotransferase are weakly correlated to each other "
      ],
      "metadata": {
        "id": "RmqA1ui3hxtQ"
      }
    },
    {
      "cell_type": "code",
      "source": [
        "sns.scatterplot(y='Total Protiens\\n',x='Albumin', data=df)"
      ],
      "metadata": {
        "id": "DBM76QQF04qX",
        "colab": {
          "base_uri": "https://localhost:8080/",
          "height": 296
        },
        "outputId": "c3d9cb75-b158-44fe-fff6-04f3acc9f349"
      },
      "execution_count": null,
      "outputs": [
        {
          "output_type": "execute_result",
          "data": {
            "text/plain": [
              "<matplotlib.axes._subplots.AxesSubplot at 0x7fd7febd53d0>"
            ]
          },
          "metadata": {},
          "execution_count": 209
        },
        {
          "output_type": "display_data",
          "data": {
            "text/plain": [
              "<Figure size 432x288 with 1 Axes>"
            ],
            "image/png": "[encoded data removed]"
          },
          "metadata": {
            "needs_background": "light"
          }
        }
      ]
    },
    {
      "cell_type": "markdown",
      "source": [
        "Albumin is a protein made by liver, the more amount of albumin indicates a healthy liver, therefore as Albumin increases total protein increases"
      ],
      "metadata": {
        "id": "CzwyGCzRnPwd"
      }
    },
    {
      "cell_type": "markdown",
      "source": [
        "## Multivariate Analysis"
      ],
      "metadata": {
        "id": "_XpbTyKCuJWh"
      }
    },
    {
      "cell_type": "code",
      "source": [
        "plt.figure(figsize=(15,10))\n",
        "sns.heatmap(df.corr(),annot=True)"
      ],
      "metadata": {
        "colab": {
          "base_uri": "https://localhost:8080/",
          "height": 743
        },
        "id": "miyGSJfwnNWG",
        "outputId": "1ce08a99-dd61-4fec-a989-3d535e8c1d49"
      },
      "execution_count": null,
      "outputs": [
        {
          "output_type": "execute_result",
          "data": {
            "text/plain": [
              "<matplotlib.axes._subplots.AxesSubplot at 0x7fd7fdc0e0d0>"
            ]
          },
          "metadata": {},
          "execution_count": 210
        },
        {
          "output_type": "display_data",
          "data": {
            "text/plain": [
              "<Figure size 1080x720 with 2 Axes>"
            ],
            "image/png": "[encoded data removed]"
          },
          "metadata": {
            "needs_background": "light"
          }
        }
      ]
    },
    {
      "cell_type": "markdown",
      "source": [
        "There are no independent Variables that are strongly correlated to each other that is why we are not removing any independent variable"
      ],
      "metadata": {
        "id": "tfiA1HpluUhC"
      }
    },
    {
      "cell_type": "markdown",
      "source": [
        "#10 Data Preprocessing"
      ],
      "metadata": {
        "id": "Dsgw42Gfrf8T"
      }
    },
    {
      "cell_type": "markdown",
      "source": [
        "### Finding and removing Duplicate Entries"
      ],
      "metadata": {
        "id": "EtfNU6EtsHI3"
      }
    },
    {
      "cell_type": "code",
      "source": [
        "df[df.duplicated()==True]"
      ],
      "metadata": {
        "colab": {
          "base_uri": "https://localhost:8080/",
          "height": 518
        },
        "id": "CpIpViYWrMMa",
        "outputId": "eb319f96-1b87-4ec6-ce5a-5e9e1034f509"
      },
      "execution_count": null,
      "outputs": [
        {
          "output_type": "execute_result",
          "data": {
            "text/plain": [
              "      Age Gender   Total Bilirubin  Direct Bilirubin\\n  \\\n",
              "19   40.0  Female              0.9                 0.3   \n",
              "26   34.0    Male              4.1                 2.0   \n",
              "34   38.0  Female              2.6                 1.2   \n",
              "55   42.0    Male              8.9                 4.5   \n",
              "62   58.0    Male              1.0                 0.5   \n",
              "106  36.0    Male              5.3                 2.3   \n",
              "108  36.0    Male              0.8                 0.2   \n",
              "138  18.0    Male              0.8                 0.2   \n",
              "143  30.0    Male              1.6                 0.4   \n",
              "158  72.0    Male              0.7                 0.1   \n",
              "164  39.0    Male              1.9                 0.9   \n",
              "174  31.0    Male              0.6                 0.1   \n",
              "201  49.0    Male              0.6                 0.1   \n",
              "\n",
              "     Alkaline Phosphotase\\n  Alamine Aminotransferase\\n  \\\n",
              "19                    293.0                       232.0   \n",
              "26                    289.0                       875.0   \n",
              "34                    410.0                        59.0   \n",
              "55                    272.0                        31.0   \n",
              "62                    158.0                        37.0   \n",
              "106                   145.0                        32.0   \n",
              "108                   158.0                        29.0   \n",
              "138                   282.0                        72.0   \n",
              "143                   332.0                        84.0   \n",
              "158                   196.0                        20.0   \n",
              "164                   180.0                        42.0   \n",
              "174                   175.0                        48.0   \n",
              "201                   218.0                        50.0   \n",
              "\n",
              "     Aspartate Aminotransferase  Total Protiens\\n  Albumin  \\\n",
              "19                        245.0               6.8      3.1   \n",
              "26                        731.0               5.0      2.7   \n",
              "34                         57.0               5.6      3.0   \n",
              "55                         61.0               5.8      2.0   \n",
              "62                         43.0               7.2      3.6   \n",
              "106                        92.0               5.1      2.6   \n",
              "108                        39.0               6.0      2.2   \n",
              "138                       140.0               5.5      2.5   \n",
              "143                       139.0               5.6      2.7   \n",
              "158                        35.0               5.8      2.0   \n",
              "164                        62.0               7.4      4.3   \n",
              "174                        34.0               6.0      3.7   \n",
              "201                        53.0               5.0      2.4   \n",
              "\n",
              "     Albumin and Globulin Ratio\\n  Target  \n",
              "19                           0.80     1.0  \n",
              "26                           1.10     1.0  \n",
              "34                           0.80     2.0  \n",
              "55                           0.50     1.0  \n",
              "62                           1.00     1.0  \n",
              "106                          1.00     2.0  \n",
              "108                          0.50     2.0  \n",
              "138                          0.80     1.0  \n",
              "143                          0.90     1.0  \n",
              "158                          0.50     1.0  \n",
              "164                          1.38     1.0  \n",
              "174                          1.60     1.0  \n",
              "201                          0.90     1.0  "
            ],
            "text/html": [
              "\n",
              "  <div id=\"df-dc2f3258-dc98-4adb-8af1-b143d78a15ee\">\n",
              "    <div class=\"colab-df-container\">\n",
              "      <div>\n",
              "<style scoped>\n",
              "    .dataframe tbody tr th:only-of-type {\n",
              "        vertical-align: middle;\n",
              "    }\n",
              "\n",
              "    .dataframe tbody tr th {\n",
              "        vertical-align: top;\n",
              "    }\n",
              "\n",
              "    .dataframe thead th {\n",
              "        text-align: right;\n",
              "    }\n",
              "</style>\n",
              "<table border=\"1\" class=\"dataframe\">\n",
              "  <thead>\n",
              "    <tr style=\"text-align: right;\">\n",
              "      <th></th>\n",
              "      <th>Age</th>\n",
              "      <th>Gender</th>\n",
              "      <th>Total Bilirubin</th>\n",
              "      <th>Direct Bilirubin\\n</th>\n",
              "      <th>Alkaline Phosphotase\\n</th>\n",
              "      <th>Alamine Aminotransferase\\n</th>\n",
              "      <th>Aspartate Aminotransferase</th>\n",
              "      <th>Total Protiens\\n</th>\n",
              "      <th>Albumin</th>\n",
              "      <th>Albumin and Globulin Ratio\\n</th>\n",
              "      <th>Target</th>\n",
              "    </tr>\n",
              "  </thead>\n",
              "  <tbody>\n",
              "    <tr>\n",
              "      <th>19</th>\n",
              "      <td>40.0</td>\n",
              "      <td>Female</td>\n",
              "      <td>0.9</td>\n",
              "      <td>0.3</td>\n",
              "      <td>293.0</td>\n",
              "      <td>232.0</td>\n",
              "      <td>245.0</td>\n",
              "      <td>6.8</td>\n",
              "      <td>3.1</td>\n",
              "      <td>0.80</td>\n",
              "      <td>1.0</td>\n",
              "    </tr>\n",
              "    <tr>\n",
              "      <th>26</th>\n",
              "      <td>34.0</td>\n",
              "      <td>Male</td>\n",
              "      <td>4.1</td>\n",
              "      <td>2.0</td>\n",
              "      <td>289.0</td>\n",
              "      <td>875.0</td>\n",
              "      <td>731.0</td>\n",
              "      <td>5.0</td>\n",
              "      <td>2.7</td>\n",
              "      <td>1.10</td>\n",
              "      <td>1.0</td>\n",
              "    </tr>\n",
              "    <tr>\n",
              "      <th>34</th>\n",
              "      <td>38.0</td>\n",
              "      <td>Female</td>\n",
              "      <td>2.6</td>\n",
              "      <td>1.2</td>\n",
              "      <td>410.0</td>\n",
              "      <td>59.0</td>\n",
              "      <td>57.0</td>\n",
              "      <td>5.6</td>\n",
              "      <td>3.0</td>\n",
              "      <td>0.80</td>\n",
              "      <td>2.0</td>\n",
              "    </tr>\n",
              "    <tr>\n",
              "      <th>55</th>\n",
              "      <td>42.0</td>\n",
              "      <td>Male</td>\n",
              "      <td>8.9</td>\n",
              "      <td>4.5</td>\n",
              "      <td>272.0</td>\n",
              "      <td>31.0</td>\n",
              "      <td>61.0</td>\n",
              "      <td>5.8</td>\n",
              "      <td>2.0</td>\n",
              "      <td>0.50</td>\n",
              "      <td>1.0</td>\n",
              "    </tr>\n",
              "    <tr>\n",
              "      <th>62</th>\n",
              "      <td>58.0</td>\n",
              "      <td>Male</td>\n",
              "      <td>1.0</td>\n",
              "      <td>0.5</td>\n",
              "      <td>158.0</td>\n",
              "      <td>37.0</td>\n",
              "      <td>43.0</td>\n",
              "      <td>7.2</td>\n",
              "      <td>3.6</td>\n",
              "      <td>1.00</td>\n",
              "      <td>1.0</td>\n",
              "    </tr>\n",
              "    <tr>\n",
              "      <th>106</th>\n",
              "      <td>36.0</td>\n",
              "      <td>Male</td>\n",
              "      <td>5.3</td>\n",
              "      <td>2.3</td>\n",
              "      <td>145.0</td>\n",
              "      <td>32.0</td>\n",
              "      <td>92.0</td>\n",
              "      <td>5.1</td>\n",
              "      <td>2.6</td>\n",
              "      <td>1.00</td>\n",
              "      <td>2.0</td>\n",
              "    </tr>\n",
              "    <tr>\n",
              "      <th>108</th>\n",
              "      <td>36.0</td>\n",
              "      <td>Male</td>\n",
              "      <td>0.8</td>\n",
              "      <td>0.2</td>\n",
              "      <td>158.0</td>\n",
              "      <td>29.0</td>\n",
              "      <td>39.0</td>\n",
              "      <td>6.0</td>\n",
              "      <td>2.2</td>\n",
              "      <td>0.50</td>\n",
              "      <td>2.0</td>\n",
              "    </tr>\n",
              "    <tr>\n",
              "      <th>138</th>\n",
              "      <td>18.0</td>\n",
              "      <td>Male</td>\n",
              "      <td>0.8</td>\n",
              "      <td>0.2</td>\n",
              "      <td>282.0</td>\n",
              "      <td>72.0</td>\n",
              "      <td>140.0</td>\n",
              "      <td>5.5</td>\n",
              "      <td>2.5</td>\n",
              "      <td>0.80</td>\n",
              "      <td>1.0</td>\n",
              "    </tr>\n",
              "    <tr>\n",
              "      <th>143</th>\n",
              "      <td>30.0</td>\n",
              "      <td>Male</td>\n",
              "      <td>1.6</td>\n",
              "      <td>0.4</td>\n",
              "      <td>332.0</td>\n",
              "      <td>84.0</td>\n",
              "      <td>139.0</td>\n",
              "      <td>5.6</td>\n",
              "      <td>2.7</td>\n",
              "      <td>0.90</td>\n",
              "      <td>1.0</td>\n",
              "    </tr>\n",
              "    <tr>\n",
              "      <th>158</th>\n",
              "      <td>72.0</td>\n",
              "      <td>Male</td>\n",
              "      <td>0.7</td>\n",
              "      <td>0.1</td>\n",
              "      <td>196.0</td>\n",
              "      <td>20.0</td>\n",
              "      <td>35.0</td>\n",
              "      <td>5.8</td>\n",
              "      <td>2.0</td>\n",
              "      <td>0.50</td>\n",
              "      <td>1.0</td>\n",
              "    </tr>\n",
              "    <tr>\n",
              "      <th>164</th>\n",
              "      <td>39.0</td>\n",
              "      <td>Male</td>\n",
              "      <td>1.9</td>\n",
              "      <td>0.9</td>\n",
              "      <td>180.0</td>\n",
              "      <td>42.0</td>\n",
              "      <td>62.0</td>\n",
              "      <td>7.4</td>\n",
              "      <td>4.3</td>\n",
              "      <td>1.38</td>\n",
              "      <td>1.0</td>\n",
              "    </tr>\n",
              "    <tr>\n",
              "      <th>174</th>\n",
              "      <td>31.0</td>\n",
              "      <td>Male</td>\n",
              "      <td>0.6</td>\n",
              "      <td>0.1</td>\n",
              "      <td>175.0</td>\n",
              "      <td>48.0</td>\n",
              "      <td>34.0</td>\n",
              "      <td>6.0</td>\n",
              "      <td>3.7</td>\n",
              "      <td>1.60</td>\n",
              "      <td>1.0</td>\n",
              "    </tr>\n",
              "    <tr>\n",
              "      <th>201</th>\n",
              "      <td>49.0</td>\n",
              "      <td>Male</td>\n",
              "      <td>0.6</td>\n",
              "      <td>0.1</td>\n",
              "      <td>218.0</td>\n",
              "      <td>50.0</td>\n",
              "      <td>53.0</td>\n",
              "      <td>5.0</td>\n",
              "      <td>2.4</td>\n",
              "      <td>0.90</td>\n",
              "      <td>1.0</td>\n",
              "    </tr>\n",
              "  </tbody>\n",
              "</table>\n",
              "</div>\n",
              "      <button class=\"colab-df-convert\" onclick=\"convertToInteractive('df-dc2f3258-dc98-4adb-8af1-b143d78a15ee')\"\n",
              "              title=\"Convert this dataframe to an interactive table.\"\n",
              "              style=\"display:none;\">\n",
              "        \n",
              "  <svg xmlns=\"http://www.w3.org/2000/svg\" height=\"24px\"viewBox=\"0 0 24 24\"\n",
              "       width=\"24px\">\n",
              "    <path d=\"M0 0h24v24H0V0z\" fill=\"none\"/>\n",
              "    <path d=\"M18.56 5.44l.94 2.06.94-2.06 2.06-.94-2.06-.94-.94-2.06-.94 2.06-2.06.94zm-11 1L8.5 8.5l.94-2.06 2.06-.94-2.06-.94L8.5 2.5l-.94 2.06-2.06.94zm10 10l.94 2.06.94-2.06 2.06-.94-2.06-.94-.94-2.06-.94 2.06-2.06.94z\"/><path d=\"M17.41 7.96l-1.37-1.37c-.4-.4-.92-.59-1.43-.59-.52 0-1.04.2-1.43.59L10.3 9.45l-7.72 7.72c-.78.78-.78 2.05 0 2.83L4 21.41c.39.39.9.59 1.41.59.51 0 1.02-.2 1.41-.59l7.78-7.78 2.81-2.81c.8-.78.8-2.07 0-2.86zM5.41 20L4 18.59l7.72-7.72 1.47 1.35L5.41 20z\"/>\n",
              "  </svg>\n",
              "      </button>\n",
              "      \n",
              "  <style>\n",
              "    .colab-df-container {\n",
              "      display:flex;\n",
              "      flex-wrap:wrap;\n",
              "      gap: 12px;\n",
              "    }\n",
              "\n",
              "    .colab-df-convert {\n",
              "      background-color: #E8F0FE;\n",
              "      border: none;\n",
              "      border-radius: 50%;\n",
              "      cursor: pointer;\n",
              "      display: none;\n",
              "      fill: #1967D2;\n",
              "      height: 32px;\n",
              "      padding: 0 0 0 0;\n",
              "      width: 32px;\n",
              "    }\n",
              "\n",
              "    .colab-df-convert:hover {\n",
              "      background-color: #E2EBFA;\n",
              "      box-shadow: 0px 1px 2px rgba(60, 64, 67, 0.3), 0px 1px 3px 1px rgba(60, 64, 67, 0.15);\n",
              "      fill: #174EA6;\n",
              "    }\n",
              "\n",
              "    [theme=dark] .colab-df-convert {\n",
              "      background-color: #3B4455;\n",
              "      fill: #D2E3FC;\n",
              "    }\n",
              "\n",
              "    [theme=dark] .colab-df-convert:hover {\n",
              "      background-color: #434B5C;\n",
              "      box-shadow: 0px 1px 3px 1px rgba(0, 0, 0, 0.15);\n",
              "      filter: drop-shadow(0px 1px 2px rgba(0, 0, 0, 0.3));\n",
              "      fill: #FFFFFF;\n",
              "    }\n",
              "  </style>\n",
              "\n",
              "      <script>\n",
              "        const buttonEl =\n",
              "          document.querySelector('#df-dc2f3258-dc98-4adb-8af1-b143d78a15ee button.colab-df-convert');\n",
              "        buttonEl.style.display =\n",
              "          google.colab.kernel.accessAllowed ? 'block' : 'none';\n",
              "\n",
              "        async function convertToInteractive(key) {\n",
              "          const element = document.querySelector('#df-dc2f3258-dc98-4adb-8af1-b143d78a15ee');\n",
              "          const dataTable =\n",
              "            await google.colab.kernel.invokeFunction('convertToInteractive',\n",
              "                                                     [key], {});\n",
              "          if (!dataTable) return;\n",
              "\n",
              "          const docLinkHtml = 'Like what you see? Visit the ' +\n",
              "            '<a target=\"_blank\" href=https://colab.research.google.com/notebooks/data_table.ipynb>data table notebook</a>'\n",
              "            + ' to learn more about interactive tables.';\n",
              "          element.innerHTML = '';\n",
              "          dataTable['output_type'] = 'display_data';\n",
              "          await google.colab.output.renderOutput(dataTable, element);\n",
              "          const docLink = document.createElement('div');\n",
              "          docLink.innerHTML = docLinkHtml;\n",
              "          element.appendChild(docLink);\n",
              "        }\n",
              "      </script>\n",
              "    </div>\n",
              "  </div>\n",
              "  "
            ]
          },
          "metadata": {},
          "execution_count": 211
        }
      ]
    },
    {
      "cell_type": "markdown",
      "source": [
        "We have 13 duplicate entries so we are dropping them from the data"
      ],
      "metadata": {
        "id": "JqPU8TIhsrD6"
      }
    },
    {
      "cell_type": "code",
      "source": [
        "df[df.duplicated()==True].index"
      ],
      "metadata": {
        "colab": {
          "base_uri": "https://localhost:8080/"
        },
        "id": "eTT_I5A-sj4Y",
        "outputId": "6dcc5028-6dae-4c6f-83fd-4ee43a8aacd8"
      },
      "execution_count": null,
      "outputs": [
        {
          "output_type": "execute_result",
          "data": {
            "text/plain": [
              "Int64Index([19, 26, 34, 55, 62, 106, 108, 138, 143, 158, 164, 174, 201], dtype='int64')"
            ]
          },
          "metadata": {},
          "execution_count": 212
        }
      ]
    },
    {
      "cell_type": "code",
      "source": [
        "df.drop(labels=[19, 26, 34, 55, 62, 106, 108, 138, 143, 158, 164, 174, 201],axis=0,inplace=True)"
      ],
      "metadata": {
        "id": "QxZR35jjtILl"
      },
      "execution_count": null,
      "outputs": []
    },
    {
      "cell_type": "code",
      "source": [
        "df[df.duplicated()==True]"
      ],
      "metadata": {
        "colab": {
          "base_uri": "https://localhost:8080/",
          "height": 111
        },
        "id": "kJ0RZ0vAtbal",
        "outputId": "3bd4c000-c84c-47be-8a7f-9ab3293be2b8"
      },
      "execution_count": null,
      "outputs": [
        {
          "output_type": "execute_result",
          "data": {
            "text/plain": [
              "Empty DataFrame\n",
              "Columns: [Age, Gender , Total Bilirubin, Direct Bilirubin\n",
              ", Alkaline Phosphotase\n",
              ", Alamine Aminotransferase\n",
              ", Aspartate Aminotransferase, Total Protiens\n",
              ", Albumin, Albumin and Globulin Ratio\n",
              ", Target]\n",
              "Index: []"
            ],
            "text/html": [
              "\n",
              "  <div id=\"df-9a3e5af1-02f4-4ee4-8702-bf1df8c621f8\">\n",
              "    <div class=\"colab-df-container\">\n",
              "      <div>\n",
              "<style scoped>\n",
              "    .dataframe tbody tr th:only-of-type {\n",
              "        vertical-align: middle;\n",
              "    }\n",
              "\n",
              "    .dataframe tbody tr th {\n",
              "        vertical-align: top;\n",
              "    }\n",
              "\n",
              "    .dataframe thead th {\n",
              "        text-align: right;\n",
              "    }\n",
              "</style>\n",
              "<table border=\"1\" class=\"dataframe\">\n",
              "  <thead>\n",
              "    <tr style=\"text-align: right;\">\n",
              "      <th></th>\n",
              "      <th>Age</th>\n",
              "      <th>Gender</th>\n",
              "      <th>Total Bilirubin</th>\n",
              "      <th>Direct Bilirubin\\n</th>\n",
              "      <th>Alkaline Phosphotase\\n</th>\n",
              "      <th>Alamine Aminotransferase\\n</th>\n",
              "      <th>Aspartate Aminotransferase</th>\n",
              "      <th>Total Protiens\\n</th>\n",
              "      <th>Albumin</th>\n",
              "      <th>Albumin and Globulin Ratio\\n</th>\n",
              "      <th>Target</th>\n",
              "    </tr>\n",
              "  </thead>\n",
              "  <tbody>\n",
              "  </tbody>\n",
              "</table>\n",
              "</div>\n",
              "      <button class=\"colab-df-convert\" onclick=\"convertToInteractive('df-9a3e5af1-02f4-4ee4-8702-bf1df8c621f8')\"\n",
              "              title=\"Convert this dataframe to an interactive table.\"\n",
              "              style=\"display:none;\">\n",
              "        \n",
              "  <svg xmlns=\"http://www.w3.org/2000/svg\" height=\"24px\"viewBox=\"0 0 24 24\"\n",
              "       width=\"24px\">\n",
              "    <path d=\"M0 0h24v24H0V0z\" fill=\"none\"/>\n",
              "    <path d=\"M18.56 5.44l.94 2.06.94-2.06 2.06-.94-2.06-.94-.94-2.06-.94 2.06-2.06.94zm-11 1L8.5 8.5l.94-2.06 2.06-.94-2.06-.94L8.5 2.5l-.94 2.06-2.06.94zm10 10l.94 2.06.94-2.06 2.06-.94-2.06-.94-.94-2.06-.94 2.06-2.06.94z\"/><path d=\"M17.41 7.96l-1.37-1.37c-.4-.4-.92-.59-1.43-.59-.52 0-1.04.2-1.43.59L10.3 9.45l-7.72 7.72c-.78.78-.78 2.05 0 2.83L4 21.41c.39.39.9.59 1.41.59.51 0 1.02-.2 1.41-.59l7.78-7.78 2.81-2.81c.8-.78.8-2.07 0-2.86zM5.41 20L4 18.59l7.72-7.72 1.47 1.35L5.41 20z\"/>\n",
              "  </svg>\n",
              "      </button>\n",
              "      \n",
              "  <style>\n",
              "    .colab-df-container {\n",
              "      display:flex;\n",
              "      flex-wrap:wrap;\n",
              "      gap: 12px;\n",
              "    }\n",
              "\n",
              "    .colab-df-convert {\n",
              "      background-color: #E8F0FE;\n",
              "      border: none;\n",
              "      border-radius: 50%;\n",
              "      cursor: pointer;\n",
              "      display: none;\n",
              "      fill: #1967D2;\n",
              "      height: 32px;\n",
              "      padding: 0 0 0 0;\n",
              "      width: 32px;\n",
              "    }\n",
              "\n",
              "    .colab-df-convert:hover {\n",
              "      background-color: #E2EBFA;\n",
              "      box-shadow: 0px 1px 2px rgba(60, 64, 67, 0.3), 0px 1px 3px 1px rgba(60, 64, 67, 0.15);\n",
              "      fill: #174EA6;\n",
              "    }\n",
              "\n",
              "    [theme=dark] .colab-df-convert {\n",
              "      background-color: #3B4455;\n",
              "      fill: #D2E3FC;\n",
              "    }\n",
              "\n",
              "    [theme=dark] .colab-df-convert:hover {\n",
              "      background-color: #434B5C;\n",
              "      box-shadow: 0px 1px 3px 1px rgba(0, 0, 0, 0.15);\n",
              "      filter: drop-shadow(0px 1px 2px rgba(0, 0, 0, 0.3));\n",
              "      fill: #FFFFFF;\n",
              "    }\n",
              "  </style>\n",
              "\n",
              "      <script>\n",
              "        const buttonEl =\n",
              "          document.querySelector('#df-9a3e5af1-02f4-4ee4-8702-bf1df8c621f8 button.colab-df-convert');\n",
              "        buttonEl.style.display =\n",
              "          google.colab.kernel.accessAllowed ? 'block' : 'none';\n",
              "\n",
              "        async function convertToInteractive(key) {\n",
              "          const element = document.querySelector('#df-9a3e5af1-02f4-4ee4-8702-bf1df8c621f8');\n",
              "          const dataTable =\n",
              "            await google.colab.kernel.invokeFunction('convertToInteractive',\n",
              "                                                     [key], {});\n",
              "          if (!dataTable) return;\n",
              "\n",
              "          const docLinkHtml = 'Like what you see? Visit the ' +\n",
              "            '<a target=\"_blank\" href=https://colab.research.google.com/notebooks/data_table.ipynb>data table notebook</a>'\n",
              "            + ' to learn more about interactive tables.';\n",
              "          element.innerHTML = '';\n",
              "          dataTable['output_type'] = 'display_data';\n",
              "          await google.colab.output.renderOutput(dataTable, element);\n",
              "          const docLink = document.createElement('div');\n",
              "          docLink.innerHTML = docLinkHtml;\n",
              "          element.appendChild(docLink);\n",
              "        }\n",
              "      </script>\n",
              "    </div>\n",
              "  </div>\n",
              "  "
            ]
          },
          "metadata": {},
          "execution_count": 214
        }
      ]
    },
    {
      "cell_type": "markdown",
      "source": [
        "## Imputing Missing Values"
      ],
      "metadata": {
        "id": "79ymYCuOv2DW"
      }
    },
    {
      "cell_type": "code",
      "source": [
        "df.info()"
      ],
      "metadata": {
        "colab": {
          "base_uri": "https://localhost:8080/"
        },
        "id": "w_B3YL_qtd4T",
        "outputId": "282e4e7f-c367-4d84-ee70-dd5a18e11609"
      },
      "execution_count": null,
      "outputs": [
        {
          "output_type": "stream",
          "name": "stdout",
          "text": [
            "<class 'pandas.core.frame.DataFrame'>\n",
            "Int64Index: 570 entries, 0 to 582\n",
            "Data columns (total 11 columns):\n",
            " #   Column                       Non-Null Count  Dtype  \n",
            "---  ------                       --------------  -----  \n",
            " 0   Age                          570 non-null    float64\n",
            " 1   Gender                       570 non-null    object \n",
            " 2   Total Bilirubin              570 non-null    float64\n",
            " 3   Direct Bilirubin\n",
            "            570 non-null    float64\n",
            " 4   Alkaline Phosphotase\n",
            "        570 non-null    float64\n",
            " 5   Alamine Aminotransferase\n",
            "    570 non-null    float64\n",
            " 6   Aspartate Aminotransferase   570 non-null    float64\n",
            " 7   Total Protiens\n",
            "              570 non-null    float64\n",
            " 8   Albumin                      570 non-null    float64\n",
            " 9   Albumin and Globulin Ratio\n",
            "  566 non-null    float64\n",
            " 10  Target                       570 non-null    float64\n",
            "dtypes: float64(10), object(1)\n",
            "memory usage: 53.4+ KB\n"
          ]
        }
      ]
    },
    {
      "cell_type": "code",
      "source": [
        "df[df['Albumin and Globulin Ratio\\n'].isnull()==True]"
      ],
      "metadata": {
        "colab": {
          "base_uri": "https://localhost:8080/",
          "height": 236
        },
        "id": "uRQ0aC8ev8hy",
        "outputId": "c9e0a469-fc94-40e4-a8c0-882d0cde2186"
      },
      "execution_count": null,
      "outputs": [
        {
          "output_type": "execute_result",
          "data": {
            "text/plain": [
              "      Age Gender   Total Bilirubin  Direct Bilirubin\\n  \\\n",
              "209  45.0  Female              0.9                 0.3   \n",
              "241  51.0    Male              0.8                 0.2   \n",
              "253  35.0  Female              0.6                 0.2   \n",
              "312  27.0    Male              1.3                 0.6   \n",
              "\n",
              "     Alkaline Phosphotase\\n  Alamine Aminotransferase\\n  \\\n",
              "209                   189.0                        23.0   \n",
              "241                   230.0                        24.0   \n",
              "253                   180.0                        12.0   \n",
              "312                   106.0                        25.0   \n",
              "\n",
              "     Aspartate Aminotransferase  Total Protiens\\n  Albumin  \\\n",
              "209                        33.0               6.6      3.9   \n",
              "241                        46.0               6.5      3.1   \n",
              "253                        15.0               5.2      2.7   \n",
              "312                        54.0               8.5      4.8   \n",
              "\n",
              "     Albumin and Globulin Ratio\\n  Target  \n",
              "209                           NaN     1.0  \n",
              "241                           NaN     1.0  \n",
              "253                           NaN     2.0  \n",
              "312                           NaN     2.0  "
            ],
            "text/html": [
              "\n",
              "  <div id=\"df-51b11d2b-2d90-406e-9e6b-93f38a7d4137\">\n",
              "    <div class=\"colab-df-container\">\n",
              "      <div>\n",
              "<style scoped>\n",
              "    .dataframe tbody tr th:only-of-type {\n",
              "        vertical-align: middle;\n",
              "    }\n",
              "\n",
              "    .dataframe tbody tr th {\n",
              "        vertical-align: top;\n",
              "    }\n",
              "\n",
              "    .dataframe thead th {\n",
              "        text-align: right;\n",
              "    }\n",
              "</style>\n",
              "<table border=\"1\" class=\"dataframe\">\n",
              "  <thead>\n",
              "    <tr style=\"text-align: right;\">\n",
              "      <th></th>\n",
              "      <th>Age</th>\n",
              "      <th>Gender</th>\n",
              "      <th>Total Bilirubin</th>\n",
              "      <th>Direct Bilirubin\\n</th>\n",
              "      <th>Alkaline Phosphotase\\n</th>\n",
              "      <th>Alamine Aminotransferase\\n</th>\n",
              "      <th>Aspartate Aminotransferase</th>\n",
              "      <th>Total Protiens\\n</th>\n",
              "      <th>Albumin</th>\n",
              "      <th>Albumin and Globulin Ratio\\n</th>\n",
              "      <th>Target</th>\n",
              "    </tr>\n",
              "  </thead>\n",
              "  <tbody>\n",
              "    <tr>\n",
              "      <th>209</th>\n",
              "      <td>45.0</td>\n",
              "      <td>Female</td>\n",
              "      <td>0.9</td>\n",
              "      <td>0.3</td>\n",
              "      <td>189.0</td>\n",
              "      <td>23.0</td>\n",
              "      <td>33.0</td>\n",
              "      <td>6.6</td>\n",
              "      <td>3.9</td>\n",
              "      <td>NaN</td>\n",
              "      <td>1.0</td>\n",
              "    </tr>\n",
              "    <tr>\n",
              "      <th>241</th>\n",
              "      <td>51.0</td>\n",
              "      <td>Male</td>\n",
              "      <td>0.8</td>\n",
              "      <td>0.2</td>\n",
              "      <td>230.0</td>\n",
              "      <td>24.0</td>\n",
              "      <td>46.0</td>\n",
              "      <td>6.5</td>\n",
              "      <td>3.1</td>\n",
              "      <td>NaN</td>\n",
              "      <td>1.0</td>\n",
              "    </tr>\n",
              "    <tr>\n",
              "      <th>253</th>\n",
              "      <td>35.0</td>\n",
              "      <td>Female</td>\n",
              "      <td>0.6</td>\n",
              "      <td>0.2</td>\n",
              "      <td>180.0</td>\n",
              "      <td>12.0</td>\n",
              "      <td>15.0</td>\n",
              "      <td>5.2</td>\n",
              "      <td>2.7</td>\n",
              "      <td>NaN</td>\n",
              "      <td>2.0</td>\n",
              "    </tr>\n",
              "    <tr>\n",
              "      <th>312</th>\n",
              "      <td>27.0</td>\n",
              "      <td>Male</td>\n",
              "      <td>1.3</td>\n",
              "      <td>0.6</td>\n",
              "      <td>106.0</td>\n",
              "      <td>25.0</td>\n",
              "      <td>54.0</td>\n",
              "      <td>8.5</td>\n",
              "      <td>4.8</td>\n",
              "      <td>NaN</td>\n",
              "      <td>2.0</td>\n",
              "    </tr>\n",
              "  </tbody>\n",
              "</table>\n",
              "</div>\n",
              "      <button class=\"colab-df-convert\" onclick=\"convertToInteractive('df-51b11d2b-2d90-406e-9e6b-93f38a7d4137')\"\n",
              "              title=\"Convert this dataframe to an interactive table.\"\n",
              "              style=\"display:none;\">\n",
              "        \n",
              "  <svg xmlns=\"http://www.w3.org/2000/svg\" height=\"24px\"viewBox=\"0 0 24 24\"\n",
              "       width=\"24px\">\n",
              "    <path d=\"M0 0h24v24H0V0z\" fill=\"none\"/>\n",
              "    <path d=\"M18.56 5.44l.94 2.06.94-2.06 2.06-.94-2.06-.94-.94-2.06-.94 2.06-2.06.94zm-11 1L8.5 8.5l.94-2.06 2.06-.94-2.06-.94L8.5 2.5l-.94 2.06-2.06.94zm10 10l.94 2.06.94-2.06 2.06-.94-2.06-.94-.94-2.06-.94 2.06-2.06.94z\"/><path d=\"M17.41 7.96l-1.37-1.37c-.4-.4-.92-.59-1.43-.59-.52 0-1.04.2-1.43.59L10.3 9.45l-7.72 7.72c-.78.78-.78 2.05 0 2.83L4 21.41c.39.39.9.59 1.41.59.51 0 1.02-.2 1.41-.59l7.78-7.78 2.81-2.81c.8-.78.8-2.07 0-2.86zM5.41 20L4 18.59l7.72-7.72 1.47 1.35L5.41 20z\"/>\n",
              "  </svg>\n",
              "      </button>\n",
              "      \n",
              "  <style>\n",
              "    .colab-df-container {\n",
              "      display:flex;\n",
              "      flex-wrap:wrap;\n",
              "      gap: 12px;\n",
              "    }\n",
              "\n",
              "    .colab-df-convert {\n",
              "      background-color: #E8F0FE;\n",
              "      border: none;\n",
              "      border-radius: 50%;\n",
              "      cursor: pointer;\n",
              "      display: none;\n",
              "      fill: #1967D2;\n",
              "      height: 32px;\n",
              "      padding: 0 0 0 0;\n",
              "      width: 32px;\n",
              "    }\n",
              "\n",
              "    .colab-df-convert:hover {\n",
              "      background-color: #E2EBFA;\n",
              "      box-shadow: 0px 1px 2px rgba(60, 64, 67, 0.3), 0px 1px 3px 1px rgba(60, 64, 67, 0.15);\n",
              "      fill: #174EA6;\n",
              "    }\n",
              "\n",
              "    [theme=dark] .colab-df-convert {\n",
              "      background-color: #3B4455;\n",
              "      fill: #D2E3FC;\n",
              "    }\n",
              "\n",
              "    [theme=dark] .colab-df-convert:hover {\n",
              "      background-color: #434B5C;\n",
              "      box-shadow: 0px 1px 3px 1px rgba(0, 0, 0, 0.15);\n",
              "      filter: drop-shadow(0px 1px 2px rgba(0, 0, 0, 0.3));\n",
              "      fill: #FFFFFF;\n",
              "    }\n",
              "  </style>\n",
              "\n",
              "      <script>\n",
              "        const buttonEl =\n",
              "          document.querySelector('#df-51b11d2b-2d90-406e-9e6b-93f38a7d4137 button.colab-df-convert');\n",
              "        buttonEl.style.display =\n",
              "          google.colab.kernel.accessAllowed ? 'block' : 'none';\n",
              "\n",
              "        async function convertToInteractive(key) {\n",
              "          const element = document.querySelector('#df-51b11d2b-2d90-406e-9e6b-93f38a7d4137');\n",
              "          const dataTable =\n",
              "            await google.colab.kernel.invokeFunction('convertToInteractive',\n",
              "                                                     [key], {});\n",
              "          if (!dataTable) return;\n",
              "\n",
              "          const docLinkHtml = 'Like what you see? Visit the ' +\n",
              "            '<a target=\"_blank\" href=https://colab.research.google.com/notebooks/data_table.ipynb>data table notebook</a>'\n",
              "            + ' to learn more about interactive tables.';\n",
              "          element.innerHTML = '';\n",
              "          dataTable['output_type'] = 'display_data';\n",
              "          await google.colab.output.renderOutput(dataTable, element);\n",
              "          const docLink = document.createElement('div');\n",
              "          docLink.innerHTML = docLinkHtml;\n",
              "          element.appendChild(docLink);\n",
              "        }\n",
              "      </script>\n",
              "    </div>\n",
              "  </div>\n",
              "  "
            ]
          },
          "metadata": {},
          "execution_count": 216
        }
      ]
    },
    {
      "cell_type": "code",
      "source": [
        "df['Albumin and Globulin Ratio\\n'] = df['Albumin and Globulin Ratio\\n'].fillna(df['Albumin and Globulin Ratio\\n'].median())"
      ],
      "metadata": {
        "id": "aTPG9VIEy2as"
      },
      "execution_count": null,
      "outputs": []
    },
    {
      "cell_type": "code",
      "source": [
        "df[df['Albumin and Globulin Ratio\\n'].isnull()==True]"
      ],
      "metadata": {
        "colab": {
          "base_uri": "https://localhost:8080/",
          "height": 111
        },
        "id": "_sq2Vg070FsV",
        "outputId": "da6c3bee-94b2-487c-8c74-9e43b1f48be4"
      },
      "execution_count": null,
      "outputs": [
        {
          "output_type": "execute_result",
          "data": {
            "text/plain": [
              "Empty DataFrame\n",
              "Columns: [Age, Gender , Total Bilirubin, Direct Bilirubin\n",
              ", Alkaline Phosphotase\n",
              ", Alamine Aminotransferase\n",
              ", Aspartate Aminotransferase, Total Protiens\n",
              ", Albumin, Albumin and Globulin Ratio\n",
              ", Target]\n",
              "Index: []"
            ],
            "text/html": [
              "\n",
              "  <div id=\"df-50f3c95e-bac3-4788-906a-04f08746b3be\">\n",
              "    <div class=\"colab-df-container\">\n",
              "      <div>\n",
              "<style scoped>\n",
              "    .dataframe tbody tr th:only-of-type {\n",
              "        vertical-align: middle;\n",
              "    }\n",
              "\n",
              "    .dataframe tbody tr th {\n",
              "        vertical-align: top;\n",
              "    }\n",
              "\n",
              "    .dataframe thead th {\n",
              "        text-align: right;\n",
              "    }\n",
              "</style>\n",
              "<table border=\"1\" class=\"dataframe\">\n",
              "  <thead>\n",
              "    <tr style=\"text-align: right;\">\n",
              "      <th></th>\n",
              "      <th>Age</th>\n",
              "      <th>Gender</th>\n",
              "      <th>Total Bilirubin</th>\n",
              "      <th>Direct Bilirubin\\n</th>\n",
              "      <th>Alkaline Phosphotase\\n</th>\n",
              "      <th>Alamine Aminotransferase\\n</th>\n",
              "      <th>Aspartate Aminotransferase</th>\n",
              "      <th>Total Protiens\\n</th>\n",
              "      <th>Albumin</th>\n",
              "      <th>Albumin and Globulin Ratio\\n</th>\n",
              "      <th>Target</th>\n",
              "    </tr>\n",
              "  </thead>\n",
              "  <tbody>\n",
              "  </tbody>\n",
              "</table>\n",
              "</div>\n",
              "      <button class=\"colab-df-convert\" onclick=\"convertToInteractive('df-50f3c95e-bac3-4788-906a-04f08746b3be')\"\n",
              "              title=\"Convert this dataframe to an interactive table.\"\n",
              "              style=\"display:none;\">\n",
              "        \n",
              "  <svg xmlns=\"http://www.w3.org/2000/svg\" height=\"24px\"viewBox=\"0 0 24 24\"\n",
              "       width=\"24px\">\n",
              "    <path d=\"M0 0h24v24H0V0z\" fill=\"none\"/>\n",
              "    <path d=\"M18.56 5.44l.94 2.06.94-2.06 2.06-.94-2.06-.94-.94-2.06-.94 2.06-2.06.94zm-11 1L8.5 8.5l.94-2.06 2.06-.94-2.06-.94L8.5 2.5l-.94 2.06-2.06.94zm10 10l.94 2.06.94-2.06 2.06-.94-2.06-.94-.94-2.06-.94 2.06-2.06.94z\"/><path d=\"M17.41 7.96l-1.37-1.37c-.4-.4-.92-.59-1.43-.59-.52 0-1.04.2-1.43.59L10.3 9.45l-7.72 7.72c-.78.78-.78 2.05 0 2.83L4 21.41c.39.39.9.59 1.41.59.51 0 1.02-.2 1.41-.59l7.78-7.78 2.81-2.81c.8-.78.8-2.07 0-2.86zM5.41 20L4 18.59l7.72-7.72 1.47 1.35L5.41 20z\"/>\n",
              "  </svg>\n",
              "      </button>\n",
              "      \n",
              "  <style>\n",
              "    .colab-df-container {\n",
              "      display:flex;\n",
              "      flex-wrap:wrap;\n",
              "      gap: 12px;\n",
              "    }\n",
              "\n",
              "    .colab-df-convert {\n",
              "      background-color: #E8F0FE;\n",
              "      border: none;\n",
              "      border-radius: 50%;\n",
              "      cursor: pointer;\n",
              "      display: none;\n",
              "      fill: #1967D2;\n",
              "      height: 32px;\n",
              "      padding: 0 0 0 0;\n",
              "      width: 32px;\n",
              "    }\n",
              "\n",
              "    .colab-df-convert:hover {\n",
              "      background-color: #E2EBFA;\n",
              "      box-shadow: 0px 1px 2px rgba(60, 64, 67, 0.3), 0px 1px 3px 1px rgba(60, 64, 67, 0.15);\n",
              "      fill: #174EA6;\n",
              "    }\n",
              "\n",
              "    [theme=dark] .colab-df-convert {\n",
              "      background-color: #3B4455;\n",
              "      fill: #D2E3FC;\n",
              "    }\n",
              "\n",
              "    [theme=dark] .colab-df-convert:hover {\n",
              "      background-color: #434B5C;\n",
              "      box-shadow: 0px 1px 3px 1px rgba(0, 0, 0, 0.15);\n",
              "      filter: drop-shadow(0px 1px 2px rgba(0, 0, 0, 0.3));\n",
              "      fill: #FFFFFF;\n",
              "    }\n",
              "  </style>\n",
              "\n",
              "      <script>\n",
              "        const buttonEl =\n",
              "          document.querySelector('#df-50f3c95e-bac3-4788-906a-04f08746b3be button.colab-df-convert');\n",
              "        buttonEl.style.display =\n",
              "          google.colab.kernel.accessAllowed ? 'block' : 'none';\n",
              "\n",
              "        async function convertToInteractive(key) {\n",
              "          const element = document.querySelector('#df-50f3c95e-bac3-4788-906a-04f08746b3be');\n",
              "          const dataTable =\n",
              "            await google.colab.kernel.invokeFunction('convertToInteractive',\n",
              "                                                     [key], {});\n",
              "          if (!dataTable) return;\n",
              "\n",
              "          const docLinkHtml = 'Like what you see? Visit the ' +\n",
              "            '<a target=\"_blank\" href=https://colab.research.google.com/notebooks/data_table.ipynb>data table notebook</a>'\n",
              "            + ' to learn more about interactive tables.';\n",
              "          element.innerHTML = '';\n",
              "          dataTable['output_type'] = 'display_data';\n",
              "          await google.colab.output.renderOutput(dataTable, element);\n",
              "          const docLink = document.createElement('div');\n",
              "          docLink.innerHTML = docLinkHtml;\n",
              "          element.appendChild(docLink);\n",
              "        }\n",
              "      </script>\n",
              "    </div>\n",
              "  </div>\n",
              "  "
            ]
          },
          "metadata": {},
          "execution_count": 218
        }
      ]
    },
    {
      "cell_type": "markdown",
      "source": [
        "## Finding and imputing Outliers"
      ],
      "metadata": {
        "id": "Wr_AldMqvimt"
      }
    },
    {
      "cell_type": "code",
      "source": [
        "df.columns"
      ],
      "metadata": {
        "colab": {
          "base_uri": "https://localhost:8080/"
        },
        "id": "ztmMS61svpj3",
        "outputId": "ffdac0e6-981b-4436-93f6-856f523baceb"
      },
      "execution_count": null,
      "outputs": [
        {
          "output_type": "execute_result",
          "data": {
            "text/plain": [
              "Index(['Age', 'Gender ', 'Total Bilirubin', 'Direct Bilirubin\\n',\n",
              "       'Alkaline Phosphotase\\n', 'Alamine Aminotransferase\\n',\n",
              "       'Aspartate Aminotransferase', 'Total Protiens\\n', 'Albumin',\n",
              "       'Albumin and Globulin Ratio\\n', 'Target'],\n",
              "      dtype='object')"
            ]
          },
          "metadata": {},
          "execution_count": 219
        }
      ]
    },
    {
      "cell_type": "code",
      "source": [
        "column_outlier =['Total Bilirubin', 'Direct Bilirubin\\n',\n",
        "       'Alkaline Phosphotase\\n', 'Alamine Aminotransferase\\n',\n",
        "       'Aspartate Aminotransferase', 'Total Protiens\\n','Albumin and Globulin Ratio\\n']"
      ],
      "metadata": {
        "id": "z-Es1TL9vuaq"
      },
      "execution_count": null,
      "outputs": []
    },
    {
      "cell_type": "code",
      "source": [
        " for column in column_outlier:\n",
        "   Q1 = df[column].quantile(0.25)\n",
        "   Q3 = df[column].quantile(0.75)\n",
        "   IQR = Q3 - Q1\n",
        "  \n",
        "   upper_limit = Q3 +1.5*IQR\n",
        "   lower_limit = Q1 - 1.5*IQR\n",
        "   median = float(df[column].median())\n",
        "   df[column] = np.where(df[column] > upper_limit,median,df[column])\n",
        "   df[column] = np.where(df[column] < lower_limit,median,df[column])"
      ],
      "metadata": {
        "id": "n6iZUjpRwCAs"
      },
      "execution_count": null,
      "outputs": []
    },
    {
      "cell_type": "markdown",
      "source": [
        "## Encoding Categorical Variables into Numerical variables"
      ],
      "metadata": {
        "id": "r6OCZqoT2FJ-"
      }
    },
    {
      "cell_type": "code",
      "source": [
        "df1 = pd.get_dummies(df,columns=['Gender '],drop_first=True)"
      ],
      "metadata": {
        "id": "hPBAL8R62ErY"
      },
      "execution_count": null,
      "outputs": []
    },
    {
      "cell_type": "code",
      "source": [
        "df1"
      ],
      "metadata": {
        "colab": {
          "base_uri": "https://localhost:8080/",
          "height": 485
        },
        "id": "RhjilYqQ4jqK",
        "outputId": "f1b48f42-7d22-485a-f807-5d7883114da2"
      },
      "execution_count": null,
      "outputs": [
        {
          "output_type": "execute_result",
          "data": {
            "text/plain": [
              "      Age  Total Bilirubin  Direct Bilirubin\\n  Alkaline Phosphotase\\n  \\\n",
              "0    65.0              0.7                 0.1                   187.0   \n",
              "1    62.0              1.0                 0.3                   208.0   \n",
              "2    62.0              1.0                 0.3                   208.0   \n",
              "3    58.0              1.0                 0.4                   182.0   \n",
              "4    72.0              3.9                 2.0                   195.0   \n",
              "..    ...              ...                 ...                     ...   \n",
              "578  60.0              0.5                 0.1                   208.0   \n",
              "579  40.0              0.6                 0.1                    98.0   \n",
              "580  52.0              0.8                 0.2                   245.0   \n",
              "581  31.0              1.3                 0.5                   184.0   \n",
              "582  38.0              1.0                 0.3                   216.0   \n",
              "\n",
              "     Alamine Aminotransferase\\n  Aspartate Aminotransferase  Total Protiens\\n  \\\n",
              "0                          16.0                        18.0               6.8   \n",
              "1                          64.0                       100.0               7.5   \n",
              "2                          60.0                        68.0               7.0   \n",
              "3                          14.0                        20.0               6.8   \n",
              "4                          27.0                        59.0               7.3   \n",
              "..                          ...                         ...               ...   \n",
              "578                        20.0                        34.0               5.9   \n",
              "579                        35.0                        31.0               6.0   \n",
              "580                        48.0                        49.0               6.4   \n",
              "581                        29.0                        32.0               6.8   \n",
              "582                        21.0                        24.0               7.3   \n",
              "\n",
              "     Albumin  Albumin and Globulin Ratio\\n  Target  Gender _Male  \n",
              "0        3.3                          0.90     1.0             0  \n",
              "1        3.2                          0.74     1.0             1  \n",
              "2        3.3                          0.89     1.0             1  \n",
              "3        3.4                          1.00     1.0             1  \n",
              "4        2.4                          0.40     1.0             1  \n",
              "..       ...                           ...     ...           ...  \n",
              "578      1.6                          0.37     2.0             1  \n",
              "579      3.2                          1.10     1.0             1  \n",
              "580      3.2                          1.00     1.0             1  \n",
              "581      3.4                          1.00     1.0             1  \n",
              "582      4.4                          1.50     2.0             1  \n",
              "\n",
              "[570 rows x 11 columns]"
            ],
            "text/html": [
              "\n",
              "  <div id=\"df-5329633f-56ad-4a68-ad39-a023a5d0e452\">\n",
              "    <div class=\"colab-df-container\">\n",
              "      <div>\n",
              "<style scoped>\n",
              "    .dataframe tbody tr th:only-of-type {\n",
              "        vertical-align: middle;\n",
              "    }\n",
              "\n",
              "    .dataframe tbody tr th {\n",
              "        vertical-align: top;\n",
              "    }\n",
              "\n",
              "    .dataframe thead th {\n",
              "        text-align: right;\n",
              "    }\n",
              "</style>\n",
              "<table border=\"1\" class=\"dataframe\">\n",
              "  <thead>\n",
              "    <tr style=\"text-align: right;\">\n",
              "      <th></th>\n",
              "      <th>Age</th>\n",
              "      <th>Total Bilirubin</th>\n",
              "      <th>Direct Bilirubin\\n</th>\n",
              "      <th>Alkaline Phosphotase\\n</th>\n",
              "      <th>Alamine Aminotransferase\\n</th>\n",
              "      <th>Aspartate Aminotransferase</th>\n",
              "      <th>Total Protiens\\n</th>\n",
              "      <th>Albumin</th>\n",
              "      <th>Albumin and Globulin Ratio\\n</th>\n",
              "      <th>Target</th>\n",
              "      <th>Gender _Male</th>\n",
              "    </tr>\n",
              "  </thead>\n",
              "  <tbody>\n",
              "    <tr>\n",
              "      <th>0</th>\n",
              "      <td>65.0</td>\n",
              "      <td>0.7</td>\n",
              "      <td>0.1</td>\n",
              "      <td>187.0</td>\n",
              "      <td>16.0</td>\n",
              "      <td>18.0</td>\n",
              "      <td>6.8</td>\n",
              "      <td>3.3</td>\n",
              "      <td>0.90</td>\n",
              "      <td>1.0</td>\n",
              "      <td>0</td>\n",
              "    </tr>\n",
              "    <tr>\n",
              "      <th>1</th>\n",
              "      <td>62.0</td>\n",
              "      <td>1.0</td>\n",
              "      <td>0.3</td>\n",
              "      <td>208.0</td>\n",
              "      <td>64.0</td>\n",
              "      <td>100.0</td>\n",
              "      <td>7.5</td>\n",
              "      <td>3.2</td>\n",
              "      <td>0.74</td>\n",
              "      <td>1.0</td>\n",
              "      <td>1</td>\n",
              "    </tr>\n",
              "    <tr>\n",
              "      <th>2</th>\n",
              "      <td>62.0</td>\n",
              "      <td>1.0</td>\n",
              "      <td>0.3</td>\n",
              "      <td>208.0</td>\n",
              "      <td>60.0</td>\n",
              "      <td>68.0</td>\n",
              "      <td>7.0</td>\n",
              "      <td>3.3</td>\n",
              "      <td>0.89</td>\n",
              "      <td>1.0</td>\n",
              "      <td>1</td>\n",
              "    </tr>\n",
              "    <tr>\n",
              "      <th>3</th>\n",
              "      <td>58.0</td>\n",
              "      <td>1.0</td>\n",
              "      <td>0.4</td>\n",
              "      <td>182.0</td>\n",
              "      <td>14.0</td>\n",
              "      <td>20.0</td>\n",
              "      <td>6.8</td>\n",
              "      <td>3.4</td>\n",
              "      <td>1.00</td>\n",
              "      <td>1.0</td>\n",
              "      <td>1</td>\n",
              "    </tr>\n",
              "    <tr>\n",
              "      <th>4</th>\n",
              "      <td>72.0</td>\n",
              "      <td>3.9</td>\n",
              "      <td>2.0</td>\n",
              "      <td>195.0</td>\n",
              "      <td>27.0</td>\n",
              "      <td>59.0</td>\n",
              "      <td>7.3</td>\n",
              "      <td>2.4</td>\n",
              "      <td>0.40</td>\n",
              "      <td>1.0</td>\n",
              "      <td>1</td>\n",
              "    </tr>\n",
              "    <tr>\n",
              "      <th>...</th>\n",
              "      <td>...</td>\n",
              "      <td>...</td>\n",
              "      <td>...</td>\n",
              "      <td>...</td>\n",
              "      <td>...</td>\n",
              "      <td>...</td>\n",
              "      <td>...</td>\n",
              "      <td>...</td>\n",
              "      <td>...</td>\n",
              "      <td>...</td>\n",
              "      <td>...</td>\n",
              "    </tr>\n",
              "    <tr>\n",
              "      <th>578</th>\n",
              "      <td>60.0</td>\n",
              "      <td>0.5</td>\n",
              "      <td>0.1</td>\n",
              "      <td>208.0</td>\n",
              "      <td>20.0</td>\n",
              "      <td>34.0</td>\n",
              "      <td>5.9</td>\n",
              "      <td>1.6</td>\n",
              "      <td>0.37</td>\n",
              "      <td>2.0</td>\n",
              "      <td>1</td>\n",
              "    </tr>\n",
              "    <tr>\n",
              "      <th>579</th>\n",
              "      <td>40.0</td>\n",
              "      <td>0.6</td>\n",
              "      <td>0.1</td>\n",
              "      <td>98.0</td>\n",
              "      <td>35.0</td>\n",
              "      <td>31.0</td>\n",
              "      <td>6.0</td>\n",
              "      <td>3.2</td>\n",
              "      <td>1.10</td>\n",
              "      <td>1.0</td>\n",
              "      <td>1</td>\n",
              "    </tr>\n",
              "    <tr>\n",
              "      <th>580</th>\n",
              "      <td>52.0</td>\n",
              "      <td>0.8</td>\n",
              "      <td>0.2</td>\n",
              "      <td>245.0</td>\n",
              "      <td>48.0</td>\n",
              "      <td>49.0</td>\n",
              "      <td>6.4</td>\n",
              "      <td>3.2</td>\n",
              "      <td>1.00</td>\n",
              "      <td>1.0</td>\n",
              "      <td>1</td>\n",
              "    </tr>\n",
              "    <tr>\n",
              "      <th>581</th>\n",
              "      <td>31.0</td>\n",
              "      <td>1.3</td>\n",
              "      <td>0.5</td>\n",
              "      <td>184.0</td>\n",
              "      <td>29.0</td>\n",
              "      <td>32.0</td>\n",
              "      <td>6.8</td>\n",
              "      <td>3.4</td>\n",
              "      <td>1.00</td>\n",
              "      <td>1.0</td>\n",
              "      <td>1</td>\n",
              "    </tr>\n",
              "    <tr>\n",
              "      <th>582</th>\n",
              "      <td>38.0</td>\n",
              "      <td>1.0</td>\n",
              "      <td>0.3</td>\n",
              "      <td>216.0</td>\n",
              "      <td>21.0</td>\n",
              "      <td>24.0</td>\n",
              "      <td>7.3</td>\n",
              "      <td>4.4</td>\n",
              "      <td>1.50</td>\n",
              "      <td>2.0</td>\n",
              "      <td>1</td>\n",
              "    </tr>\n",
              "  </tbody>\n",
              "</table>\n",
              "<p>570 rows × 11 columns</p>\n",
              "</div>\n",
              "      <button class=\"colab-df-convert\" onclick=\"convertToInteractive('df-5329633f-56ad-4a68-ad39-a023a5d0e452')\"\n",
              "              title=\"Convert this dataframe to an interactive table.\"\n",
              "              style=\"display:none;\">\n",
              "        \n",
              "  <svg xmlns=\"http://www.w3.org/2000/svg\" height=\"24px\"viewBox=\"0 0 24 24\"\n",
              "       width=\"24px\">\n",
              "    <path d=\"M0 0h24v24H0V0z\" fill=\"none\"/>\n",
              "    <path d=\"M18.56 5.44l.94 2.06.94-2.06 2.06-.94-2.06-.94-.94-2.06-.94 2.06-2.06.94zm-11 1L8.5 8.5l.94-2.06 2.06-.94-2.06-.94L8.5 2.5l-.94 2.06-2.06.94zm10 10l.94 2.06.94-2.06 2.06-.94-2.06-.94-.94-2.06-.94 2.06-2.06.94z\"/><path d=\"M17.41 7.96l-1.37-1.37c-.4-.4-.92-.59-1.43-.59-.52 0-1.04.2-1.43.59L10.3 9.45l-7.72 7.72c-.78.78-.78 2.05 0 2.83L4 21.41c.39.39.9.59 1.41.59.51 0 1.02-.2 1.41-.59l7.78-7.78 2.81-2.81c.8-.78.8-2.07 0-2.86zM5.41 20L4 18.59l7.72-7.72 1.47 1.35L5.41 20z\"/>\n",
              "  </svg>\n",
              "      </button>\n",
              "      \n",
              "  <style>\n",
              "    .colab-df-container {\n",
              "      display:flex;\n",
              "      flex-wrap:wrap;\n",
              "      gap: 12px;\n",
              "    }\n",
              "\n",
              "    .colab-df-convert {\n",
              "      background-color: #E8F0FE;\n",
              "      border: none;\n",
              "      border-radius: 50%;\n",
              "      cursor: pointer;\n",
              "      display: none;\n",
              "      fill: #1967D2;\n",
              "      height: 32px;\n",
              "      padding: 0 0 0 0;\n",
              "      width: 32px;\n",
              "    }\n",
              "\n",
              "    .colab-df-convert:hover {\n",
              "      background-color: #E2EBFA;\n",
              "      box-shadow: 0px 1px 2px rgba(60, 64, 67, 0.3), 0px 1px 3px 1px rgba(60, 64, 67, 0.15);\n",
              "      fill: #174EA6;\n",
              "    }\n",
              "\n",
              "    [theme=dark] .colab-df-convert {\n",
              "      background-color: #3B4455;\n",
              "      fill: #D2E3FC;\n",
              "    }\n",
              "\n",
              "    [theme=dark] .colab-df-convert:hover {\n",
              "      background-color: #434B5C;\n",
              "      box-shadow: 0px 1px 3px 1px rgba(0, 0, 0, 0.15);\n",
              "      filter: drop-shadow(0px 1px 2px rgba(0, 0, 0, 0.3));\n",
              "      fill: #FFFFFF;\n",
              "    }\n",
              "  </style>\n",
              "\n",
              "      <script>\n",
              "        const buttonEl =\n",
              "          document.querySelector('#df-5329633f-56ad-4a68-ad39-a023a5d0e452 button.colab-df-convert');\n",
              "        buttonEl.style.display =\n",
              "          google.colab.kernel.accessAllowed ? 'block' : 'none';\n",
              "\n",
              "        async function convertToInteractive(key) {\n",
              "          const element = document.querySelector('#df-5329633f-56ad-4a68-ad39-a023a5d0e452');\n",
              "          const dataTable =\n",
              "            await google.colab.kernel.invokeFunction('convertToInteractive',\n",
              "                                                     [key], {});\n",
              "          if (!dataTable) return;\n",
              "\n",
              "          const docLinkHtml = 'Like what you see? Visit the ' +\n",
              "            '<a target=\"_blank\" href=https://colab.research.google.com/notebooks/data_table.ipynb>data table notebook</a>'\n",
              "            + ' to learn more about interactive tables.';\n",
              "          element.innerHTML = '';\n",
              "          dataTable['output_type'] = 'display_data';\n",
              "          await google.colab.output.renderOutput(dataTable, element);\n",
              "          const docLink = document.createElement('div');\n",
              "          docLink.innerHTML = docLinkHtml;\n",
              "          element.appendChild(docLink);\n",
              "        }\n",
              "      </script>\n",
              "    </div>\n",
              "  </div>\n",
              "  "
            ]
          },
          "metadata": {},
          "execution_count": 223
        }
      ]
    },
    {
      "cell_type": "markdown",
      "source": [
        "## Spliting the data in X and y"
      ],
      "metadata": {
        "id": "_umtNZkF4x5X"
      }
    },
    {
      "cell_type": "code",
      "source": [
        "X = df1.drop(columns=['Target'])\n",
        "y = df1['Target']"
      ],
      "metadata": {
        "id": "pUzqnKh04kkW"
      },
      "execution_count": null,
      "outputs": []
    },
    {
      "cell_type": "code",
      "source": [
        "X"
      ],
      "metadata": {
        "colab": {
          "base_uri": "https://localhost:8080/",
          "height": 485
        },
        "id": "8ph6oIpY48FQ",
        "outputId": "d3fcfc8d-0c20-4b40-a22a-9457314da0d8"
      },
      "execution_count": null,
      "outputs": [
        {
          "output_type": "execute_result",
          "data": {
            "text/plain": [
              "      Age  Total Bilirubin  Direct Bilirubin\\n  Alkaline Phosphotase\\n  \\\n",
              "0    65.0              0.7                 0.1                   187.0   \n",
              "1    62.0              1.0                 0.3                   208.0   \n",
              "2    62.0              1.0                 0.3                   208.0   \n",
              "3    58.0              1.0                 0.4                   182.0   \n",
              "4    72.0              3.9                 2.0                   195.0   \n",
              "..    ...              ...                 ...                     ...   \n",
              "578  60.0              0.5                 0.1                   208.0   \n",
              "579  40.0              0.6                 0.1                    98.0   \n",
              "580  52.0              0.8                 0.2                   245.0   \n",
              "581  31.0              1.3                 0.5                   184.0   \n",
              "582  38.0              1.0                 0.3                   216.0   \n",
              "\n",
              "     Alamine Aminotransferase\\n  Aspartate Aminotransferase  Total Protiens\\n  \\\n",
              "0                          16.0                        18.0               6.8   \n",
              "1                          64.0                       100.0               7.5   \n",
              "2                          60.0                        68.0               7.0   \n",
              "3                          14.0                        20.0               6.8   \n",
              "4                          27.0                        59.0               7.3   \n",
              "..                          ...                         ...               ...   \n",
              "578                        20.0                        34.0               5.9   \n",
              "579                        35.0                        31.0               6.0   \n",
              "580                        48.0                        49.0               6.4   \n",
              "581                        29.0                        32.0               6.8   \n",
              "582                        21.0                        24.0               7.3   \n",
              "\n",
              "     Albumin  Albumin and Globulin Ratio\\n  Gender _Male  \n",
              "0        3.3                          0.90             0  \n",
              "1        3.2                          0.74             1  \n",
              "2        3.3                          0.89             1  \n",
              "3        3.4                          1.00             1  \n",
              "4        2.4                          0.40             1  \n",
              "..       ...                           ...           ...  \n",
              "578      1.6                          0.37             1  \n",
              "579      3.2                          1.10             1  \n",
              "580      3.2                          1.00             1  \n",
              "581      3.4                          1.00             1  \n",
              "582      4.4                          1.50             1  \n",
              "\n",
              "[570 rows x 10 columns]"
            ],
            "text/html": [
              "\n",
              "  <div id=\"df-8570d2a0-a70d-4847-a4e5-32aa128b39ee\">\n",
              "    <div class=\"colab-df-container\">\n",
              "      <div>\n",
              "<style scoped>\n",
              "    .dataframe tbody tr th:only-of-type {\n",
              "        vertical-align: middle;\n",
              "    }\n",
              "\n",
              "    .dataframe tbody tr th {\n",
              "        vertical-align: top;\n",
              "    }\n",
              "\n",
              "    .dataframe thead th {\n",
              "        text-align: right;\n",
              "    }\n",
              "</style>\n",
              "<table border=\"1\" class=\"dataframe\">\n",
              "  <thead>\n",
              "    <tr style=\"text-align: right;\">\n",
              "      <th></th>\n",
              "      <th>Age</th>\n",
              "      <th>Total Bilirubin</th>\n",
              "      <th>Direct Bilirubin\\n</th>\n",
              "      <th>Alkaline Phosphotase\\n</th>\n",
              "      <th>Alamine Aminotransferase\\n</th>\n",
              "      <th>Aspartate Aminotransferase</th>\n",
              "      <th>Total Protiens\\n</th>\n",
              "      <th>Albumin</th>\n",
              "      <th>Albumin and Globulin Ratio\\n</th>\n",
              "      <th>Gender _Male</th>\n",
              "    </tr>\n",
              "  </thead>\n",
              "  <tbody>\n",
              "    <tr>\n",
              "      <th>0</th>\n",
              "      <td>65.0</td>\n",
              "      <td>0.7</td>\n",
              "      <td>0.1</td>\n",
              "      <td>187.0</td>\n",
              "      <td>16.0</td>\n",
              "      <td>18.0</td>\n",
              "      <td>6.8</td>\n",
              "      <td>3.3</td>\n",
              "      <td>0.90</td>\n",
              "      <td>0</td>\n",
              "    </tr>\n",
              "    <tr>\n",
              "      <th>1</th>\n",
              "      <td>62.0</td>\n",
              "      <td>1.0</td>\n",
              "      <td>0.3</td>\n",
              "      <td>208.0</td>\n",
              "      <td>64.0</td>\n",
              "      <td>100.0</td>\n",
              "      <td>7.5</td>\n",
              "      <td>3.2</td>\n",
              "      <td>0.74</td>\n",
              "      <td>1</td>\n",
              "    </tr>\n",
              "    <tr>\n",
              "      <th>2</th>\n",
              "      <td>62.0</td>\n",
              "      <td>1.0</td>\n",
              "      <td>0.3</td>\n",
              "      <td>208.0</td>\n",
              "      <td>60.0</td>\n",
              "      <td>68.0</td>\n",
              "      <td>7.0</td>\n",
              "      <td>3.3</td>\n",
              "      <td>0.89</td>\n",
              "      <td>1</td>\n",
              "    </tr>\n",
              "    <tr>\n",
              "      <th>3</th>\n",
              "      <td>58.0</td>\n",
              "      <td>1.0</td>\n",
              "      <td>0.4</td>\n",
              "      <td>182.0</td>\n",
              "      <td>14.0</td>\n",
              "      <td>20.0</td>\n",
              "      <td>6.8</td>\n",
              "      <td>3.4</td>\n",
              "      <td>1.00</td>\n",
              "      <td>1</td>\n",
              "    </tr>\n",
              "    <tr>\n",
              "      <th>4</th>\n",
              "      <td>72.0</td>\n",
              "      <td>3.9</td>\n",
              "      <td>2.0</td>\n",
              "      <td>195.0</td>\n",
              "      <td>27.0</td>\n",
              "      <td>59.0</td>\n",
              "      <td>7.3</td>\n",
              "      <td>2.4</td>\n",
              "      <td>0.40</td>\n",
              "      <td>1</td>\n",
              "    </tr>\n",
              "    <tr>\n",
              "      <th>...</th>\n",
              "      <td>...</td>\n",
              "      <td>...</td>\n",
              "      <td>...</td>\n",
              "      <td>...</td>\n",
              "      <td>...</td>\n",
              "      <td>...</td>\n",
              "      <td>...</td>\n",
              "      <td>...</td>\n",
              "      <td>...</td>\n",
              "      <td>...</td>\n",
              "    </tr>\n",
              "    <tr>\n",
              "      <th>578</th>\n",
              "      <td>60.0</td>\n",
              "      <td>0.5</td>\n",
              "      <td>0.1</td>\n",
              "      <td>208.0</td>\n",
              "      <td>20.0</td>\n",
              "      <td>34.0</td>\n",
              "      <td>5.9</td>\n",
              "      <td>1.6</td>\n",
              "      <td>0.37</td>\n",
              "      <td>1</td>\n",
              "    </tr>\n",
              "    <tr>\n",
              "      <th>579</th>\n",
              "      <td>40.0</td>\n",
              "      <td>0.6</td>\n",
              "      <td>0.1</td>\n",
              "      <td>98.0</td>\n",
              "      <td>35.0</td>\n",
              "      <td>31.0</td>\n",
              "      <td>6.0</td>\n",
              "      <td>3.2</td>\n",
              "      <td>1.10</td>\n",
              "      <td>1</td>\n",
              "    </tr>\n",
              "    <tr>\n",
              "      <th>580</th>\n",
              "      <td>52.0</td>\n",
              "      <td>0.8</td>\n",
              "      <td>0.2</td>\n",
              "      <td>245.0</td>\n",
              "      <td>48.0</td>\n",
              "      <td>49.0</td>\n",
              "      <td>6.4</td>\n",
              "      <td>3.2</td>\n",
              "      <td>1.00</td>\n",
              "      <td>1</td>\n",
              "    </tr>\n",
              "    <tr>\n",
              "      <th>581</th>\n",
              "      <td>31.0</td>\n",
              "      <td>1.3</td>\n",
              "      <td>0.5</td>\n",
              "      <td>184.0</td>\n",
              "      <td>29.0</td>\n",
              "      <td>32.0</td>\n",
              "      <td>6.8</td>\n",
              "      <td>3.4</td>\n",
              "      <td>1.00</td>\n",
              "      <td>1</td>\n",
              "    </tr>\n",
              "    <tr>\n",
              "      <th>582</th>\n",
              "      <td>38.0</td>\n",
              "      <td>1.0</td>\n",
              "      <td>0.3</td>\n",
              "      <td>216.0</td>\n",
              "      <td>21.0</td>\n",
              "      <td>24.0</td>\n",
              "      <td>7.3</td>\n",
              "      <td>4.4</td>\n",
              "      <td>1.50</td>\n",
              "      <td>1</td>\n",
              "    </tr>\n",
              "  </tbody>\n",
              "</table>\n",
              "<p>570 rows × 10 columns</p>\n",
              "</div>\n",
              "      <button class=\"colab-df-convert\" onclick=\"convertToInteractive('df-8570d2a0-a70d-4847-a4e5-32aa128b39ee')\"\n",
              "              title=\"Convert this dataframe to an interactive table.\"\n",
              "              style=\"display:none;\">\n",
              "        \n",
              "  <svg xmlns=\"http://www.w3.org/2000/svg\" height=\"24px\"viewBox=\"0 0 24 24\"\n",
              "       width=\"24px\">\n",
              "    <path d=\"M0 0h24v24H0V0z\" fill=\"none\"/>\n",
              "    <path d=\"M18.56 5.44l.94 2.06.94-2.06 2.06-.94-2.06-.94-.94-2.06-.94 2.06-2.06.94zm-11 1L8.5 8.5l.94-2.06 2.06-.94-2.06-.94L8.5 2.5l-.94 2.06-2.06.94zm10 10l.94 2.06.94-2.06 2.06-.94-2.06-.94-.94-2.06-.94 2.06-2.06.94z\"/><path d=\"M17.41 7.96l-1.37-1.37c-.4-.4-.92-.59-1.43-.59-.52 0-1.04.2-1.43.59L10.3 9.45l-7.72 7.72c-.78.78-.78 2.05 0 2.83L4 21.41c.39.39.9.59 1.41.59.51 0 1.02-.2 1.41-.59l7.78-7.78 2.81-2.81c.8-.78.8-2.07 0-2.86zM5.41 20L4 18.59l7.72-7.72 1.47 1.35L5.41 20z\"/>\n",
              "  </svg>\n",
              "      </button>\n",
              "      \n",
              "  <style>\n",
              "    .colab-df-container {\n",
              "      display:flex;\n",
              "      flex-wrap:wrap;\n",
              "      gap: 12px;\n",
              "    }\n",
              "\n",
              "    .colab-df-convert {\n",
              "      background-color: #E8F0FE;\n",
              "      border: none;\n",
              "      border-radius: 50%;\n",
              "      cursor: pointer;\n",
              "      display: none;\n",
              "      fill: #1967D2;\n",
              "      height: 32px;\n",
              "      padding: 0 0 0 0;\n",
              "      width: 32px;\n",
              "    }\n",
              "\n",
              "    .colab-df-convert:hover {\n",
              "      background-color: #E2EBFA;\n",
              "      box-shadow: 0px 1px 2px rgba(60, 64, 67, 0.3), 0px 1px 3px 1px rgba(60, 64, 67, 0.15);\n",
              "      fill: #174EA6;\n",
              "    }\n",
              "\n",
              "    [theme=dark] .colab-df-convert {\n",
              "      background-color: #3B4455;\n",
              "      fill: #D2E3FC;\n",
              "    }\n",
              "\n",
              "    [theme=dark] .colab-df-convert:hover {\n",
              "      background-color: #434B5C;\n",
              "      box-shadow: 0px 1px 3px 1px rgba(0, 0, 0, 0.15);\n",
              "      filter: drop-shadow(0px 1px 2px rgba(0, 0, 0, 0.3));\n",
              "      fill: #FFFFFF;\n",
              "    }\n",
              "  </style>\n",
              "\n",
              "      <script>\n",
              "        const buttonEl =\n",
              "          document.querySelector('#df-8570d2a0-a70d-4847-a4e5-32aa128b39ee button.colab-df-convert');\n",
              "        buttonEl.style.display =\n",
              "          google.colab.kernel.accessAllowed ? 'block' : 'none';\n",
              "\n",
              "        async function convertToInteractive(key) {\n",
              "          const element = document.querySelector('#df-8570d2a0-a70d-4847-a4e5-32aa128b39ee');\n",
              "          const dataTable =\n",
              "            await google.colab.kernel.invokeFunction('convertToInteractive',\n",
              "                                                     [key], {});\n",
              "          if (!dataTable) return;\n",
              "\n",
              "          const docLinkHtml = 'Like what you see? Visit the ' +\n",
              "            '<a target=\"_blank\" href=https://colab.research.google.com/notebooks/data_table.ipynb>data table notebook</a>'\n",
              "            + ' to learn more about interactive tables.';\n",
              "          element.innerHTML = '';\n",
              "          dataTable['output_type'] = 'display_data';\n",
              "          await google.colab.output.renderOutput(dataTable, element);\n",
              "          const docLink = document.createElement('div');\n",
              "          docLink.innerHTML = docLinkHtml;\n",
              "          element.appendChild(docLink);\n",
              "        }\n",
              "      </script>\n",
              "    </div>\n",
              "  </div>\n",
              "  "
            ]
          },
          "metadata": {},
          "execution_count": 225
        }
      ]
    },
    {
      "cell_type": "code",
      "source": [
        "y"
      ],
      "metadata": {
        "colab": {
          "base_uri": "https://localhost:8080/"
        },
        "id": "m8WkCQUO5HiF",
        "outputId": "8f7f58fa-0b25-451b-c589-91d4d1fa8695"
      },
      "execution_count": null,
      "outputs": [
        {
          "output_type": "execute_result",
          "data": {
            "text/plain": [
              "0      1.0\n",
              "1      1.0\n",
              "2      1.0\n",
              "3      1.0\n",
              "4      1.0\n",
              "      ... \n",
              "578    2.0\n",
              "579    1.0\n",
              "580    1.0\n",
              "581    1.0\n",
              "582    2.0\n",
              "Name: Target, Length: 570, dtype: float64"
            ]
          },
          "metadata": {},
          "execution_count": 226
        }
      ]
    },
    {
      "cell_type": "code",
      "source": [
        "from sklearn.model_selection import train_test_split"
      ],
      "metadata": {
        "id": "58gHrsDg5KmR"
      },
      "execution_count": null,
      "outputs": []
    },
    {
      "cell_type": "code",
      "source": [
        "X_train,X_test,y_train,y_test = train_test_split(X,y,test_size=0.2,random_state=42)"
      ],
      "metadata": {
        "id": "zfq05lAI5vkr"
      },
      "execution_count": null,
      "outputs": []
    },
    {
      "cell_type": "markdown",
      "source": [
        "## Balancing The Dataset"
      ],
      "metadata": {
        "id": "hSNMtVn4kPMU"
      }
    },
    {
      "cell_type": "code",
      "source": [
        "from imblearn.over_sampling import SMOTE\n",
        "sm = SMOTE(random_state=42)\n",
        "X_trainSM, y_trainSM = sm.fit_resample(X_train, y_train) "
      ],
      "metadata": {
        "id": "NmNBo48Nkbm9"
      },
      "execution_count": null,
      "outputs": []
    },
    {
      "cell_type": "code",
      "source": [
        "y_trainSM.value_counts()"
      ],
      "metadata": {
        "colab": {
          "base_uri": "https://localhost:8080/"
        },
        "id": "ONvLjOl_kw9k",
        "outputId": "dbfd01c3-0559-44c5-e151-2210562b6af6"
      },
      "execution_count": null,
      "outputs": [
        {
          "output_type": "execute_result",
          "data": {
            "text/plain": [
              "1.0    321\n",
              "2.0    321\n",
              "Name: Target, dtype: int64"
            ]
          },
          "metadata": {},
          "execution_count": 230
        }
      ]
    },
    {
      "cell_type": "markdown",
      "source": [
        "## Feature Scaling"
      ],
      "metadata": {
        "id": "1iew_kIbkK7E"
      }
    },
    {
      "cell_type": "code",
      "source": [
        "from sklearn.preprocessing import StandardScaler\n",
        "\n",
        "scaler = StandardScaler()\n",
        "\n",
        "# fit the scaler to the train set, it will learn the parameters\n",
        "scaler.fit(X_trainSM)\n",
        "\n",
        "# transform train and test sets\n",
        "X_train_scaled = scaler.transform(X_trainSM)\n",
        "X_test_scaled = scaler.transform(X_test)"
      ],
      "metadata": {
        "id": "Y5P0MPQ-6IcV"
      },
      "execution_count": null,
      "outputs": []
    },
    {
      "cell_type": "code",
      "source": [
        "X.columns"
      ],
      "metadata": {
        "colab": {
          "base_uri": "https://localhost:8080/"
        },
        "id": "swOAAEIs7TDc",
        "outputId": "c754da37-ff0b-4b45-a0e0-49a7c2515ed8"
      },
      "execution_count": null,
      "outputs": [
        {
          "output_type": "execute_result",
          "data": {
            "text/plain": [
              "Index(['Age', 'Total Bilirubin', 'Direct Bilirubin\\n',\n",
              "       'Alkaline Phosphotase\\n', 'Alamine Aminotransferase\\n',\n",
              "       'Aspartate Aminotransferase', 'Total Protiens\\n', 'Albumin',\n",
              "       'Albumin and Globulin Ratio\\n', 'Gender _Male'],\n",
              "      dtype='object')"
            ]
          },
          "metadata": {},
          "execution_count": 232
        }
      ]
    },
    {
      "cell_type": "code",
      "source": [
        "X_train_scaled =pd.DataFrame(X_train_scaled,columns=['Age', 'Total Bilirubin', 'Direct Bilirubin\\n',\n",
        "       'Alkaline Phosphotase\\n', 'Alamine Aminotransferase\\n',\n",
        "       'Aspartate Aminotransferase', 'Total Protiens\\n', 'Albumin',\n",
        "       'Albumin and Globulin Ratio\\n', 'Gender _Male'])"
      ],
      "metadata": {
        "id": "tjFz_YMe77Gb"
      },
      "execution_count": null,
      "outputs": []
    },
    {
      "cell_type": "code",
      "source": [
        "X_train_scaled"
      ],
      "metadata": {
        "colab": {
          "base_uri": "https://localhost:8080/",
          "height": 485
        },
        "id": "O9BsKJHo8X7T",
        "outputId": "37a62a30-8e20-4b96-faae-65081b53ce7b"
      },
      "execution_count": null,
      "outputs": [
        {
          "output_type": "execute_result",
          "data": {
            "text/plain": [
              "          Age  Total Bilirubin  Direct Bilirubin\\n  Alkaline Phosphotase\\n  \\\n",
              "0    0.513542        -0.766165           -0.730655               -0.626050   \n",
              "1    0.322387         0.971508            0.284000               -0.062043   \n",
              "2    1.405596        -0.642045           -0.527724                0.383225   \n",
              "3    1.023287        -0.269687           -0.324793               -0.076886   \n",
              "4    0.832133         0.226791            0.486931                3.811791   \n",
              "..        ...              ...                 ...                     ...   \n",
              "637 -0.847995        -0.512324           -0.527724               -0.462785   \n",
              "638  0.523542        -0.642045           -0.527724                2.908568   \n",
              "639  1.881397        -0.573239           -0.527724               -0.266769   \n",
              "640  1.341878        -0.593852           -0.527724               -0.198940   \n",
              "641  1.341878        -0.413765           -0.442574               -0.174554   \n",
              "\n",
              "     Alamine Aminotransferase\\n  Aspartate Aminotransferase  Total Protiens\\n  \\\n",
              "0                     -0.697255                   -0.944898          0.023479   \n",
              "1                      0.666615                   -0.439478         -0.921545   \n",
              "2                     -0.434972                   -0.629011         -0.291529   \n",
              "3                     -0.120233                   -0.439478          0.233484   \n",
              "4                      1.401007                    1.329492         -1.026548   \n",
              "..                          ...                         ...               ...   \n",
              "637                    0.521453                    0.385884          1.250335   \n",
              "638                   -0.537346                   -0.111620          0.653494   \n",
              "639                   -1.023966                   -0.769443         -0.955789   \n",
              "640                   -0.874992                   -0.755366         -0.658462   \n",
              "641                   -0.730995                   -0.874657         -1.280612   \n",
              "\n",
              "      Albumin  Albumin and Globulin Ratio\\n  Gender _Male  \n",
              "0    0.465019                      0.936415      0.689828  \n",
              "1   -0.324061                      0.548639      0.689828  \n",
              "2    0.596532                      1.711966      0.689828  \n",
              "3   -0.192547                     -0.614688      0.689828  \n",
              "4   -0.981627                     -0.614688      0.689828  \n",
              "..        ...                           ...           ...  \n",
              "637  1.349998                      0.901410      0.689828  \n",
              "638  0.540326                      0.179637     -1.449638  \n",
              "639 -0.279749                      0.548639     -1.449638  \n",
              "640  0.107572                      1.023060      0.689828  \n",
              "641 -0.621123                      0.223218     -1.449638  \n",
              "\n",
              "[642 rows x 10 columns]"
            ],
            "text/html": [
              "\n",
              "  <div id=\"df-964f053d-3e44-4236-8b7e-c3b36e8788a7\">\n",
              "    <div class=\"colab-df-container\">\n",
              "      <div>\n",
              "<style scoped>\n",
              "    .dataframe tbody tr th:only-of-type {\n",
              "        vertical-align: middle;\n",
              "    }\n",
              "\n",
              "    .dataframe tbody tr th {\n",
              "        vertical-align: top;\n",
              "    }\n",
              "\n",
              "    .dataframe thead th {\n",
              "        text-align: right;\n",
              "    }\n",
              "</style>\n",
              "<table border=\"1\" class=\"dataframe\">\n",
              "  <thead>\n",
              "    <tr style=\"text-align: right;\">\n",
              "      <th></th>\n",
              "      <th>Age</th>\n",
              "      <th>Total Bilirubin</th>\n",
              "      <th>Direct Bilirubin\\n</th>\n",
              "      <th>Alkaline Phosphotase\\n</th>\n",
              "      <th>Alamine Aminotransferase\\n</th>\n",
              "      <th>Aspartate Aminotransferase</th>\n",
              "      <th>Total Protiens\\n</th>\n",
              "      <th>Albumin</th>\n",
              "      <th>Albumin and Globulin Ratio\\n</th>\n",
              "      <th>Gender _Male</th>\n",
              "    </tr>\n",
              "  </thead>\n",
              "  <tbody>\n",
              "    <tr>\n",
              "      <th>0</th>\n",
              "      <td>0.513542</td>\n",
              "      <td>-0.766165</td>\n",
              "      <td>-0.730655</td>\n",
              "      <td>-0.626050</td>\n",
              "      <td>-0.697255</td>\n",
              "      <td>-0.944898</td>\n",
              "      <td>0.023479</td>\n",
              "      <td>0.465019</td>\n",
              "      <td>0.936415</td>\n",
              "      <td>0.689828</td>\n",
              "    </tr>\n",
              "    <tr>\n",
              "      <th>1</th>\n",
              "      <td>0.322387</td>\n",
              "      <td>0.971508</td>\n",
              "      <td>0.284000</td>\n",
              "      <td>-0.062043</td>\n",
              "      <td>0.666615</td>\n",
              "      <td>-0.439478</td>\n",
              "      <td>-0.921545</td>\n",
              "      <td>-0.324061</td>\n",
              "      <td>0.548639</td>\n",
              "      <td>0.689828</td>\n",
              "    </tr>\n",
              "    <tr>\n",
              "      <th>2</th>\n",
              "      <td>1.405596</td>\n",
              "      <td>-0.642045</td>\n",
              "      <td>-0.527724</td>\n",
              "      <td>0.383225</td>\n",
              "      <td>-0.434972</td>\n",
              "      <td>-0.629011</td>\n",
              "      <td>-0.291529</td>\n",
              "      <td>0.596532</td>\n",
              "      <td>1.711966</td>\n",
              "      <td>0.689828</td>\n",
              "    </tr>\n",
              "    <tr>\n",
              "      <th>3</th>\n",
              "      <td>1.023287</td>\n",
              "      <td>-0.269687</td>\n",
              "      <td>-0.324793</td>\n",
              "      <td>-0.076886</td>\n",
              "      <td>-0.120233</td>\n",
              "      <td>-0.439478</td>\n",
              "      <td>0.233484</td>\n",
              "      <td>-0.192547</td>\n",
              "      <td>-0.614688</td>\n",
              "      <td>0.689828</td>\n",
              "    </tr>\n",
              "    <tr>\n",
              "      <th>4</th>\n",
              "      <td>0.832133</td>\n",
              "      <td>0.226791</td>\n",
              "      <td>0.486931</td>\n",
              "      <td>3.811791</td>\n",
              "      <td>1.401007</td>\n",
              "      <td>1.329492</td>\n",
              "      <td>-1.026548</td>\n",
              "      <td>-0.981627</td>\n",
              "      <td>-0.614688</td>\n",
              "      <td>0.689828</td>\n",
              "    </tr>\n",
              "    <tr>\n",
              "      <th>...</th>\n",
              "      <td>...</td>\n",
              "      <td>...</td>\n",
              "      <td>...</td>\n",
              "      <td>...</td>\n",
              "      <td>...</td>\n",
              "      <td>...</td>\n",
              "      <td>...</td>\n",
              "      <td>...</td>\n",
              "      <td>...</td>\n",
              "      <td>...</td>\n",
              "    </tr>\n",
              "    <tr>\n",
              "      <th>637</th>\n",
              "      <td>-0.847995</td>\n",
              "      <td>-0.512324</td>\n",
              "      <td>-0.527724</td>\n",
              "      <td>-0.462785</td>\n",
              "      <td>0.521453</td>\n",
              "      <td>0.385884</td>\n",
              "      <td>1.250335</td>\n",
              "      <td>1.349998</td>\n",
              "      <td>0.901410</td>\n",
              "      <td>0.689828</td>\n",
              "    </tr>\n",
              "    <tr>\n",
              "      <th>638</th>\n",
              "      <td>0.523542</td>\n",
              "      <td>-0.642045</td>\n",
              "      <td>-0.527724</td>\n",
              "      <td>2.908568</td>\n",
              "      <td>-0.537346</td>\n",
              "      <td>-0.111620</td>\n",
              "      <td>0.653494</td>\n",
              "      <td>0.540326</td>\n",
              "      <td>0.179637</td>\n",
              "      <td>-1.449638</td>\n",
              "    </tr>\n",
              "    <tr>\n",
              "      <th>639</th>\n",
              "      <td>1.881397</td>\n",
              "      <td>-0.573239</td>\n",
              "      <td>-0.527724</td>\n",
              "      <td>-0.266769</td>\n",
              "      <td>-1.023966</td>\n",
              "      <td>-0.769443</td>\n",
              "      <td>-0.955789</td>\n",
              "      <td>-0.279749</td>\n",
              "      <td>0.548639</td>\n",
              "      <td>-1.449638</td>\n",
              "    </tr>\n",
              "    <tr>\n",
              "      <th>640</th>\n",
              "      <td>1.341878</td>\n",
              "      <td>-0.593852</td>\n",
              "      <td>-0.527724</td>\n",
              "      <td>-0.198940</td>\n",
              "      <td>-0.874992</td>\n",
              "      <td>-0.755366</td>\n",
              "      <td>-0.658462</td>\n",
              "      <td>0.107572</td>\n",
              "      <td>1.023060</td>\n",
              "      <td>0.689828</td>\n",
              "    </tr>\n",
              "    <tr>\n",
              "      <th>641</th>\n",
              "      <td>1.341878</td>\n",
              "      <td>-0.413765</td>\n",
              "      <td>-0.442574</td>\n",
              "      <td>-0.174554</td>\n",
              "      <td>-0.730995</td>\n",
              "      <td>-0.874657</td>\n",
              "      <td>-1.280612</td>\n",
              "      <td>-0.621123</td>\n",
              "      <td>0.223218</td>\n",
              "      <td>-1.449638</td>\n",
              "    </tr>\n",
              "  </tbody>\n",
              "</table>\n",
              "<p>642 rows × 10 columns</p>\n",
              "</div>\n",
              "      <button class=\"colab-df-convert\" onclick=\"convertToInteractive('df-964f053d-3e44-4236-8b7e-c3b36e8788a7')\"\n",
              "              title=\"Convert this dataframe to an interactive table.\"\n",
              "              style=\"display:none;\">\n",
              "        \n",
              "  <svg xmlns=\"http://www.w3.org/2000/svg\" height=\"24px\"viewBox=\"0 0 24 24\"\n",
              "       width=\"24px\">\n",
              "    <path d=\"M0 0h24v24H0V0z\" fill=\"none\"/>\n",
              "    <path d=\"M18.56 5.44l.94 2.06.94-2.06 2.06-.94-2.06-.94-.94-2.06-.94 2.06-2.06.94zm-11 1L8.5 8.5l.94-2.06 2.06-.94-2.06-.94L8.5 2.5l-.94 2.06-2.06.94zm10 10l.94 2.06.94-2.06 2.06-.94-2.06-.94-.94-2.06-.94 2.06-2.06.94z\"/><path d=\"M17.41 7.96l-1.37-1.37c-.4-.4-.92-.59-1.43-.59-.52 0-1.04.2-1.43.59L10.3 9.45l-7.72 7.72c-.78.78-.78 2.05 0 2.83L4 21.41c.39.39.9.59 1.41.59.51 0 1.02-.2 1.41-.59l7.78-7.78 2.81-2.81c.8-.78.8-2.07 0-2.86zM5.41 20L4 18.59l7.72-7.72 1.47 1.35L5.41 20z\"/>\n",
              "  </svg>\n",
              "      </button>\n",
              "      \n",
              "  <style>\n",
              "    .colab-df-container {\n",
              "      display:flex;\n",
              "      flex-wrap:wrap;\n",
              "      gap: 12px;\n",
              "    }\n",
              "\n",
              "    .colab-df-convert {\n",
              "      background-color: #E8F0FE;\n",
              "      border: none;\n",
              "      border-radius: 50%;\n",
              "      cursor: pointer;\n",
              "      display: none;\n",
              "      fill: #1967D2;\n",
              "      height: 32px;\n",
              "      padding: 0 0 0 0;\n",
              "      width: 32px;\n",
              "    }\n",
              "\n",
              "    .colab-df-convert:hover {\n",
              "      background-color: #E2EBFA;\n",
              "      box-shadow: 0px 1px 2px rgba(60, 64, 67, 0.3), 0px 1px 3px 1px rgba(60, 64, 67, 0.15);\n",
              "      fill: #174EA6;\n",
              "    }\n",
              "\n",
              "    [theme=dark] .colab-df-convert {\n",
              "      background-color: #3B4455;\n",
              "      fill: #D2E3FC;\n",
              "    }\n",
              "\n",
              "    [theme=dark] .colab-df-convert:hover {\n",
              "      background-color: #434B5C;\n",
              "      box-shadow: 0px 1px 3px 1px rgba(0, 0, 0, 0.15);\n",
              "      filter: drop-shadow(0px 1px 2px rgba(0, 0, 0, 0.3));\n",
              "      fill: #FFFFFF;\n",
              "    }\n",
              "  </style>\n",
              "\n",
              "      <script>\n",
              "        const buttonEl =\n",
              "          document.querySelector('#df-964f053d-3e44-4236-8b7e-c3b36e8788a7 button.colab-df-convert');\n",
              "        buttonEl.style.display =\n",
              "          google.colab.kernel.accessAllowed ? 'block' : 'none';\n",
              "\n",
              "        async function convertToInteractive(key) {\n",
              "          const element = document.querySelector('#df-964f053d-3e44-4236-8b7e-c3b36e8788a7');\n",
              "          const dataTable =\n",
              "            await google.colab.kernel.invokeFunction('convertToInteractive',\n",
              "                                                     [key], {});\n",
              "          if (!dataTable) return;\n",
              "\n",
              "          const docLinkHtml = 'Like what you see? Visit the ' +\n",
              "            '<a target=\"_blank\" href=https://colab.research.google.com/notebooks/data_table.ipynb>data table notebook</a>'\n",
              "            + ' to learn more about interactive tables.';\n",
              "          element.innerHTML = '';\n",
              "          dataTable['output_type'] = 'display_data';\n",
              "          await google.colab.output.renderOutput(dataTable, element);\n",
              "          const docLink = document.createElement('div');\n",
              "          docLink.innerHTML = docLinkHtml;\n",
              "          element.appendChild(docLink);\n",
              "        }\n",
              "      </script>\n",
              "    </div>\n",
              "  </div>\n",
              "  "
            ]
          },
          "metadata": {},
          "execution_count": 234
        }
      ]
    },
    {
      "cell_type": "code",
      "source": [
        "X_test_scaled =pd.DataFrame(X_test_scaled,columns=['Age', 'Total Bilirubin', 'Direct Bilirubin\\n',\n",
        "       'Alkaline Phosphotase\\n', 'Alamine Aminotransferase\\n',\n",
        "       'Aspartate Aminotransferase', 'Total Protiens\\n', 'Albumin',\n",
        "       'Albumin and Globulin Ratio\\n', 'Gender _Male'])"
      ],
      "metadata": {
        "id": "VK4BAK2E8Z2g"
      },
      "execution_count": null,
      "outputs": []
    },
    {
      "cell_type": "code",
      "source": [
        "X_test_scaled"
      ],
      "metadata": {
        "colab": {
          "base_uri": "https://localhost:8080/",
          "height": 485
        },
        "id": "q_0PYSoT80ay",
        "outputId": "9f11aace-b515-4789-a121-d0d78097a158"
      },
      "execution_count": null,
      "outputs": [
        {
          "output_type": "execute_result",
          "data": {
            "text/plain": [
              "          Age  Total Bilirubin  Direct Bilirubin\\n  Alkaline Phosphotase\\n  \\\n",
              "0    1.150724         0.723269            0.892793                0.160591   \n",
              "1   -0.951976        -0.642045           -0.730655               -0.759630   \n",
              "2   -1.844030        -0.517926           -0.527724                2.475986   \n",
              "3    0.258669        -0.642045           -0.527724               -0.076886   \n",
              "4    1.851623         0.723269            0.892793                0.101222   \n",
              "..        ...              ...                 ...                     ...   \n",
              "109 -1.398003         1.840345            1.095724               -0.789315   \n",
              "110  0.895851         1.467986            1.298655               -0.076886   \n",
              "111 -1.652875        -0.517926           -0.527724                0.219960   \n",
              "112 -0.888258        -0.642045           -0.527724               -0.284678   \n",
              "113 -1.206848        -0.642045           -0.730655               -1.086161   \n",
              "\n",
              "     Alamine Aminotransferase\\n  Aspartate Aminotransferase  Total Protiens\\n  \\\n",
              "0                      1.768203                    3.445938          2.123531   \n",
              "1                      0.876441                   -0.155179         -1.446558   \n",
              "2                     -0.539885                    0.634539         -0.501535   \n",
              "3                     -1.064451                   -0.502656         -2.076574   \n",
              "4                     -0.802168                   -0.092002         -0.081524   \n",
              "..                          ...                         ...               ...   \n",
              "109                    2.450138                    2.561453         -1.131550   \n",
              "110                    1.296094                    3.035284         -1.971571   \n",
              "111                    1.033811                    0.255474          0.338487   \n",
              "112                   -0.172689                   -0.313123          0.968502   \n",
              "113                   -0.172689                   -0.660599          1.073505   \n",
              "\n",
              "      Albumin  Albumin and Globulin Ratio\\n  Gender _Male  \n",
              "0    0.991072                     -0.614688      0.689828  \n",
              "1   -0.981627                     -0.226912     -1.449638  \n",
              "2    0.596532                      2.099741      0.689828  \n",
              "3   -1.507681                     -0.614688      0.689828  \n",
              "4   -0.324061                     -0.614688      0.689828  \n",
              "..        ...                           ...           ...  \n",
              "109 -0.192547                      0.936415      0.689828  \n",
              "110 -1.902221                     -1.390239     -1.449638  \n",
              "111  0.991072                      1.324190      0.689828  \n",
              "112  0.465019                     -0.149357     -1.449638  \n",
              "113  1.385612                      1.324190     -1.449638  \n",
              "\n",
              "[114 rows x 10 columns]"
            ],
            "text/html": [
              "\n",
              "  <div id=\"df-5c9d4383-b0e2-4f96-ad54-4ae789e04f7e\">\n",
              "    <div class=\"colab-df-container\">\n",
              "      <div>\n",
              "<style scoped>\n",
              "    .dataframe tbody tr th:only-of-type {\n",
              "        vertical-align: middle;\n",
              "    }\n",
              "\n",
              "    .dataframe tbody tr th {\n",
              "        vertical-align: top;\n",
              "    }\n",
              "\n",
              "    .dataframe thead th {\n",
              "        text-align: right;\n",
              "    }\n",
              "</style>\n",
              "<table border=\"1\" class=\"dataframe\">\n",
              "  <thead>\n",
              "    <tr style=\"text-align: right;\">\n",
              "      <th></th>\n",
              "      <th>Age</th>\n",
              "      <th>Total Bilirubin</th>\n",
              "      <th>Direct Bilirubin\\n</th>\n",
              "      <th>Alkaline Phosphotase\\n</th>\n",
              "      <th>Alamine Aminotransferase\\n</th>\n",
              "      <th>Aspartate Aminotransferase</th>\n",
              "      <th>Total Protiens\\n</th>\n",
              "      <th>Albumin</th>\n",
              "      <th>Albumin and Globulin Ratio\\n</th>\n",
              "      <th>Gender _Male</th>\n",
              "    </tr>\n",
              "  </thead>\n",
              "  <tbody>\n",
              "    <tr>\n",
              "      <th>0</th>\n",
              "      <td>1.150724</td>\n",
              "      <td>0.723269</td>\n",
              "      <td>0.892793</td>\n",
              "      <td>0.160591</td>\n",
              "      <td>1.768203</td>\n",
              "      <td>3.445938</td>\n",
              "      <td>2.123531</td>\n",
              "      <td>0.991072</td>\n",
              "      <td>-0.614688</td>\n",
              "      <td>0.689828</td>\n",
              "    </tr>\n",
              "    <tr>\n",
              "      <th>1</th>\n",
              "      <td>-0.951976</td>\n",
              "      <td>-0.642045</td>\n",
              "      <td>-0.730655</td>\n",
              "      <td>-0.759630</td>\n",
              "      <td>0.876441</td>\n",
              "      <td>-0.155179</td>\n",
              "      <td>-1.446558</td>\n",
              "      <td>-0.981627</td>\n",
              "      <td>-0.226912</td>\n",
              "      <td>-1.449638</td>\n",
              "    </tr>\n",
              "    <tr>\n",
              "      <th>2</th>\n",
              "      <td>-1.844030</td>\n",
              "      <td>-0.517926</td>\n",
              "      <td>-0.527724</td>\n",
              "      <td>2.475986</td>\n",
              "      <td>-0.539885</td>\n",
              "      <td>0.634539</td>\n",
              "      <td>-0.501535</td>\n",
              "      <td>0.596532</td>\n",
              "      <td>2.099741</td>\n",
              "      <td>0.689828</td>\n",
              "    </tr>\n",
              "    <tr>\n",
              "      <th>3</th>\n",
              "      <td>0.258669</td>\n",
              "      <td>-0.642045</td>\n",
              "      <td>-0.527724</td>\n",
              "      <td>-0.076886</td>\n",
              "      <td>-1.064451</td>\n",
              "      <td>-0.502656</td>\n",
              "      <td>-2.076574</td>\n",
              "      <td>-1.507681</td>\n",
              "      <td>-0.614688</td>\n",
              "      <td>0.689828</td>\n",
              "    </tr>\n",
              "    <tr>\n",
              "      <th>4</th>\n",
              "      <td>1.851623</td>\n",
              "      <td>0.723269</td>\n",
              "      <td>0.892793</td>\n",
              "      <td>0.101222</td>\n",
              "      <td>-0.802168</td>\n",
              "      <td>-0.092002</td>\n",
              "      <td>-0.081524</td>\n",
              "      <td>-0.324061</td>\n",
              "      <td>-0.614688</td>\n",
              "      <td>0.689828</td>\n",
              "    </tr>\n",
              "    <tr>\n",
              "      <th>...</th>\n",
              "      <td>...</td>\n",
              "      <td>...</td>\n",
              "      <td>...</td>\n",
              "      <td>...</td>\n",
              "      <td>...</td>\n",
              "      <td>...</td>\n",
              "      <td>...</td>\n",
              "      <td>...</td>\n",
              "      <td>...</td>\n",
              "      <td>...</td>\n",
              "    </tr>\n",
              "    <tr>\n",
              "      <th>109</th>\n",
              "      <td>-1.398003</td>\n",
              "      <td>1.840345</td>\n",
              "      <td>1.095724</td>\n",
              "      <td>-0.789315</td>\n",
              "      <td>2.450138</td>\n",
              "      <td>2.561453</td>\n",
              "      <td>-1.131550</td>\n",
              "      <td>-0.192547</td>\n",
              "      <td>0.936415</td>\n",
              "      <td>0.689828</td>\n",
              "    </tr>\n",
              "    <tr>\n",
              "      <th>110</th>\n",
              "      <td>0.895851</td>\n",
              "      <td>1.467986</td>\n",
              "      <td>1.298655</td>\n",
              "      <td>-0.076886</td>\n",
              "      <td>1.296094</td>\n",
              "      <td>3.035284</td>\n",
              "      <td>-1.971571</td>\n",
              "      <td>-1.902221</td>\n",
              "      <td>-1.390239</td>\n",
              "      <td>-1.449638</td>\n",
              "    </tr>\n",
              "    <tr>\n",
              "      <th>111</th>\n",
              "      <td>-1.652875</td>\n",
              "      <td>-0.517926</td>\n",
              "      <td>-0.527724</td>\n",
              "      <td>0.219960</td>\n",
              "      <td>1.033811</td>\n",
              "      <td>0.255474</td>\n",
              "      <td>0.338487</td>\n",
              "      <td>0.991072</td>\n",
              "      <td>1.324190</td>\n",
              "      <td>0.689828</td>\n",
              "    </tr>\n",
              "    <tr>\n",
              "      <th>112</th>\n",
              "      <td>-0.888258</td>\n",
              "      <td>-0.642045</td>\n",
              "      <td>-0.527724</td>\n",
              "      <td>-0.284678</td>\n",
              "      <td>-0.172689</td>\n",
              "      <td>-0.313123</td>\n",
              "      <td>0.968502</td>\n",
              "      <td>0.465019</td>\n",
              "      <td>-0.149357</td>\n",
              "      <td>-1.449638</td>\n",
              "    </tr>\n",
              "    <tr>\n",
              "      <th>113</th>\n",
              "      <td>-1.206848</td>\n",
              "      <td>-0.642045</td>\n",
              "      <td>-0.730655</td>\n",
              "      <td>-1.086161</td>\n",
              "      <td>-0.172689</td>\n",
              "      <td>-0.660599</td>\n",
              "      <td>1.073505</td>\n",
              "      <td>1.385612</td>\n",
              "      <td>1.324190</td>\n",
              "      <td>-1.449638</td>\n",
              "    </tr>\n",
              "  </tbody>\n",
              "</table>\n",
              "<p>114 rows × 10 columns</p>\n",
              "</div>\n",
              "      <button class=\"colab-df-convert\" onclick=\"convertToInteractive('df-5c9d4383-b0e2-4f96-ad54-4ae789e04f7e')\"\n",
              "              title=\"Convert this dataframe to an interactive table.\"\n",
              "              style=\"display:none;\">\n",
              "        \n",
              "  <svg xmlns=\"http://www.w3.org/2000/svg\" height=\"24px\"viewBox=\"0 0 24 24\"\n",
              "       width=\"24px\">\n",
              "    <path d=\"M0 0h24v24H0V0z\" fill=\"none\"/>\n",
              "    <path d=\"M18.56 5.44l.94 2.06.94-2.06 2.06-.94-2.06-.94-.94-2.06-.94 2.06-2.06.94zm-11 1L8.5 8.5l.94-2.06 2.06-.94-2.06-.94L8.5 2.5l-.94 2.06-2.06.94zm10 10l.94 2.06.94-2.06 2.06-.94-2.06-.94-.94-2.06-.94 2.06-2.06.94z\"/><path d=\"M17.41 7.96l-1.37-1.37c-.4-.4-.92-.59-1.43-.59-.52 0-1.04.2-1.43.59L10.3 9.45l-7.72 7.72c-.78.78-.78 2.05 0 2.83L4 21.41c.39.39.9.59 1.41.59.51 0 1.02-.2 1.41-.59l7.78-7.78 2.81-2.81c.8-.78.8-2.07 0-2.86zM5.41 20L4 18.59l7.72-7.72 1.47 1.35L5.41 20z\"/>\n",
              "  </svg>\n",
              "      </button>\n",
              "      \n",
              "  <style>\n",
              "    .colab-df-container {\n",
              "      display:flex;\n",
              "      flex-wrap:wrap;\n",
              "      gap: 12px;\n",
              "    }\n",
              "\n",
              "    .colab-df-convert {\n",
              "      background-color: #E8F0FE;\n",
              "      border: none;\n",
              "      border-radius: 50%;\n",
              "      cursor: pointer;\n",
              "      display: none;\n",
              "      fill: #1967D2;\n",
              "      height: 32px;\n",
              "      padding: 0 0 0 0;\n",
              "      width: 32px;\n",
              "    }\n",
              "\n",
              "    .colab-df-convert:hover {\n",
              "      background-color: #E2EBFA;\n",
              "      box-shadow: 0px 1px 2px rgba(60, 64, 67, 0.3), 0px 1px 3px 1px rgba(60, 64, 67, 0.15);\n",
              "      fill: #174EA6;\n",
              "    }\n",
              "\n",
              "    [theme=dark] .colab-df-convert {\n",
              "      background-color: #3B4455;\n",
              "      fill: #D2E3FC;\n",
              "    }\n",
              "\n",
              "    [theme=dark] .colab-df-convert:hover {\n",
              "      background-color: #434B5C;\n",
              "      box-shadow: 0px 1px 3px 1px rgba(0, 0, 0, 0.15);\n",
              "      filter: drop-shadow(0px 1px 2px rgba(0, 0, 0, 0.3));\n",
              "      fill: #FFFFFF;\n",
              "    }\n",
              "  </style>\n",
              "\n",
              "      <script>\n",
              "        const buttonEl =\n",
              "          document.querySelector('#df-5c9d4383-b0e2-4f96-ad54-4ae789e04f7e button.colab-df-convert');\n",
              "        buttonEl.style.display =\n",
              "          google.colab.kernel.accessAllowed ? 'block' : 'none';\n",
              "\n",
              "        async function convertToInteractive(key) {\n",
              "          const element = document.querySelector('#df-5c9d4383-b0e2-4f96-ad54-4ae789e04f7e');\n",
              "          const dataTable =\n",
              "            await google.colab.kernel.invokeFunction('convertToInteractive',\n",
              "                                                     [key], {});\n",
              "          if (!dataTable) return;\n",
              "\n",
              "          const docLinkHtml = 'Like what you see? Visit the ' +\n",
              "            '<a target=\"_blank\" href=https://colab.research.google.com/notebooks/data_table.ipynb>data table notebook</a>'\n",
              "            + ' to learn more about interactive tables.';\n",
              "          element.innerHTML = '';\n",
              "          dataTable['output_type'] = 'display_data';\n",
              "          await google.colab.output.renderOutput(dataTable, element);\n",
              "          const docLink = document.createElement('div');\n",
              "          docLink.innerHTML = docLinkHtml;\n",
              "          element.appendChild(docLink);\n",
              "        }\n",
              "      </script>\n",
              "    </div>\n",
              "  </div>\n",
              "  "
            ]
          },
          "metadata": {},
          "execution_count": 236
        }
      ]
    },
    {
      "cell_type": "markdown",
      "source": [
        "#11. Model Selection"
      ],
      "metadata": {
        "id": "-7N0RKIMNXsx"
      }
    },
    {
      "cell_type": "code",
      "source": [
        "from sklearn.linear_model import LogisticRegression\n",
        "from sklearn.svm import SVC\n",
        "from sklearn.neighbors import KNeighborsClassifier\n",
        "from sklearn.tree import DecisionTreeClassifier\n",
        "from sklearn.ensemble import RandomForestClassifier\n",
        "from xgboost import XGBClassifier \n",
        "from sklearn import model_selection"
      ],
      "metadata": {
        "id": "JLf4vOX89cIE"
      },
      "execution_count": null,
      "outputs": []
    },
    {
      "cell_type": "code",
      "source": [
        "models = [LogisticRegression(max_iter=1000), SVC(), KNeighborsClassifier(), RandomForestClassifier(random_state=42),DecisionTreeClassifier(random_state=42),XGBClassifier(random_state=42)]\n"
      ],
      "metadata": {
        "id": "onPVXSRx-w9L"
      },
      "execution_count": null,
      "outputs": []
    },
    {
      "cell_type": "code",
      "source": [
        "def train(model):\n",
        "  kfold = model_selection.KFold(n_splits=5,shuffle=True,random_state=42)\n",
        "  pred = model_selection.cross_val_score(model,X,y,cv=kfold,scoring='f1')\n",
        "  cv_score = pred.mean()\n",
        "  print('Model',model)\n",
        "  print('Cv Score:',cv_score)"
      ],
      "metadata": {
        "id": "XR6RjObv_ECo"
      },
      "execution_count": null,
      "outputs": []
    },
    {
      "cell_type": "code",
      "source": [
        "for model in models:\n",
        "  train(model)"
      ],
      "metadata": {
        "colab": {
          "base_uri": "https://localhost:8080/"
        },
        "id": "it2uxUFz_Z-3",
        "outputId": "c6aa7f41-7496-4e0a-8fff-5984b288205e"
      },
      "execution_count": null,
      "outputs": [
        {
          "output_type": "stream",
          "name": "stdout",
          "text": [
            "Model LogisticRegression(max_iter=1000)\n",
            "Cv Score: 0.8208514427994977\n",
            "Model SVC()\n",
            "Cv Score: 0.8314370533232402\n",
            "Model KNeighborsClassifier()\n",
            "Cv Score: 0.7834570454950093\n",
            "Model RandomForestClassifier(random_state=42)\n",
            "Cv Score: 0.815058376332994\n",
            "Model DecisionTreeClassifier(random_state=42)\n",
            "Cv Score: 0.7574874779633918\n",
            "Model XGBClassifier(random_state=42)\n",
            "Cv Score: 0.7965457552788061\n"
          ]
        }
      ]
    },
    {
      "cell_type": "markdown",
      "source": [
        "3 Models Have a close cross validation close to each other, so we will further check for the best model by training, evaluating and hypertuning those 3 models individually"
      ],
      "metadata": {
        "id": "-MC4M4fNJcmA"
      }
    },
    {
      "cell_type": "markdown",
      "source": [
        "#12. Logistic Regression"
      ],
      "metadata": {
        "id": "IRdB2JwFfOps"
      }
    },
    {
      "cell_type": "markdown",
      "source": [
        "### Model Training"
      ],
      "metadata": {
        "id": "eqLqn9y0JVHi"
      }
    },
    {
      "cell_type": "code",
      "source": [
        "logreg = LogisticRegression()\n",
        "logreg.fit(X_train_scaled,y_trainSM)"
      ],
      "metadata": {
        "id": "EcKgJTqd_d4T",
        "colab": {
          "base_uri": "https://localhost:8080/"
        },
        "outputId": "a7683fe8-1a28-4c5e-c61a-ac7fd6f8da2b"
      },
      "execution_count": null,
      "outputs": [
        {
          "output_type": "execute_result",
          "data": {
            "text/plain": [
              "LogisticRegression()"
            ]
          },
          "metadata": {},
          "execution_count": 265
        }
      ]
    },
    {
      "cell_type": "code",
      "source": [
        "from sklearn.metrics import f1_score\n"
      ],
      "metadata": {
        "id": "Gje8w8zAp4sN"
      },
      "execution_count": null,
      "outputs": []
    },
    {
      "cell_type": "markdown",
      "source": [
        "## Model Evaluation"
      ],
      "metadata": {
        "id": "Sk7yzQ64Lh_A"
      }
    },
    {
      "cell_type": "code",
      "source": [
        "y_predictlr = logreg.predict(X_test_scaled)\n",
        "f1 = f1_score(y_test,y_predictlr)\n",
        "f1"
      ],
      "metadata": {
        "colab": {
          "base_uri": "https://localhost:8080/"
        },
        "id": "IdXivC5BrNwp",
        "outputId": "26f49e8b-6151-415a-8d91-4dc514077cb1"
      },
      "execution_count": null,
      "outputs": [
        {
          "output_type": "execute_result",
          "data": {
            "text/plain": [
              "0.7432432432432433"
            ]
          },
          "metadata": {},
          "execution_count": 267
        }
      ]
    },
    {
      "cell_type": "code",
      "source": [
        "from sklearn.metrics import classification_report\n",
        "print(classification_report(y_test, y_predictlr))"
      ],
      "metadata": {
        "colab": {
          "base_uri": "https://localhost:8080/"
        },
        "id": "I3-6dQaOriBk",
        "outputId": "e517dc30-53e0-40bf-a841-d2adc88c4ccb"
      },
      "execution_count": null,
      "outputs": [
        {
          "output_type": "stream",
          "name": "stdout",
          "text": [
            "              precision    recall  f1-score   support\n",
            "\n",
            "         1.0       0.87      0.65      0.74        85\n",
            "         2.0       0.41      0.72      0.53        29\n",
            "\n",
            "    accuracy                           0.67       114\n",
            "   macro avg       0.64      0.69      0.63       114\n",
            "weighted avg       0.76      0.67      0.69       114\n",
            "\n"
          ]
        }
      ]
    },
    {
      "cell_type": "markdown",
      "source": [
        "## Hypertuning - Logistic Regression "
      ],
      "metadata": {
        "id": "_1-Cz2i4OLor"
      }
    },
    {
      "cell_type": "code",
      "source": [
        "from sklearn.model_selection import GridSearchCV\n",
        "param_grid = [    \n",
        "    {'penalty' : ['l1', 'l2', 'elasticnet', 'none'],\n",
        "    'C' : np.logspace(-4, 4, 20),\n",
        "    'solver' : ['lbfgs','newton-cg','liblinear','sag','saga'],\n",
        "    'max_iter' : [100, 1000,2500, 5000]\n",
        "    }\n",
        "]\n",
        "\n",
        "Lr_clf = GridSearchCV(logreg, param_grid = param_grid, cv = 5, verbose=0, n_jobs=-1,scoring='f1')\n",
        "\n",
        "Lr_clf.fit(X_train_scaled, y_trainSM)\n",
        "Lr_best_params = Lr_clf.best_params_\n",
        "print(f\"Best paramters: {Lr_best_params}\")\n",
        "\n"
      ],
      "metadata": {
        "colab": {
          "base_uri": "https://localhost:8080/"
        },
        "id": "B3zPxaICs5Wn",
        "outputId": "108ad009-f2e7-4bab-bbcf-9bdd67a57740"
      },
      "execution_count": null,
      "outputs": [
        {
          "output_type": "stream",
          "name": "stdout",
          "text": [
            "Best paramters: {'C': 29.763514416313132, 'max_iter': 100, 'penalty': 'l1', 'solver': 'liblinear'}\n"
          ]
        },
        {
          "output_type": "stream",
          "name": "stderr",
          "text": [
            "/usr/local/lib/python3.7/dist-packages/sklearn/model_selection/_validation.py:372: FitFailedWarning: \n",
            "3600 fits failed out of a total of 8000.\n",
            "The score on these train-test partitions for these parameters will be set to nan.\n",
            "If these failures are not expected, you can try to debug them by setting error_score='raise'.\n",
            "\n",
            "Below are more details about the failures:\n",
            "--------------------------------------------------------------------------------\n",
            "400 fits failed with the following error:\n",
            "Traceback (most recent call last):\n",
            "  File \"/usr/local/lib/python3.7/dist-packages/sklearn/model_selection/_validation.py\", line 680, in _fit_and_score\n",
            "    estimator.fit(X_train, y_train, **fit_params)\n",
            "  File \"/usr/local/lib/python3.7/dist-packages/sklearn/linear_model/_logistic.py\", line 1461, in fit\n",
            "    solver = _check_solver(self.solver, self.penalty, self.dual)\n",
            "  File \"/usr/local/lib/python3.7/dist-packages/sklearn/linear_model/_logistic.py\", line 449, in _check_solver\n",
            "    % (solver, penalty)\n",
            "ValueError: Solver lbfgs supports only 'l2' or 'none' penalties, got l1 penalty.\n",
            "\n",
            "--------------------------------------------------------------------------------\n",
            "400 fits failed with the following error:\n",
            "Traceback (most recent call last):\n",
            "  File \"/usr/local/lib/python3.7/dist-packages/sklearn/model_selection/_validation.py\", line 680, in _fit_and_score\n",
            "    estimator.fit(X_train, y_train, **fit_params)\n",
            "  File \"/usr/local/lib/python3.7/dist-packages/sklearn/linear_model/_logistic.py\", line 1461, in fit\n",
            "    solver = _check_solver(self.solver, self.penalty, self.dual)\n",
            "  File \"/usr/local/lib/python3.7/dist-packages/sklearn/linear_model/_logistic.py\", line 449, in _check_solver\n",
            "    % (solver, penalty)\n",
            "ValueError: Solver newton-cg supports only 'l2' or 'none' penalties, got l1 penalty.\n",
            "\n",
            "--------------------------------------------------------------------------------\n",
            "400 fits failed with the following error:\n",
            "Traceback (most recent call last):\n",
            "  File \"/usr/local/lib/python3.7/dist-packages/sklearn/model_selection/_validation.py\", line 680, in _fit_and_score\n",
            "    estimator.fit(X_train, y_train, **fit_params)\n",
            "  File \"/usr/local/lib/python3.7/dist-packages/sklearn/linear_model/_logistic.py\", line 1461, in fit\n",
            "    solver = _check_solver(self.solver, self.penalty, self.dual)\n",
            "  File \"/usr/local/lib/python3.7/dist-packages/sklearn/linear_model/_logistic.py\", line 449, in _check_solver\n",
            "    % (solver, penalty)\n",
            "ValueError: Solver sag supports only 'l2' or 'none' penalties, got l1 penalty.\n",
            "\n",
            "--------------------------------------------------------------------------------\n",
            "400 fits failed with the following error:\n",
            "Traceback (most recent call last):\n",
            "  File \"/usr/local/lib/python3.7/dist-packages/sklearn/model_selection/_validation.py\", line 680, in _fit_and_score\n",
            "    estimator.fit(X_train, y_train, **fit_params)\n",
            "  File \"/usr/local/lib/python3.7/dist-packages/sklearn/linear_model/_logistic.py\", line 1461, in fit\n",
            "    solver = _check_solver(self.solver, self.penalty, self.dual)\n",
            "  File \"/usr/local/lib/python3.7/dist-packages/sklearn/linear_model/_logistic.py\", line 449, in _check_solver\n",
            "    % (solver, penalty)\n",
            "ValueError: Solver lbfgs supports only 'l2' or 'none' penalties, got elasticnet penalty.\n",
            "\n",
            "--------------------------------------------------------------------------------\n",
            "400 fits failed with the following error:\n",
            "Traceback (most recent call last):\n",
            "  File \"/usr/local/lib/python3.7/dist-packages/sklearn/model_selection/_validation.py\", line 680, in _fit_and_score\n",
            "    estimator.fit(X_train, y_train, **fit_params)\n",
            "  File \"/usr/local/lib/python3.7/dist-packages/sklearn/linear_model/_logistic.py\", line 1461, in fit\n",
            "    solver = _check_solver(self.solver, self.penalty, self.dual)\n",
            "  File \"/usr/local/lib/python3.7/dist-packages/sklearn/linear_model/_logistic.py\", line 449, in _check_solver\n",
            "    % (solver, penalty)\n",
            "ValueError: Solver newton-cg supports only 'l2' or 'none' penalties, got elasticnet penalty.\n",
            "\n",
            "--------------------------------------------------------------------------------\n",
            "400 fits failed with the following error:\n",
            "Traceback (most recent call last):\n",
            "  File \"/usr/local/lib/python3.7/dist-packages/sklearn/model_selection/_validation.py\", line 680, in _fit_and_score\n",
            "    estimator.fit(X_train, y_train, **fit_params)\n",
            "  File \"/usr/local/lib/python3.7/dist-packages/sklearn/linear_model/_logistic.py\", line 1461, in fit\n",
            "    solver = _check_solver(self.solver, self.penalty, self.dual)\n",
            "  File \"/usr/local/lib/python3.7/dist-packages/sklearn/linear_model/_logistic.py\", line 459, in _check_solver\n",
            "    solver\n",
            "ValueError: Only 'saga' solver supports elasticnet penalty, got solver=liblinear.\n",
            "\n",
            "--------------------------------------------------------------------------------\n",
            "400 fits failed with the following error:\n",
            "Traceback (most recent call last):\n",
            "  File \"/usr/local/lib/python3.7/dist-packages/sklearn/model_selection/_validation.py\", line 680, in _fit_and_score\n",
            "    estimator.fit(X_train, y_train, **fit_params)\n",
            "  File \"/usr/local/lib/python3.7/dist-packages/sklearn/linear_model/_logistic.py\", line 1461, in fit\n",
            "    solver = _check_solver(self.solver, self.penalty, self.dual)\n",
            "  File \"/usr/local/lib/python3.7/dist-packages/sklearn/linear_model/_logistic.py\", line 449, in _check_solver\n",
            "    % (solver, penalty)\n",
            "ValueError: Solver sag supports only 'l2' or 'none' penalties, got elasticnet penalty.\n",
            "\n",
            "--------------------------------------------------------------------------------\n",
            "400 fits failed with the following error:\n",
            "Traceback (most recent call last):\n",
            "  File \"/usr/local/lib/python3.7/dist-packages/sklearn/model_selection/_validation.py\", line 680, in _fit_and_score\n",
            "    estimator.fit(X_train, y_train, **fit_params)\n",
            "  File \"/usr/local/lib/python3.7/dist-packages/sklearn/linear_model/_logistic.py\", line 1473, in fit\n",
            "    % self.l1_ratio\n",
            "ValueError: l1_ratio must be between 0 and 1; got (l1_ratio=None)\n",
            "\n",
            "--------------------------------------------------------------------------------\n",
            "400 fits failed with the following error:\n",
            "Traceback (most recent call last):\n",
            "  File \"/usr/local/lib/python3.7/dist-packages/sklearn/model_selection/_validation.py\", line 680, in _fit_and_score\n",
            "    estimator.fit(X_train, y_train, **fit_params)\n",
            "  File \"/usr/local/lib/python3.7/dist-packages/sklearn/linear_model/_logistic.py\", line 1461, in fit\n",
            "    solver = _check_solver(self.solver, self.penalty, self.dual)\n",
            "  File \"/usr/local/lib/python3.7/dist-packages/sklearn/linear_model/_logistic.py\", line 464, in _check_solver\n",
            "    raise ValueError(\"penalty='none' is not supported for the liblinear solver\")\n",
            "ValueError: penalty='none' is not supported for the liblinear solver\n",
            "\n",
            "  warnings.warn(some_fits_failed_message, FitFailedWarning)\n",
            "/usr/local/lib/python3.7/dist-packages/sklearn/model_selection/_search.py:972: UserWarning: One or more of the test scores are non-finite: [       nan        nan 0.66666311 ...        nan 0.67868666 0.67868666]\n",
            "  category=UserWarning,\n"
          ]
        }
      ]
    },
    {
      "cell_type": "code",
      "source": [
        "Lr_reg2 = LogisticRegression(C= 29.763514416313132, max_iter= 100, penalty= 'l1', solver= 'liblinear')\n",
        "Lr_reg2.fit(X_train_scaled, y_trainSM)#training \n",
        "y_predictlr1=Lr_reg2.predict(X_test_scaled)#testing\n",
        "accuracy = f1_score(y_test,y_predictlr1)#checking performance\n",
        "accuracy"
      ],
      "metadata": {
        "colab": {
          "base_uri": "https://localhost:8080/"
        },
        "id": "0HdX6IBrvu7E",
        "outputId": "9e71117c-7f7a-4aaf-b0cd-ddd61acc4d1c"
      },
      "execution_count": null,
      "outputs": [
        {
          "output_type": "execute_result",
          "data": {
            "text/plain": [
              "0.7432432432432433"
            ]
          },
          "metadata": {},
          "execution_count": 270
        }
      ]
    },
    {
      "cell_type": "code",
      "source": [
        "from sklearn.metrics import classification_report\n",
        "print(classification_report(y_test, y_predictlr1))"
      ],
      "metadata": {
        "id": "Sw86pUfr6_Ek",
        "colab": {
          "base_uri": "https://localhost:8080/"
        },
        "outputId": "fb2f520f-85de-42fa-d801-3dc27a587254"
      },
      "execution_count": null,
      "outputs": [
        {
          "output_type": "stream",
          "name": "stdout",
          "text": [
            "              precision    recall  f1-score   support\n",
            "\n",
            "         1.0       0.87      0.65      0.74        85\n",
            "         2.0       0.41      0.72      0.53        29\n",
            "\n",
            "    accuracy                           0.67       114\n",
            "   macro avg       0.64      0.69      0.63       114\n",
            "weighted avg       0.76      0.67      0.69       114\n",
            "\n"
          ]
        }
      ]
    },
    {
      "cell_type": "markdown",
      "source": [
        "#13. SVC"
      ],
      "metadata": {
        "id": "SBl6Q9R4ftph"
      }
    },
    {
      "cell_type": "markdown",
      "source": [
        "##Model Training"
      ],
      "metadata": {
        "id": "T9w9uJ1LSoQH"
      }
    },
    {
      "cell_type": "code",
      "source": [
        "svc_clf = SVC()\n",
        "svc_clf.fit(X_train_scaled,y_trainSM)"
      ],
      "metadata": {
        "colab": {
          "base_uri": "https://localhost:8080/"
        },
        "id": "RSt2NIRZStJn",
        "outputId": "94d22d7c-dc12-40dd-dc8b-c98036f3c29f"
      },
      "execution_count": null,
      "outputs": [
        {
          "output_type": "execute_result",
          "data": {
            "text/plain": [
              "SVC()"
            ]
          },
          "metadata": {},
          "execution_count": 272
        }
      ]
    },
    {
      "cell_type": "markdown",
      "source": [
        "# Model Evaluation"
      ],
      "metadata": {
        "id": "HI4UdZ36a6D_"
      }
    },
    {
      "cell_type": "code",
      "source": [
        "y_predictsvc = svc_clf.predict(X_test_scaled)\n",
        "f1 = f1_score(y_test,y_predictsvc)\n",
        "f1"
      ],
      "metadata": {
        "colab": {
          "base_uri": "https://localhost:8080/"
        },
        "id": "YANNNgtKTDrL",
        "outputId": "846735da-3752-4d88-db3d-8dd93689eccf"
      },
      "execution_count": null,
      "outputs": [
        {
          "output_type": "execute_result",
          "data": {
            "text/plain": [
              "0.7297297297297296"
            ]
          },
          "metadata": {},
          "execution_count": 273
        }
      ]
    },
    {
      "cell_type": "code",
      "source": [
        "from sklearn.metrics import classification_report\n",
        "print(classification_report(y_test, y_predictsvc))"
      ],
      "metadata": {
        "colab": {
          "base_uri": "https://localhost:8080/"
        },
        "id": "Z7LeFeEaTK8Q",
        "outputId": "b43b1fdb-dad5-488b-cacd-3b721e080281"
      },
      "execution_count": null,
      "outputs": [
        {
          "output_type": "stream",
          "name": "stdout",
          "text": [
            "              precision    recall  f1-score   support\n",
            "\n",
            "         1.0       0.86      0.64      0.73        85\n",
            "         2.0       0.39      0.69      0.50        29\n",
            "\n",
            "    accuracy                           0.65       114\n",
            "   macro avg       0.62      0.66      0.61       114\n",
            "weighted avg       0.74      0.65      0.67       114\n",
            "\n"
          ]
        }
      ]
    },
    {
      "cell_type": "markdown",
      "source": [
        "# Hypertuning-SVC"
      ],
      "metadata": {
        "id": "Uc9WEnx0Tp1X"
      }
    },
    {
      "cell_type": "code",
      "source": [
        "from sklearn.model_selection import GridSearchCV\n",
        "  \n",
        "# defining parameter range\n",
        "param_grid = {'C': [0.1, 1, 10, 100, 1000], \n",
        "              'gamma': [1, 0.1, 0.01, 0.001, 0.0001],\n",
        "              'kernel': ['linear', 'poly', 'rbf', 'sigmoid'] }\n",
        "\n",
        "svc_clf1= GridSearchCV(SVC(), param_grid = param_grid, cv = 5, verbose=0, n_jobs=-1,scoring='f1')\n",
        "  \n",
        "# fitting the model for grid search\n",
        "svc_clf1.fit(X_train_scaled, y_trainSM)\n"
      ],
      "metadata": {
        "colab": {
          "base_uri": "https://localhost:8080/"
        },
        "id": "XWReANeKTP3W",
        "outputId": "3a8ee7eb-19ff-4b74-fa5a-38553462f010"
      },
      "execution_count": null,
      "outputs": [
        {
          "output_type": "execute_result",
          "data": {
            "text/plain": [
              "GridSearchCV(cv=5, estimator=SVC(), n_jobs=-1,\n",
              "             param_grid={'C': [0.1, 1, 10, 100, 1000],\n",
              "                         'gamma': [1, 0.1, 0.01, 0.001, 0.0001],\n",
              "                         'kernel': ['linear', 'poly', 'rbf', 'sigmoid']},\n",
              "             scoring='f1')"
            ]
          },
          "metadata": {},
          "execution_count": 275
        }
      ]
    },
    {
      "cell_type": "code",
      "source": [
        "print(svc_clf1.best_params_)"
      ],
      "metadata": {
        "colab": {
          "base_uri": "https://localhost:8080/"
        },
        "id": "c2lsqakaXAZc",
        "outputId": "e3256d4c-3966-4422-d492-34f0016b601e"
      },
      "execution_count": null,
      "outputs": [
        {
          "output_type": "stream",
          "name": "stdout",
          "text": [
            "{'C': 1, 'gamma': 1, 'kernel': 'rbf'}\n"
          ]
        }
      ]
    },
    {
      "cell_type": "code",
      "source": [
        "svc_clf2 = SVC(C=1, gamma=1,kernel='rbf')\n",
        "svc_clf2.fit(X_train_scaled, y_trainSM)#training \n",
        "y_predictsvc1=svc_clf2.predict(X_test_scaled)#testing\n",
        "accuracy_svc = f1_score(y_test,y_predictsvc1)#checking performance\n",
        "accuracy_svc"
      ],
      "metadata": {
        "colab": {
          "base_uri": "https://localhost:8080/"
        },
        "id": "zh-wur6_cpDU",
        "outputId": "f007706d-9fa2-47f0-b460-12ff6d1ee41c"
      },
      "execution_count": null,
      "outputs": [
        {
          "output_type": "execute_result",
          "data": {
            "text/plain": [
              "0.8275862068965517"
            ]
          },
          "metadata": {},
          "execution_count": 277
        }
      ]
    },
    {
      "cell_type": "code",
      "source": [
        "from sklearn.metrics import classification_report\n",
        "print(classification_report(y_test, y_predictsvc1))"
      ],
      "metadata": {
        "colab": {
          "base_uri": "https://localhost:8080/"
        },
        "id": "EoafixZldMYZ",
        "outputId": "39efc337-4cef-4008-ba1f-c602f2ae2e1e"
      },
      "execution_count": null,
      "outputs": [
        {
          "output_type": "stream",
          "name": "stdout",
          "text": [
            "              precision    recall  f1-score   support\n",
            "\n",
            "         1.0       0.81      0.85      0.83        85\n",
            "         2.0       0.48      0.41      0.44        29\n",
            "\n",
            "    accuracy                           0.74       114\n",
            "   macro avg       0.64      0.63      0.64       114\n",
            "weighted avg       0.73      0.74      0.73       114\n",
            "\n"
          ]
        }
      ]
    },
    {
      "cell_type": "markdown",
      "source": [
        "#14. Random Forest"
      ],
      "metadata": {
        "id": "DrbMi_4PfzzZ"
      }
    },
    {
      "cell_type": "markdown",
      "source": [
        "#Model Training "
      ],
      "metadata": {
        "id": "cJN_gh7cfOf-"
      }
    },
    {
      "cell_type": "code",
      "source": [
        "rf_clf = RandomForestClassifier(random_state=42)\n",
        "rf_clf.fit(X_train_scaled,y_trainSM)"
      ],
      "metadata": {
        "colab": {
          "base_uri": "https://localhost:8080/"
        },
        "id": "VK36yHkLdnL0",
        "outputId": "59df1e5d-a3b6-4676-b58a-525181c803d2"
      },
      "execution_count": null,
      "outputs": [
        {
          "output_type": "execute_result",
          "data": {
            "text/plain": [
              "RandomForestClassifier(random_state=42)"
            ]
          },
          "metadata": {},
          "execution_count": 279
        }
      ]
    },
    {
      "cell_type": "markdown",
      "source": [
        "# Molel Evaluation"
      ],
      "metadata": {
        "id": "WowmjE-Cgf4b"
      }
    },
    {
      "cell_type": "code",
      "source": [
        "y_predictrf = rf_clf.predict(X_test_scaled)\n",
        "f1 = f1_score(y_test,y_predictrf)\n",
        "f1"
      ],
      "metadata": {
        "colab": {
          "base_uri": "https://localhost:8080/"
        },
        "id": "MD_bcuz-fzXh",
        "outputId": "7c7fe123-b107-435c-ce7f-0deab4ed4482"
      },
      "execution_count": null,
      "outputs": [
        {
          "output_type": "execute_result",
          "data": {
            "text/plain": [
              "0.7784431137724551"
            ]
          },
          "metadata": {},
          "execution_count": 280
        }
      ]
    },
    {
      "cell_type": "markdown",
      "source": [
        "# Hypertuning-Random Forest Classifier"
      ],
      "metadata": {
        "id": "YKu1wnOugm_T"
      }
    },
    {
      "cell_type": "code",
      "source": [
        "from sklearn.model_selection import RandomizedSearchCV\n",
        "\n",
        "n_estimators = [100,200, 400, 600, 800, 1000]\n",
        "max_features = ['auto', 'sqrt']\n",
        "max_depth = [10, 20, 30, 40, 50, 60, 70, 80, 90, 100, 110]\n",
        "max_depth.append(None)\n",
        "min_samples_split = [2, 5, 10]\n",
        "min_samples_leaf = [1, 2, 4]\n",
        "bootstrap = [True, False]\n",
        "\n",
        "random_grid = {'n_estimators': n_estimators, 'max_features': max_features,\n",
        "               'max_depth': max_depth, 'min_samples_split': min_samples_split,\n",
        "               'min_samples_leaf': min_samples_leaf, 'bootstrap': bootstrap}\n",
        "\n",
        "rf_clf1 = RandomForestClassifier(random_state=42)\n",
        "\n",
        "rf_cv = RandomizedSearchCV(estimator=rf_clf1, scoring='f1',param_distributions=random_grid, n_iter=100, cv=5, \n",
        "                               verbose=2, random_state=42, n_jobs=-1)\n",
        "\n",
        "rf_cv.fit(X_train_scaled, y_trainSM)\n",
        "rf_best_params = rf_cv.best_params_\n",
        "print(f\"Best paramters: {rf_best_params})\")"
      ],
      "metadata": {
        "colab": {
          "base_uri": "https://localhost:8080/"
        },
        "id": "CkfZW8ScgJCA",
        "outputId": "e4aeb46d-d52c-4669-a3eb-048369ddd109"
      },
      "execution_count": null,
      "outputs": [
        {
          "output_type": "stream",
          "name": "stdout",
          "text": [
            "Fitting 5 folds for each of 100 candidates, totalling 500 fits\n",
            "Best paramters: {'n_estimators': 200, 'min_samples_split': 2, 'min_samples_leaf': 1, 'max_features': 'auto', 'max_depth': 70, 'bootstrap': False})\n"
          ]
        }
      ]
    },
    {
      "cell_type": "code",
      "source": [
        "rf_clf2 = RandomForestClassifier(n_estimators = 200, min_samples_split = 2, min_samples_leaf = 1, max_features= 'auto', max_depth= 70, bootstrap=False)\n",
        "rf_clf2.fit(X_train_scaled, y_trainSM)#training \n",
        "y_predictrf1=rf_clf2.predict(X_test_scaled)#testing\n",
        "accuracy = f1_score(y_test,y_predictrf1)#checking performance\n",
        "accuracy"
      ],
      "metadata": {
        "colab": {
          "base_uri": "https://localhost:8080/"
        },
        "id": "gf3RBeD5hI5E",
        "outputId": "6068ce4e-e837-43e1-d185-5ffc4333ffd7"
      },
      "execution_count": null,
      "outputs": [
        {
          "output_type": "execute_result",
          "data": {
            "text/plain": [
              "0.7757575757575759"
            ]
          },
          "metadata": {},
          "execution_count": 282
        }
      ]
    },
    {
      "cell_type": "markdown",
      "source": [
        "#15. Conclusion"
      ],
      "metadata": {
        "id": "vXX-70Hrjssj"
      }
    },
    {
      "cell_type": "markdown",
      "source": [
        "After hypertuning all the 3 models viz: Logistic Regression , SVC, and RandomForestClassifier we Got the highest Accuracy SVC so we are concluding that the SVC is the Best model to train this Dataset to get the best Accuracy"
      ],
      "metadata": {
        "id": "dCdRsmrdjyrU"
      }
    },
    {
      "cell_type": "code",
      "source": [],
      "metadata": {
        "id": "uHlLDCp8jiqD"
      },
      "execution_count": null,
      "outputs": []
    }
  ]
}